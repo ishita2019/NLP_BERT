{
  "nbformat": 4,
  "nbformat_minor": 0,
  "metadata": {
    "colab": {
      "name": "BERT_TRAINING_LABELS_CLASSIFICATION",
      "provenance": [],
      "collapsed_sections": [],
      "authorship_tag": "ABX9TyMOhduDXAZDIZHlA9HPj7f5",
      "include_colab_link": true
    },
    "kernelspec": {
      "name": "python3",
      "display_name": "Python 3"
    },
    "accelerator": "GPU"
  },
  "cells": [
    {
      "cell_type": "markdown",
      "metadata": {
        "id": "view-in-github",
        "colab_type": "text"
      },
      "source": [
        "<a href=\"https://colab.research.google.com/github/ishita2019/NLP_BERT/blob/main/BERT_TRAINING_LABELS_CLASSIFICATION.ipynb\" target=\"_parent\"><img src=\"https://colab.research.google.com/assets/colab-badge.svg\" alt=\"Open In Colab\"/></a>"
      ]
    },
    {
      "cell_type": "code",
      "metadata": {
        "id": "ybdyyp9lDagy",
        "outputId": "369394fa-a859-4e7e-bd62-9bbcd2163717",
        "colab": {
          "base_uri": "https://localhost:8080/",
          "height": 35
        }
      },
      "source": [
        "from google.colab import drive\n",
        "drive.mount('/content/gdrive',force_remount=True)"
      ],
      "execution_count": 1,
      "outputs": [
        {
          "output_type": "stream",
          "text": [
            "Mounted at /content/gdrive\n"
          ],
          "name": "stdout"
        }
      ]
    },
    {
      "cell_type": "code",
      "metadata": {
        "id": "7Ilx9Xj7v-DM",
        "outputId": "3733cee1-e33a-446d-9c5c-208e1406bf7b",
        "colab": {
          "base_uri": "https://localhost:8080/",
          "height": 104
        }
      },
      "source": [
        "%tensorflow_version 1.15.0"
      ],
      "execution_count": 2,
      "outputs": [
        {
          "output_type": "stream",
          "text": [
            "`%tensorflow_version` only switches the major version: 1.x or 2.x.\n",
            "You set: `1.15.0`. This will be interpreted as: `1.x`.\n",
            "\n",
            "\n",
            "TensorFlow 1.x selected.\n"
          ],
          "name": "stdout"
        }
      ]
    },
    {
      "cell_type": "code",
      "metadata": {
        "id": "OYiI_im8soW9"
      },
      "source": [
        "import numpy as np\n",
        "import pandas as pd\n",
        "import os\n",
        "from sklearn.model_selection import train_test_split\n",
        "import tensorflow as tf\n",
        "import tensorflow_hub as hub\n",
        "from datetime import datetime"
      ],
      "execution_count": 3,
      "outputs": []
    },
    {
      "cell_type": "code",
      "metadata": {
        "id": "NA0wiJBdtiig",
        "outputId": "17b0a24a-cdf8-461d-a721-6c21764586b5",
        "colab": {
          "base_uri": "https://localhost:8080/",
          "height": 35
        }
      },
      "source": [
        "print(tf.__version__)"
      ],
      "execution_count": 4,
      "outputs": [
        {
          "output_type": "stream",
          "text": [
            "1.15.2\n"
          ],
          "name": "stdout"
        }
      ]
    },
    {
      "cell_type": "code",
      "metadata": {
        "id": "e-VVhnkvtr2P",
        "outputId": "f6a09a94-c00e-408c-e39d-22c59aaabcff",
        "colab": {
          "base_uri": "https://localhost:8080/",
          "height": 52
        }
      },
      "source": [
        "!pip install bert-tensorflow==1.0.1"
      ],
      "execution_count": 5,
      "outputs": [
        {
          "output_type": "stream",
          "text": [
            "Requirement already satisfied: bert-tensorflow==1.0.1 in /usr/local/lib/python3.6/dist-packages (1.0.1)\n",
            "Requirement already satisfied: six in /usr/local/lib/python3.6/dist-packages (from bert-tensorflow==1.0.1) (1.15.0)\n"
          ],
          "name": "stdout"
        }
      ]
    },
    {
      "cell_type": "code",
      "metadata": {
        "id": "FIpgSlDqt0e8",
        "outputId": "156be26a-7c41-4020-b6d3-fe42d4d5f0de",
        "colab": {
          "base_uri": "https://localhost:8080/",
          "height": 72
        }
      },
      "source": [
        "#imporing all the models and methods needed to train BERT model\n",
        "\n",
        "import bert\n",
        "from bert import run_classifier\n",
        "from bert import optimization\n",
        "from bert import tokenization\n",
        "from bert import modeling"
      ],
      "execution_count": 6,
      "outputs": [
        {
          "output_type": "stream",
          "text": [
            "WARNING:tensorflow:From /usr/local/lib/python3.6/dist-packages/bert/optimization.py:87: The name tf.train.Optimizer is deprecated. Please use tf.compat.v1.train.Optimizer instead.\n",
            "\n"
          ],
          "name": "stdout"
        }
      ]
    },
    {
      "cell_type": "code",
      "metadata": {
        "id": "bKHdu_eYwlRH",
        "outputId": "d3775a3f-e37b-40b2-a5c2-2dde71ae06cf",
        "colab": {
          "base_uri": "https://localhost:8080/",
          "height": 35
        }
      },
      "source": [
        "#setting the output directory for saving checkpoints and final model file\n",
        "OUTPUT_DIR='/gdrive/My Drive/Colab Notebooks/Independent study/BERT/Astronomical_Objects_Labels_Classifier'\n",
        "\n",
        "#Either clear the existing directory or make a new one\n",
        "\n",
        "do_delete= False\n",
        "\n",
        "if do_delete:\n",
        "  try:\n",
        "    tf.gfile.DeleteRecursively(OUTPUT_DIR)\n",
        "  except:\n",
        "    pass\n",
        "\n",
        "tf.gfile.MakeDirs(OUTPUT_DIR)\n",
        "print( \"---Model Output Directory Format: {} ---\".format(OUTPUT_DIR))"
      ],
      "execution_count": 48,
      "outputs": [
        {
          "output_type": "stream",
          "text": [
            "---Model Output Directory Format: /gdrive/My Drive/Colab Notebooks/Independent study/BERT/Astronomical_Objects_Labels_Classifier ---\n"
          ],
          "name": "stdout"
        }
      ]
    },
    {
      "cell_type": "code",
      "metadata": {
        "id": "M78_ZGByDH6i"
      },
      "source": [
        "os.getcwd()\n",
        "from sys import path"
      ],
      "execution_count": 7,
      "outputs": []
    },
    {
      "cell_type": "code",
      "metadata": {
        "id": "Mk7QCzQmDQ_0"
      },
      "source": [
        "os.chdir(\"/content/gdrive/My Drive/Colab Notebooks/Independent study/\")\n",
        "path.append(\"/content/gdrive/My\\ Drive/Colab\\ Notebooks/Independent\\ study/\")"
      ],
      "execution_count": 8,
      "outputs": []
    },
    {
      "cell_type": "code",
      "metadata": {
        "id": "Qynr7kHCCk7z"
      },
      "source": [
        "text_data=pd.read_csv('ClassifyingImages/classifications/class_photos_ocr_tmp_text_classifications_surroundText.csv')"
      ],
      "execution_count": 9,
      "outputs": []
    },
    {
      "cell_type": "code",
      "metadata": {
        "id": "dJex3BRsD2ol",
        "outputId": "6f398f18-0e6f-4069-e49e-fb89db87fe99",
        "colab": {
          "base_uri": "https://localhost:8080/",
          "height": 662
        }
      },
      "source": [
        "text_data.head(20)"
      ],
      "execution_count": 10,
      "outputs": [
        {
          "output_type": "execute_result",
          "data": {
            "text/html": [
              "<div>\n",
              "<style scoped>\n",
              "    .dataframe tbody tr th:only-of-type {\n",
              "        vertical-align: middle;\n",
              "    }\n",
              "\n",
              "    .dataframe tbody tr th {\n",
              "        vertical-align: top;\n",
              "    }\n",
              "\n",
              "    .dataframe thead th {\n",
              "        text-align: right;\n",
              "    }\n",
              "</style>\n",
              "<table border=\"1\" class=\"dataframe\">\n",
              "  <thead>\n",
              "    <tr style=\"text-align: right;\">\n",
              "      <th></th>\n",
              "      <th>caption</th>\n",
              "      <th>class</th>\n",
              "      <th>title</th>\n",
              "      <th>xlabel</th>\n",
              "      <th>ylabel</th>\n",
              "      <th>fname</th>\n",
              "    </tr>\n",
              "  </thead>\n",
              "  <tbody>\n",
              "    <tr>\n",
              "      <th>0</th>\n",
              "      <td>Fig. 12—Same as Fig. 12, but for the September...</td>\n",
              "      <td>Sun</td>\n",
              "      <td>NaN</td>\n",
              "      <td>NaN</td>\n",
              "      <td>NaN</td>\n",
              "      <td>a6f140f5-0583-48a8-a346-ad1666f54470_s00</td>\n",
              "    </tr>\n",
              "    <tr>\n",
              "      <th>1</th>\n",
              "      <td>NaN</td>\n",
              "      <td>Sun</td>\n",
              "      <td>NaN</td>\n",
              "      <td>NaN</td>\n",
              "      <td>NaN</td>\n",
              "      <td>8ed40b02-eeff-4426-9467-85aa7fc95890_s00</td>\n",
              "    </tr>\n",
              "    <tr>\n",
              "      <th>2</th>\n",
              "      <td>Fig. 6.—C 1v spectroheliogram and line profile...</td>\n",
              "      <td>Sun</td>\n",
              "      <td>NaN</td>\n",
              "      <td>NaN</td>\n",
              "      <td>NaN</td>\n",
              "      <td>c0e2de31-d8a2-4fa0-ac05-f15750fea2c2_s00</td>\n",
              "    </tr>\n",
              "    <tr>\n",
              "      <th>3</th>\n",
              "      <td>NaN</td>\n",
              "      <td>Sun</td>\n",
              "      <td>NaN</td>\n",
              "      <td>NaN</td>\n",
              "      <td>NaN</td>\n",
              "      <td>30ae38f0-dc5a-41ee-b837-8140061a427e_s00</td>\n",
              "    </tr>\n",
              "    <tr>\n",
              "      <th>4</th>\n",
              "      <td>Fig. la Fig. 1.—{a) Part of the continuum imag...</td>\n",
              "      <td>Sun</td>\n",
              "      <td>NaN</td>\n",
              "      <td>NaN</td>\n",
              "      <td>NaN</td>\n",
              "      <td>61ec9a54-07b9-43df-8f66-bb7620883f56_s00</td>\n",
              "    </tr>\n",
              "    <tr>\n",
              "      <th>5</th>\n",
              "      <td>Fig. 8.—Dynamic spectrum records of 500-1000 M...</td>\n",
              "      <td>Sun</td>\n",
              "      <td>NaN</td>\n",
              "      <td>NaN</td>\n",
              "      <td>NaN</td>\n",
              "      <td>51a922e5-e299-45d2-b26b-794800f103f6_s00</td>\n",
              "    </tr>\n",
              "    <tr>\n",
              "      <th>6</th>\n",
              "      <td>Fig. 1—The full-day synthesis cat if the activ...</td>\n",
              "      <td>Sun</td>\n",
              "      <td>NaN</td>\n",
              "      <td>NaN</td>\n",
              "      <td>NaN</td>\n",
              "      <td>7b61294b-d957-4ec4-964d-21ace15e52ac_s00</td>\n",
              "    </tr>\n",
              "    <tr>\n",
              "      <th>7</th>\n",
              "      <td>NaN</td>\n",
              "      <td>Sun</td>\n",
              "      <td>NaN</td>\n",
              "      <td>NaN</td>\n",
              "      <td>NaN</td>\n",
              "      <td>732ed371-3d12-484e-b6a5-b4c1225778fe_s00</td>\n",
              "    </tr>\n",
              "    <tr>\n",
              "      <th>8</th>\n",
              "      <td>Fig. 2.—Image road map to the event studied he...</td>\n",
              "      <td>Sun</td>\n",
              "      <td>NaN</td>\n",
              "      <td>NaN</td>\n",
              "      <td>NaN</td>\n",
              "      <td>0af6b80f-7234-4bd9-8bd2-8b7c0d25bf4b_s00</td>\n",
              "    </tr>\n",
              "    <tr>\n",
              "      <th>9</th>\n",
              "      <td>NaN</td>\n",
              "      <td>Sun</td>\n",
              "      <td>NaN</td>\n",
              "      <td>NaN</td>\n",
              "      <td>NaN</td>\n",
              "      <td>eb566880-6937-45d2-8fae-1c8cad291947_s00</td>\n",
              "    </tr>\n",
              "    <tr>\n",
              "      <th>10</th>\n",
              "      <td>NaN</td>\n",
              "      <td>Sun</td>\n",
              "      <td>NaN</td>\n",
              "      <td>NaN</td>\n",
              "      <td>NaN</td>\n",
              "      <td>48c3545c-4a73-486f-aa63-81220276d873_s00</td>\n",
              "    </tr>\n",
              "    <tr>\n",
              "      <th>11</th>\n",
              "      <td>NaN</td>\n",
              "      <td>Sun</td>\n",
              "      <td>NaN</td>\n",
              "      <td>NaN</td>\n",
              "      <td>NaN</td>\n",
              "      <td>50f6e16c-7aba-4042-a321-832364ef5fdb_s00</td>\n",
              "    </tr>\n",
              "    <tr>\n",
              "      <th>12</th>\n",
              "      <td>Fig. 4a Fig. 4.—{a) The longitudinal magnetic ...</td>\n",
              "      <td>Sun</td>\n",
              "      <td>NaN</td>\n",
              "      <td>NaN</td>\n",
              "      <td>NaN</td>\n",
              "      <td>44f28ae9-e37a-4d60-a0be-3cda9314e8c0_s00</td>\n",
              "    </tr>\n",
              "    <tr>\n",
              "      <th>13</th>\n",
              "      <td>NaN</td>\n",
              "      <td>Sun</td>\n",
              "      <td>NaN</td>\n",
              "      <td>NaN</td>\n",
              "      <td>NaN</td>\n",
              "      <td>b9a9c3a4-eaa9-4c49-b0ce-f4b342cfb039_s00</td>\n",
              "    </tr>\n",
              "    <tr>\n",
              "      <th>14</th>\n",
              "      <td>Fig. 19.—Sunspot No. 14404, photographed 12.33...</td>\n",
              "      <td>Sun</td>\n",
              "      <td>NaN</td>\n",
              "      <td>NaN</td>\n",
              "      <td>NaN</td>\n",
              "      <td>0b1f9dd7-e8f0-458d-b404-51214c0b0b78_s00</td>\n",
              "    </tr>\n",
              "    <tr>\n",
              "      <th>15</th>\n",
              "      <td>Fig. 1—Full-disk, white-light photograph made ...</td>\n",
              "      <td>Sun</td>\n",
              "      <td>NaN</td>\n",
              "      <td>NaN</td>\n",
              "      <td>NaN</td>\n",
              "      <td>35617b5f-4c21-4808-acd1-32aa14a029b2_s00</td>\n",
              "    </tr>\n",
              "    <tr>\n",
              "      <th>16</th>\n",
              "      <td>Fig. 7.—Preflare SXT images. Each image is 192...</td>\n",
              "      <td>Sun</td>\n",
              "      <td>NaN</td>\n",
              "      <td>NaN</td>\n",
              "      <td>NaN</td>\n",
              "      <td>7cbcae72-a463-4066-b1fb-9cb97d0cb438_s00</td>\n",
              "    </tr>\n",
              "    <tr>\n",
              "      <th>17</th>\n",
              "      <td>NaN</td>\n",
              "      <td>Sun</td>\n",
              "      <td>NaN</td>\n",
              "      <td>NaN</td>\n",
              "      <td>NaN</td>\n",
              "      <td>967bdeff-e008-4faa-b2a0-05c40a6dc812_s00</td>\n",
              "    </tr>\n",
              "    <tr>\n",
              "      <th>18</th>\n",
              "      <td>Fig. 1.—Climax spectrograms of \\ 6374 (above) ...</td>\n",
              "      <td>Sun</td>\n",
              "      <td>NaN</td>\n",
              "      <td>NaN</td>\n",
              "      <td>NaN</td>\n",
              "      <td>54165b93-7628-4197-9549-da7b31215b53_s00</td>\n",
              "    </tr>\n",
              "    <tr>\n",
              "      <th>19</th>\n",
              "      <td>Fig. 1.—Composite photographs of He 11 304 A i...</td>\n",
              "      <td>Sun</td>\n",
              "      <td>NaN</td>\n",
              "      <td>NaN</td>\n",
              "      <td>NaN</td>\n",
              "      <td>4b46c391-03bb-47f4-a996-938e3d97abcd_s00</td>\n",
              "    </tr>\n",
              "  </tbody>\n",
              "</table>\n",
              "</div>"
            ],
            "text/plain": [
              "                                              caption  ...                                     fname\n",
              "0   Fig. 12—Same as Fig. 12, but for the September...  ...  a6f140f5-0583-48a8-a346-ad1666f54470_s00\n",
              "1                                                 NaN  ...  8ed40b02-eeff-4426-9467-85aa7fc95890_s00\n",
              "2   Fig. 6.—C 1v spectroheliogram and line profile...  ...  c0e2de31-d8a2-4fa0-ac05-f15750fea2c2_s00\n",
              "3                                                 NaN  ...  30ae38f0-dc5a-41ee-b837-8140061a427e_s00\n",
              "4   Fig. la Fig. 1.—{a) Part of the continuum imag...  ...  61ec9a54-07b9-43df-8f66-bb7620883f56_s00\n",
              "5   Fig. 8.—Dynamic spectrum records of 500-1000 M...  ...  51a922e5-e299-45d2-b26b-794800f103f6_s00\n",
              "6   Fig. 1—The full-day synthesis cat if the activ...  ...  7b61294b-d957-4ec4-964d-21ace15e52ac_s00\n",
              "7                                                 NaN  ...  732ed371-3d12-484e-b6a5-b4c1225778fe_s00\n",
              "8   Fig. 2.—Image road map to the event studied he...  ...  0af6b80f-7234-4bd9-8bd2-8b7c0d25bf4b_s00\n",
              "9                                                 NaN  ...  eb566880-6937-45d2-8fae-1c8cad291947_s00\n",
              "10                                                NaN  ...  48c3545c-4a73-486f-aa63-81220276d873_s00\n",
              "11                                                NaN  ...  50f6e16c-7aba-4042-a321-832364ef5fdb_s00\n",
              "12  Fig. 4a Fig. 4.—{a) The longitudinal magnetic ...  ...  44f28ae9-e37a-4d60-a0be-3cda9314e8c0_s00\n",
              "13                                                NaN  ...  b9a9c3a4-eaa9-4c49-b0ce-f4b342cfb039_s00\n",
              "14  Fig. 19.—Sunspot No. 14404, photographed 12.33...  ...  0b1f9dd7-e8f0-458d-b404-51214c0b0b78_s00\n",
              "15  Fig. 1—Full-disk, white-light photograph made ...  ...  35617b5f-4c21-4808-acd1-32aa14a029b2_s00\n",
              "16  Fig. 7.—Preflare SXT images. Each image is 192...  ...  7cbcae72-a463-4066-b1fb-9cb97d0cb438_s00\n",
              "17                                                NaN  ...  967bdeff-e008-4faa-b2a0-05c40a6dc812_s00\n",
              "18  Fig. 1.—Climax spectrograms of \\ 6374 (above) ...  ...  54165b93-7628-4197-9549-da7b31215b53_s00\n",
              "19  Fig. 1.—Composite photographs of He 11 304 A i...  ...  4b46c391-03bb-47f4-a996-938e3d97abcd_s00\n",
              "\n",
              "[20 rows x 6 columns]"
            ]
          },
          "metadata": {
            "tags": []
          },
          "execution_count": 10
        }
      ]
    },
    {
      "cell_type": "code",
      "metadata": {
        "id": "sP5zvVxMFNrm",
        "outputId": "fa803b44-c3a3-4833-e35f-9a3c32f2dbad",
        "colab": {
          "base_uri": "https://localhost:8080/",
          "height": 35
        }
      },
      "source": [
        "len(text_data)"
      ],
      "execution_count": 11,
      "outputs": [
        {
          "output_type": "execute_result",
          "data": {
            "text/plain": [
              "3336"
            ]
          },
          "metadata": {
            "tags": []
          },
          "execution_count": 11
        }
      ]
    },
    {
      "cell_type": "code",
      "metadata": {
        "id": "39f0yMatGF_S",
        "outputId": "439f65bc-f3af-4284-94a1-48042701707f",
        "colab": {
          "base_uri": "https://localhost:8080/",
          "height": 35
        }
      },
      "source": [
        "text_data_woDup= text_data.drop_duplicates()\n",
        "text_data=text_data_woDup\n",
        "len(text_data)"
      ],
      "execution_count": 12,
      "outputs": [
        {
          "output_type": "execute_result",
          "data": {
            "text/plain": [
              "3336"
            ]
          },
          "metadata": {
            "tags": []
          },
          "execution_count": 12
        }
      ]
    },
    {
      "cell_type": "code",
      "metadata": {
        "id": "9y8q35rIGwA1",
        "outputId": "7fc823ce-b6e1-4a80-93e8-1f468387e32f",
        "colab": {
          "base_uri": "https://localhost:8080/",
          "height": 69
        }
      },
      "source": [
        "text_data['class'].unique()"
      ],
      "execution_count": 13,
      "outputs": [
        {
          "output_type": "execute_result",
          "data": {
            "text/plain": [
              "array(['Sun', 'Multifig', 'RADEC', 'Spectra', 'RADECrel', 'Illustrations',\n",
              "       'Graph', 'Simulations', 'Planets', 'SkyNoCoords', 'Photos'],\n",
              "      dtype=object)"
            ]
          },
          "metadata": {
            "tags": []
          },
          "execution_count": 13
        }
      ]
    },
    {
      "cell_type": "code",
      "metadata": {
        "id": "-yiunkTDHEfF"
      },
      "source": [
        "#Assigning numbers to these class labels\n",
        "#'Sun'=0,'Multifig'=1, 'RADEC'=2, 'Spectra'=3, 'RADECrel'=4, 'Illustrations'=5,\n",
        "#     'Graph'=6, 'Simulations'=7, 'Planets'=8, 'SkyNoCoords'=9, 'Photos'=10 "
      ],
      "execution_count": 14,
      "outputs": []
    },
    {
      "cell_type": "code",
      "metadata": {
        "id": "vSzW8jaKIbAQ"
      },
      "source": [
        "text_data.loc[text_data['class'] == 'Sun', 'class'] = 0\n",
        "text_data.loc[text_data['class'] == 'Multifig', 'class'] = 1\n",
        "text_data.loc[text_data['class'] == 'RADEC', 'class'] = 2\n",
        "text_data.loc[text_data['class'] == 'Spectra', 'class'] = 3\n",
        "text_data.loc[text_data['class'] == 'RADECrel', 'class'] = 4\n",
        "text_data.loc[text_data['class'] == 'Illustrations', 'class'] = 5\n",
        "text_data.loc[text_data['class'] == 'Graph', 'class'] = 6\n",
        "text_data.loc[text_data['class'] == 'Simulations', 'class'] = 7\n",
        "text_data.loc[text_data['class'] == 'Planets', 'class'] = 8\n",
        "text_data.loc[text_data['class'] == 'SkyNoCoords', 'class'] = 9\n",
        "text_data.loc[text_data['class'] == 'Photos', 'class'] = 10"
      ],
      "execution_count": 15,
      "outputs": []
    },
    {
      "cell_type": "code",
      "metadata": {
        "id": "kQwPeUgmLb1Z",
        "outputId": "8d6f1846-e9f3-4fe9-ac25-6f63e9240292",
        "colab": {
          "base_uri": "https://localhost:8080/",
          "height": 202
        }
      },
      "source": [
        "text_data.head()"
      ],
      "execution_count": 16,
      "outputs": [
        {
          "output_type": "execute_result",
          "data": {
            "text/html": [
              "<div>\n",
              "<style scoped>\n",
              "    .dataframe tbody tr th:only-of-type {\n",
              "        vertical-align: middle;\n",
              "    }\n",
              "\n",
              "    .dataframe tbody tr th {\n",
              "        vertical-align: top;\n",
              "    }\n",
              "\n",
              "    .dataframe thead th {\n",
              "        text-align: right;\n",
              "    }\n",
              "</style>\n",
              "<table border=\"1\" class=\"dataframe\">\n",
              "  <thead>\n",
              "    <tr style=\"text-align: right;\">\n",
              "      <th></th>\n",
              "      <th>caption</th>\n",
              "      <th>class</th>\n",
              "      <th>title</th>\n",
              "      <th>xlabel</th>\n",
              "      <th>ylabel</th>\n",
              "      <th>fname</th>\n",
              "    </tr>\n",
              "  </thead>\n",
              "  <tbody>\n",
              "    <tr>\n",
              "      <th>0</th>\n",
              "      <td>Fig. 12—Same as Fig. 12, but for the September...</td>\n",
              "      <td>0</td>\n",
              "      <td>NaN</td>\n",
              "      <td>NaN</td>\n",
              "      <td>NaN</td>\n",
              "      <td>a6f140f5-0583-48a8-a346-ad1666f54470_s00</td>\n",
              "    </tr>\n",
              "    <tr>\n",
              "      <th>1</th>\n",
              "      <td>NaN</td>\n",
              "      <td>0</td>\n",
              "      <td>NaN</td>\n",
              "      <td>NaN</td>\n",
              "      <td>NaN</td>\n",
              "      <td>8ed40b02-eeff-4426-9467-85aa7fc95890_s00</td>\n",
              "    </tr>\n",
              "    <tr>\n",
              "      <th>2</th>\n",
              "      <td>Fig. 6.—C 1v spectroheliogram and line profile...</td>\n",
              "      <td>0</td>\n",
              "      <td>NaN</td>\n",
              "      <td>NaN</td>\n",
              "      <td>NaN</td>\n",
              "      <td>c0e2de31-d8a2-4fa0-ac05-f15750fea2c2_s00</td>\n",
              "    </tr>\n",
              "    <tr>\n",
              "      <th>3</th>\n",
              "      <td>NaN</td>\n",
              "      <td>0</td>\n",
              "      <td>NaN</td>\n",
              "      <td>NaN</td>\n",
              "      <td>NaN</td>\n",
              "      <td>30ae38f0-dc5a-41ee-b837-8140061a427e_s00</td>\n",
              "    </tr>\n",
              "    <tr>\n",
              "      <th>4</th>\n",
              "      <td>Fig. la Fig. 1.—{a) Part of the continuum imag...</td>\n",
              "      <td>0</td>\n",
              "      <td>NaN</td>\n",
              "      <td>NaN</td>\n",
              "      <td>NaN</td>\n",
              "      <td>61ec9a54-07b9-43df-8f66-bb7620883f56_s00</td>\n",
              "    </tr>\n",
              "  </tbody>\n",
              "</table>\n",
              "</div>"
            ],
            "text/plain": [
              "                                             caption  ...                                     fname\n",
              "0  Fig. 12—Same as Fig. 12, but for the September...  ...  a6f140f5-0583-48a8-a346-ad1666f54470_s00\n",
              "1                                                NaN  ...  8ed40b02-eeff-4426-9467-85aa7fc95890_s00\n",
              "2  Fig. 6.—C 1v spectroheliogram and line profile...  ...  c0e2de31-d8a2-4fa0-ac05-f15750fea2c2_s00\n",
              "3                                                NaN  ...  30ae38f0-dc5a-41ee-b837-8140061a427e_s00\n",
              "4  Fig. la Fig. 1.—{a) Part of the continuum imag...  ...  61ec9a54-07b9-43df-8f66-bb7620883f56_s00\n",
              "\n",
              "[5 rows x 6 columns]"
            ]
          },
          "metadata": {
            "tags": []
          },
          "execution_count": 16
        }
      ]
    },
    {
      "cell_type": "code",
      "metadata": {
        "id": "0T6AUCI1L59K"
      },
      "source": [
        "text_data=text_data.drop(['title', 'xlabel','ylabel','fname'], axis=1)"
      ],
      "execution_count": 17,
      "outputs": []
    },
    {
      "cell_type": "code",
      "metadata": {
        "id": "4aJq7-AZMFja",
        "outputId": "fddbb2aa-42bf-4dfb-ac40-e7409b438d17",
        "colab": {
          "base_uri": "https://localhost:8080/",
          "height": 202
        }
      },
      "source": [
        "text_data=text_data.dropna()\n",
        "text_data.head()"
      ],
      "execution_count": 18,
      "outputs": [
        {
          "output_type": "execute_result",
          "data": {
            "text/html": [
              "<div>\n",
              "<style scoped>\n",
              "    .dataframe tbody tr th:only-of-type {\n",
              "        vertical-align: middle;\n",
              "    }\n",
              "\n",
              "    .dataframe tbody tr th {\n",
              "        vertical-align: top;\n",
              "    }\n",
              "\n",
              "    .dataframe thead th {\n",
              "        text-align: right;\n",
              "    }\n",
              "</style>\n",
              "<table border=\"1\" class=\"dataframe\">\n",
              "  <thead>\n",
              "    <tr style=\"text-align: right;\">\n",
              "      <th></th>\n",
              "      <th>caption</th>\n",
              "      <th>class</th>\n",
              "    </tr>\n",
              "  </thead>\n",
              "  <tbody>\n",
              "    <tr>\n",
              "      <th>0</th>\n",
              "      <td>Fig. 12—Same as Fig. 12, but for the September...</td>\n",
              "      <td>0</td>\n",
              "    </tr>\n",
              "    <tr>\n",
              "      <th>2</th>\n",
              "      <td>Fig. 6.—C 1v spectroheliogram and line profile...</td>\n",
              "      <td>0</td>\n",
              "    </tr>\n",
              "    <tr>\n",
              "      <th>4</th>\n",
              "      <td>Fig. la Fig. 1.—{a) Part of the continuum imag...</td>\n",
              "      <td>0</td>\n",
              "    </tr>\n",
              "    <tr>\n",
              "      <th>5</th>\n",
              "      <td>Fig. 8.—Dynamic spectrum records of 500-1000 M...</td>\n",
              "      <td>0</td>\n",
              "    </tr>\n",
              "    <tr>\n",
              "      <th>6</th>\n",
              "      <td>Fig. 1—The full-day synthesis cat if the activ...</td>\n",
              "      <td>0</td>\n",
              "    </tr>\n",
              "  </tbody>\n",
              "</table>\n",
              "</div>"
            ],
            "text/plain": [
              "                                             caption class\n",
              "0  Fig. 12—Same as Fig. 12, but for the September...     0\n",
              "2  Fig. 6.—C 1v spectroheliogram and line profile...     0\n",
              "4  Fig. la Fig. 1.—{a) Part of the continuum imag...     0\n",
              "5  Fig. 8.—Dynamic spectrum records of 500-1000 M...     0\n",
              "6  Fig. 1—The full-day synthesis cat if the activ...     0"
            ]
          },
          "metadata": {
            "tags": []
          },
          "execution_count": 18
        }
      ]
    },
    {
      "cell_type": "code",
      "metadata": {
        "id": "DeCqWUOQM2QX",
        "outputId": "66847667-09d4-411c-c663-b35a01c04ecf",
        "colab": {
          "base_uri": "https://localhost:8080/",
          "height": 35
        }
      },
      "source": [
        "len(text_data)"
      ],
      "execution_count": 19,
      "outputs": [
        {
          "output_type": "execute_result",
          "data": {
            "text/plain": [
              "2256"
            ]
          },
          "metadata": {
            "tags": []
          },
          "execution_count": 19
        }
      ]
    },
    {
      "cell_type": "code",
      "metadata": {
        "id": "3iifeWjqN5jg"
      },
      "source": [
        "\n",
        "text_data['caption'] = text_data['caption'].str.replace('Fig.','')\n",
        "#text_data['caption'] = text_data['caption'].str.replace('-',' ')"
      ],
      "execution_count": 20,
      "outputs": []
    },
    {
      "cell_type": "code",
      "metadata": {
        "id": "LmFm8zTqOdrP",
        "outputId": "bb27b096-99b6-4d91-d2b7-cc15a35141d6",
        "colab": {
          "base_uri": "https://localhost:8080/",
          "height": 202
        }
      },
      "source": [
        "text_data.head()"
      ],
      "execution_count": 21,
      "outputs": [
        {
          "output_type": "execute_result",
          "data": {
            "text/html": [
              "<div>\n",
              "<style scoped>\n",
              "    .dataframe tbody tr th:only-of-type {\n",
              "        vertical-align: middle;\n",
              "    }\n",
              "\n",
              "    .dataframe tbody tr th {\n",
              "        vertical-align: top;\n",
              "    }\n",
              "\n",
              "    .dataframe thead th {\n",
              "        text-align: right;\n",
              "    }\n",
              "</style>\n",
              "<table border=\"1\" class=\"dataframe\">\n",
              "  <thead>\n",
              "    <tr style=\"text-align: right;\">\n",
              "      <th></th>\n",
              "      <th>caption</th>\n",
              "      <th>class</th>\n",
              "    </tr>\n",
              "  </thead>\n",
              "  <tbody>\n",
              "    <tr>\n",
              "      <th>0</th>\n",
              "      <td>12—Same as  12, but for the September 12 flar...</td>\n",
              "      <td>0</td>\n",
              "    </tr>\n",
              "    <tr>\n",
              "      <th>2</th>\n",
              "      <td>6.—C 1v spectroheliogram and line profiles of...</td>\n",
              "      <td>0</td>\n",
              "    </tr>\n",
              "    <tr>\n",
              "      <th>4</th>\n",
              "      <td>la  1.—{a) Part of the continuum image near 4...</td>\n",
              "      <td>0</td>\n",
              "    </tr>\n",
              "    <tr>\n",
              "      <th>5</th>\n",
              "      <td>8.—Dynamic spectrum records of 500-1000 Mc/s ...</td>\n",
              "      <td>0</td>\n",
              "    </tr>\n",
              "    <tr>\n",
              "      <th>6</th>\n",
              "      <td>1—The full-day synthesis cat if the active-re...</td>\n",
              "      <td>0</td>\n",
              "    </tr>\n",
              "  </tbody>\n",
              "</table>\n",
              "</div>"
            ],
            "text/plain": [
              "                                             caption class\n",
              "0   12—Same as  12, but for the September 12 flar...     0\n",
              "2   6.—C 1v spectroheliogram and line profiles of...     0\n",
              "4   la  1.—{a) Part of the continuum image near 4...     0\n",
              "5   8.—Dynamic spectrum records of 500-1000 Mc/s ...     0\n",
              "6   1—The full-day synthesis cat if the active-re...     0"
            ]
          },
          "metadata": {
            "tags": []
          },
          "execution_count": 21
        }
      ]
    },
    {
      "cell_type": "code",
      "metadata": {
        "id": "-iPqAQ-wzgoa",
        "outputId": "7bf6b18c-8476-4d49-efe6-d29ae818ff51",
        "colab": {
          "base_uri": "https://localhost:8080/",
          "height": 202
        }
      },
      "source": [
        "train_data, test_data= train_test_split(text_data, test_size=0.5, random_state=100)\n",
        "train_data.head()"
      ],
      "execution_count": 22,
      "outputs": [
        {
          "output_type": "execute_result",
          "data": {
            "text/html": [
              "<div>\n",
              "<style scoped>\n",
              "    .dataframe tbody tr th:only-of-type {\n",
              "        vertical-align: middle;\n",
              "    }\n",
              "\n",
              "    .dataframe tbody tr th {\n",
              "        vertical-align: top;\n",
              "    }\n",
              "\n",
              "    .dataframe thead th {\n",
              "        text-align: right;\n",
              "    }\n",
              "</style>\n",
              "<table border=\"1\" class=\"dataframe\">\n",
              "  <thead>\n",
              "    <tr style=\"text-align: right;\">\n",
              "      <th></th>\n",
              "      <th>caption</th>\n",
              "      <th>class</th>\n",
              "    </tr>\n",
              "  </thead>\n",
              "  <tbody>\n",
              "    <tr>\n",
              "      <th>1262</th>\n",
              "      <td>1. Contour plot of our KPNO r’ band image of ...</td>\n",
              "      <td>4</td>\n",
              "    </tr>\n",
              "    <tr>\n",
              "      <th>2919</th>\n",
              "      <td>1. Finder charts for three southern LPVs take...</td>\n",
              "      <td>9</td>\n",
              "    </tr>\n",
              "    <tr>\n",
              "      <th>1851</th>\n",
              "      <td>1—Ha CCD image of Kepler’s SNR before subtrac...</td>\n",
              "      <td>9</td>\n",
              "    </tr>\n",
              "    <tr>\n",
              "      <th>2673</th>\n",
              "      <td>4—{a) CCD image of NGC 3628, showing the cent...</td>\n",
              "      <td>9</td>\n",
              "    </tr>\n",
              "    <tr>\n",
              "      <th>2823</th>\n",
              "      <td>L = pe centers of these fields are about  6. o...</td>\n",
              "      <td>9</td>\n",
              "    </tr>\n",
              "  </tbody>\n",
              "</table>\n",
              "</div>"
            ],
            "text/plain": [
              "                                                caption class\n",
              "1262   1. Contour plot of our KPNO r’ band image of ...     4\n",
              "2919   1. Finder charts for three southern LPVs take...     9\n",
              "1851   1—Ha CCD image of Kepler’s SNR before subtrac...     9\n",
              "2673   4—{a) CCD image of NGC 3628, showing the cent...     9\n",
              "2823  L = pe centers of these fields are about  6. o...     9"
            ]
          },
          "metadata": {
            "tags": []
          },
          "execution_count": 22
        }
      ]
    },
    {
      "cell_type": "code",
      "metadata": {
        "id": "vAV3L2zbPi0T",
        "outputId": "56c54363-b3b0-44d7-bc19-6642bffbb103",
        "colab": {
          "base_uri": "https://localhost:8080/",
          "height": 202
        }
      },
      "source": [
        "test_data.head()"
      ],
      "execution_count": 23,
      "outputs": [
        {
          "output_type": "execute_result",
          "data": {
            "text/html": [
              "<div>\n",
              "<style scoped>\n",
              "    .dataframe tbody tr th:only-of-type {\n",
              "        vertical-align: middle;\n",
              "    }\n",
              "\n",
              "    .dataframe tbody tr th {\n",
              "        vertical-align: top;\n",
              "    }\n",
              "\n",
              "    .dataframe thead th {\n",
              "        text-align: right;\n",
              "    }\n",
              "</style>\n",
              "<table border=\"1\" class=\"dataframe\">\n",
              "  <thead>\n",
              "    <tr style=\"text-align: right;\">\n",
              "      <th></th>\n",
              "      <th>caption</th>\n",
              "      <th>class</th>\n",
              "    </tr>\n",
              "  </thead>\n",
              "  <tbody>\n",
              "    <tr>\n",
              "      <th>404</th>\n",
              "      <td>3. Map of HCO* emission integrated over the r...</td>\n",
              "      <td>1</td>\n",
              "    </tr>\n",
              "    <tr>\n",
              "      <th>3037</th>\n",
              "      <td>3.—One-minute exposure with 200-inch telescop...</td>\n",
              "      <td>9</td>\n",
              "    </tr>\n",
              "    <tr>\n",
              "      <th>2051</th>\n",
              "      <td>1.—The region around Sharpless 140, reproduce...</td>\n",
              "      <td>9</td>\n",
              "    </tr>\n",
              "    <tr>\n",
              "      <th>663</th>\n",
              "      <td>9. Knot groups A-B-C-D of the HH 300 flow and...</td>\n",
              "      <td>2</td>\n",
              "    </tr>\n",
              "    <tr>\n",
              "      <th>100</th>\n",
              "      <td>6—Yohkoh SXT images of the 1992 February 17 l...</td>\n",
              "      <td>0</td>\n",
              "    </tr>\n",
              "  </tbody>\n",
              "</table>\n",
              "</div>"
            ],
            "text/plain": [
              "                                                caption class\n",
              "404    3. Map of HCO* emission integrated over the r...     1\n",
              "3037   3.—One-minute exposure with 200-inch telescop...     9\n",
              "2051   1.—The region around Sharpless 140, reproduce...     9\n",
              "663    9. Knot groups A-B-C-D of the HH 300 flow and...     2\n",
              "100    6—Yohkoh SXT images of the 1992 February 17 l...     0"
            ]
          },
          "metadata": {
            "tags": []
          },
          "execution_count": 23
        }
      ]
    },
    {
      "cell_type": "code",
      "metadata": {
        "id": "DE5hXGCQztBu",
        "outputId": "fd14563b-d3b3-4605-dd15-163501be17c5",
        "colab": {
          "base_uri": "https://localhost:8080/",
          "height": 202
        }
      },
      "source": [
        "val_data, test_data= train_test_split(test_data, test_size=0.2, random_state=100)\n",
        "val_data.head()"
      ],
      "execution_count": 24,
      "outputs": [
        {
          "output_type": "execute_result",
          "data": {
            "text/html": [
              "<div>\n",
              "<style scoped>\n",
              "    .dataframe tbody tr th:only-of-type {\n",
              "        vertical-align: middle;\n",
              "    }\n",
              "\n",
              "    .dataframe tbody tr th {\n",
              "        vertical-align: top;\n",
              "    }\n",
              "\n",
              "    .dataframe thead th {\n",
              "        text-align: right;\n",
              "    }\n",
              "</style>\n",
              "<table border=\"1\" class=\"dataframe\">\n",
              "  <thead>\n",
              "    <tr style=\"text-align: right;\">\n",
              "      <th></th>\n",
              "      <th>caption</th>\n",
              "      <th>class</th>\n",
              "    </tr>\n",
              "  </thead>\n",
              "  <tbody>\n",
              "    <tr>\n",
              "      <th>374</th>\n",
              "      <td>11—Enlargement of a region near the southeast...</td>\n",
              "      <td>1</td>\n",
              "    </tr>\n",
              "    <tr>\n",
              "      <th>2321</th>\n",
              "      <td>3.—A representative SXT flare image (Be filte...</td>\n",
              "      <td>9</td>\n",
              "    </tr>\n",
              "    <tr>\n",
              "      <th>166</th>\n",
              "      <td>1.—Top: Direct photograph of northwest quadra...</td>\n",
              "      <td>0</td>\n",
              "    </tr>\n",
              "    <tr>\n",
              "      <th>3254</th>\n",
              "      <td>2. Twenty minute CCD image of Cepheus A in th...</td>\n",
              "      <td>9</td>\n",
              "    </tr>\n",
              "    <tr>\n",
              "      <th>460</th>\n",
              "      <td>4.—Hydrogen contours for IC 2006, superposed ...</td>\n",
              "      <td>2</td>\n",
              "    </tr>\n",
              "  </tbody>\n",
              "</table>\n",
              "</div>"
            ],
            "text/plain": [
              "                                                caption class\n",
              "374    11—Enlargement of a region near the southeast...     1\n",
              "2321   3.—A representative SXT flare image (Be filte...     9\n",
              "166    1.—Top: Direct photograph of northwest quadra...     0\n",
              "3254   2. Twenty minute CCD image of Cepheus A in th...     9\n",
              "460    4.—Hydrogen contours for IC 2006, superposed ...     2"
            ]
          },
          "metadata": {
            "tags": []
          },
          "execution_count": 24
        }
      ]
    },
    {
      "cell_type": "code",
      "metadata": {
        "id": "YVxFqTKV0G5l",
        "outputId": "73759755-9e22-4bb0-ee4b-a00e1d7a0956",
        "colab": {
          "base_uri": "https://localhost:8080/",
          "height": 202
        }
      },
      "source": [
        "test_data.head()"
      ],
      "execution_count": 25,
      "outputs": [
        {
          "output_type": "execute_result",
          "data": {
            "text/html": [
              "<div>\n",
              "<style scoped>\n",
              "    .dataframe tbody tr th:only-of-type {\n",
              "        vertical-align: middle;\n",
              "    }\n",
              "\n",
              "    .dataframe tbody tr th {\n",
              "        vertical-align: top;\n",
              "    }\n",
              "\n",
              "    .dataframe thead th {\n",
              "        text-align: right;\n",
              "    }\n",
              "</style>\n",
              "<table border=\"1\" class=\"dataframe\">\n",
              "  <thead>\n",
              "    <tr style=\"text-align: right;\">\n",
              "      <th></th>\n",
              "      <th>caption</th>\n",
              "      <th>class</th>\n",
              "    </tr>\n",
              "  </thead>\n",
              "  <tbody>\n",
              "    <tr>\n",
              "      <th>1870</th>\n",
              "      <td>2—(a) Gray-scale reproduction of the B, band ...</td>\n",
              "      <td>9</td>\n",
              "    </tr>\n",
              "    <tr>\n",
              "      <th>3104</th>\n",
              "      <td>a  1.—Photograph in blue light of the northwes...</td>\n",
              "      <td>9</td>\n",
              "    </tr>\n",
              "    <tr>\n",
              "      <th>268</th>\n",
              "      <td>4.—Composite (b, V) diagram of the CO emissio...</td>\n",
              "      <td>1</td>\n",
              "    </tr>\n",
              "    <tr>\n",
              "      <th>3188</th>\n",
              "      <td>2.—Spatial distribution of UIT sources in M33...</td>\n",
              "      <td>9</td>\n",
              "    </tr>\n",
              "    <tr>\n",
              "      <th>2676</th>\n",
              "      <td>2—Direct plate of NGC 2110 taken by P. Véron ...</td>\n",
              "      <td>9</td>\n",
              "    </tr>\n",
              "  </tbody>\n",
              "</table>\n",
              "</div>"
            ],
            "text/plain": [
              "                                                caption class\n",
              "1870   2—(a) Gray-scale reproduction of the B, band ...     9\n",
              "3104  a  1.—Photograph in blue light of the northwes...     9\n",
              "268    4.—Composite (b, V) diagram of the CO emissio...     1\n",
              "3188   2.—Spatial distribution of UIT sources in M33...     9\n",
              "2676   2—Direct plate of NGC 2110 taken by P. Véron ...     9"
            ]
          },
          "metadata": {
            "tags": []
          },
          "execution_count": 25
        }
      ]
    },
    {
      "cell_type": "code",
      "metadata": {
        "id": "PNf6mtAC0KUf",
        "outputId": "4d7a2586-f16a-4f1e-8c4a-c5f5f95625ad",
        "colab": {
          "base_uri": "https://localhost:8080/",
          "height": 69
        }
      },
      "source": [
        "print(\"Training Data Shape---\",train_data.shape)\n",
        "print(\"Validation data shape---\", val_data.shape)\n",
        "print(\"Test data shape ---\", test_data.shape)"
      ],
      "execution_count": 26,
      "outputs": [
        {
          "output_type": "stream",
          "text": [
            "Training Data Shape--- (1128, 2)\n",
            "Validation data shape--- (902, 2)\n",
            "Test data shape --- (226, 2)\n"
          ],
          "name": "stdout"
        }
      ]
    },
    {
      "cell_type": "code",
      "metadata": {
        "id": "kc9xA7oiQiqS",
        "outputId": "47e14a36-6203-4270-daa7-c3bef92b280c",
        "colab": {
          "base_uri": "https://localhost:8080/",
          "height": 285
        }
      },
      "source": [
        "#Distribution of classess in Train Data\n",
        "train_data['class'].value_counts().plot(kind='bar')"
      ],
      "execution_count": 27,
      "outputs": [
        {
          "output_type": "execute_result",
          "data": {
            "text/plain": [
              "<matplotlib.axes._subplots.AxesSubplot at 0x7fcaeb818358>"
            ]
          },
          "metadata": {
            "tags": []
          },
          "execution_count": 27
        },
        {
          "output_type": "display_data",
          "data": {
            "image/png": "[encoded data removed]",
            "text/plain": [
              "<Figure size 432x288 with 1 Axes>"
            ]
          },
          "metadata": {
            "tags": [],
            "needs_background": "light"
          }
        }
      ]
    },
    {
      "cell_type": "code",
      "metadata": {
        "id": "w1Da5-AKRQtt"
      },
      "source": [
        "DATA_COLUMN= 'caption'\n",
        "LABEL_COLUMN='class'\n"
      ],
      "execution_count": 28,
      "outputs": []
    },
    {
      "cell_type": "markdown",
      "metadata": {
        "id": "oaYPhe30RcVB"
      },
      "source": [
        "# Data Preprocessing \n",
        "**Data Preprocessing for BERT to be trained **\n",
        "Since the BERT model accept only a specific type of input, the dataset is usually expected to be in the specific format\n",
        "\n",
        "\n",
        "\n",
        "1.   guid: An unique ID that represents an obervation(row ID)\n",
        "2.   text_a: The text input that we need to classify into given categories\n",
        "3.   text_b: Used when trainign a model would require to understand the relationship between sentences and is not application for classification problems\n",
        "4.   label: Lists the classes/categories/labels an input sentence belongs to\n",
        "\n"
      ]
    },
    {
      "cell_type": "code",
      "metadata": {
        "id": "9cvOUzzoS4sh"
      },
      "source": [
        "train_input_samples= train_data.apply(lambda x: bert.run_classifier.InputExample(guid=None, text_a=x[DATA_COLUMN], text_b=None, label=x[LABEL_COLUMN]), axis=1)\n",
        "val_input_samples=val_data.apply(lambda x: bert.run_classifier.InputExample(guid=None, text_a=x[DATA_COLUMN], text_b=None, label=x[LABEL_COLUMN]), axis=1)"
      ],
      "execution_count": 29,
      "outputs": []
    },
    {
      "cell_type": "code",
      "metadata": {
        "id": "1njRsBYdT6tf",
        "outputId": "9c7c9908-dc5b-4459-e3db-83cca8f2a770",
        "colab": {
          "base_uri": "https://localhost:8080/",
          "height": 225
        }
      },
      "source": [
        "train_input_samples"
      ],
      "execution_count": 30,
      "outputs": [
        {
          "output_type": "execute_result",
          "data": {
            "text/plain": [
              "1262    <bert.run_classifier.InputExample object at 0x...\n",
              "2919    <bert.run_classifier.InputExample object at 0x...\n",
              "1851    <bert.run_classifier.InputExample object at 0x...\n",
              "2673    <bert.run_classifier.InputExample object at 0x...\n",
              "2823    <bert.run_classifier.InputExample object at 0x...\n",
              "                              ...                        \n",
              "530     <bert.run_classifier.InputExample object at 0x...\n",
              "2888    <bert.run_classifier.InputExample object at 0x...\n",
              "125     <bert.run_classifier.InputExample object at 0x...\n",
              "2787    <bert.run_classifier.InputExample object at 0x...\n",
              "2354    <bert.run_classifier.InputExample object at 0x...\n",
              "Length: 1128, dtype: object"
            ]
          },
          "metadata": {
            "tags": []
          },
          "execution_count": 30
        }
      ]
    },
    {
      "cell_type": "code",
      "metadata": {
        "id": "64Mz51QVUFco",
        "outputId": "2554af13-dfcb-40d5-94db-3e549a24c4b6",
        "colab": {
          "base_uri": "https://localhost:8080/",
          "height": 35
        }
      },
      "source": [
        "print(train_input_samples.iloc[0].guid)"
      ],
      "execution_count": 31,
      "outputs": [
        {
          "output_type": "stream",
          "text": [
            "None\n"
          ],
          "name": "stdout"
        }
      ]
    },
    {
      "cell_type": "code",
      "metadata": {
        "id": "11tCzw41ULyz",
        "outputId": "177b7956-60ae-4255-d811-dabaa437fd6e",
        "colab": {
          "base_uri": "https://localhost:8080/",
          "height": 55
        }
      },
      "source": [
        "print(train_input_samples.iloc[0].text_a)"
      ],
      "execution_count": 32,
      "outputs": [
        {
          "output_type": "stream",
          "text": [
            " 1. Contour plot of our KPNO r’ band image of 3C346. The contours are 2a (N=1,2,3,...,12) where o=0.3 pJy/aresec’. The ‘‘+” marks the position of the optical knot. North is up and east is to the left.\n"
          ],
          "name": "stdout"
        }
      ]
    },
    {
      "cell_type": "code",
      "metadata": {
        "id": "aY2Gk6mzURF8",
        "outputId": "390575e8-e844-451a-d640-e67b3817a633",
        "colab": {
          "base_uri": "https://localhost:8080/",
          "height": 35
        }
      },
      "source": [
        "print(train_input_samples.iloc[0].text_b)"
      ],
      "execution_count": 33,
      "outputs": [
        {
          "output_type": "stream",
          "text": [
            "None\n"
          ],
          "name": "stdout"
        }
      ]
    },
    {
      "cell_type": "code",
      "metadata": {
        "id": "RP4KIKgIUVA1",
        "outputId": "727d942e-63da-43d2-df0e-6301e76d8474",
        "colab": {
          "base_uri": "https://localhost:8080/",
          "height": 35
        }
      },
      "source": [
        "print(train_input_samples.iloc[0].label)"
      ],
      "execution_count": 34,
      "outputs": [
        {
          "output_type": "stream",
          "text": [
            "4\n"
          ],
          "name": "stdout"
        }
      ]
    },
    {
      "cell_type": "code",
      "metadata": {
        "id": "vpNT0F_dWsIP"
      },
      "source": [
        "#Loading the BERT pretrained mode\n",
        "BERT_MODEL_HUB=\"https://tfhub.dev/google/bert_uncased_L-12_H-768_A-12/1\""
      ],
      "execution_count": 35,
      "outputs": []
    },
    {
      "cell_type": "code",
      "metadata": {
        "id": "ItOOBdUiXBB5"
      },
      "source": [
        "#creating tokenizer from hub_module\n",
        "\n",
        "def create_tokenizer_from_tensorflow_hub_module():\n",
        "  \"\"\" Getting the vocab file and casing information from the Hub Module\"\"\"\n",
        "  with tf.Graph().as_default():\n",
        "    bert_module = hub.Module(BERT_MODEL_HUB)\n",
        "    tokenization_info = bert_module(signature=\"tokenization_info\", as_dict=True)\n",
        "    with tf.Session() as sess:\n",
        "      vocab_file,do_lower_case= sess.run([tokenization_info[\"vocab_file\"],tokenization_info[\"do_lower_case\"]])\n",
        "  return bert.tokenization.FullTokenizer(vocab_file=vocab_file, do_lower_case=do_lower_case)\n",
        "\n"
      ],
      "execution_count": 36,
      "outputs": []
    },
    {
      "cell_type": "code",
      "metadata": {
        "id": "CF5lN3vJYdXo",
        "outputId": "b91ab16e-f42e-4967-b417-00d604231d3b",
        "colab": {
          "base_uri": "https://localhost:8080/",
          "height": 141
        }
      },
      "source": [
        "tokenizer= create_tokenizer_from_tensorflow_hub_module()"
      ],
      "execution_count": 37,
      "outputs": [
        {
          "output_type": "stream",
          "text": [
            "INFO:tensorflow:Saver not created because there are no variables in the graph to restore\n"
          ],
          "name": "stdout"
        },
        {
          "output_type": "stream",
          "text": [
            "INFO:tensorflow:Saver not created because there are no variables in the graph to restore\n"
          ],
          "name": "stderr"
        },
        {
          "output_type": "stream",
          "text": [
            "WARNING:tensorflow:From /usr/local/lib/python3.6/dist-packages/bert/tokenization.py:125: The name tf.gfile.GFile is deprecated. Please use tf.io.gfile.GFile instead.\n",
            "\n"
          ],
          "name": "stdout"
        },
        {
          "output_type": "stream",
          "text": [
            "WARNING:tensorflow:From /usr/local/lib/python3.6/dist-packages/bert/tokenization.py:125: The name tf.gfile.GFile is deprecated. Please use tf.io.gfile.GFile instead.\n",
            "\n"
          ],
          "name": "stderr"
        }
      ]
    },
    {
      "cell_type": "code",
      "metadata": {
        "id": "YixwaqwAgrLp",
        "outputId": "4369033a-6c9a-498d-d481-19a2355fc6a1",
        "colab": {
          "base_uri": "https://localhost:8080/",
          "height": 55
        }
      },
      "source": [
        "print(tokenizer.tokenize(train_input_samples.iloc[0].text_a))"
      ],
      "execution_count": 38,
      "outputs": [
        {
          "output_type": "stream",
          "text": [
            "['1', '.', 'con', '##tour', 'plot', 'of', 'our', 'k', '##p', '##no', 'r', '’', 'band', 'image', 'of', '3', '##c', '##34', '##6', '.', 'the', 'con', '##tour', '##s', 'are', '2a', '(', 'n', '=', '1', ',', '2', ',', '3', ',', '.', '.', '.', ',', '12', ')', 'where', 'o', '=', '0', '.', '3', 'p', '##j', '##y', '/', 'ares', '##ec', '’', '.', 'the', '‘', '‘', '+', '”', 'marks', 'the', 'position', 'of', 'the', 'optical', 'knot', '.', 'north', 'is', 'up', 'and', 'east', 'is', 'to', 'the', 'left', '.']\n"
          ],
          "name": "stdout"
        }
      ]
    },
    {
      "cell_type": "code",
      "metadata": {
        "id": "cg-kF2bQieq7",
        "outputId": "b63c3856-d993-44c6-c26b-f6a31278733d",
        "colab": {
          "base_uri": "https://localhost:8080/",
          "height": 1000
        }
      },
      "source": [
        "MAX_SEQ_LEN= 128\n",
        "label_list=[0,1,2,3,4,5,6,7,8,9,10]\n",
        "train_features= bert.run_classifier.convert_examples_to_features(train_input_samples, label_list, MAX_SEQ_LEN, tokenizer)\n",
        "validation_features= bert.run_classifier.convert_examples_to_features(val_input_samples, label_list, MAX_SEQ_LEN, tokenizer)"
      ],
      "execution_count": 39,
      "outputs": [
        {
          "output_type": "stream",
          "text": [
            "WARNING:tensorflow:From /usr/local/lib/python3.6/dist-packages/bert/run_classifier.py:774: The name tf.logging.info is deprecated. Please use tf.compat.v1.logging.info instead.\n",
            "\n"
          ],
          "name": "stdout"
        },
        {
          "output_type": "stream",
          "text": [
            "WARNING:tensorflow:From /usr/local/lib/python3.6/dist-packages/bert/run_classifier.py:774: The name tf.logging.info is deprecated. Please use tf.compat.v1.logging.info instead.\n",
            "\n"
          ],
          "name": "stderr"
        },
        {
          "output_type": "stream",
          "text": [
            "INFO:tensorflow:Writing example 0 of 1128\n"
          ],
          "name": "stdout"
        },
        {
          "output_type": "stream",
          "text": [
            "INFO:tensorflow:Writing example 0 of 1128\n"
          ],
          "name": "stderr"
        },
        {
          "output_type": "stream",
          "text": [
            "INFO:tensorflow:*** Example ***\n"
          ],
          "name": "stdout"
        },
        {
          "output_type": "stream",
          "text": [
            "INFO:tensorflow:*** Example ***\n"
          ],
          "name": "stderr"
        },
        {
          "output_type": "stream",
          "text": [
            "INFO:tensorflow:guid: None\n"
          ],
          "name": "stdout"
        },
        {
          "output_type": "stream",
          "text": [
            "INFO:tensorflow:guid: None\n"
          ],
          "name": "stderr"
        },
        {
          "output_type": "stream",
          "text": [
            "INFO:tensorflow:tokens: [CLS] 1 . con ##tour plot of our k ##p ##no r ’ band image of 3 ##c ##34 ##6 . the con ##tour ##s are 2a ( n = 1 , 2 , 3 , . . . , 12 ) where o = 0 . 3 p ##j ##y / ares ##ec ’ . the ‘ ‘ + ” marks the position of the optical knot . north is up and east is to the left . [SEP]\n"
          ],
          "name": "stdout"
        },
        {
          "output_type": "stream",
          "text": [
            "INFO:tensorflow:tokens: [CLS] 1 . con ##tour plot of our k ##p ##no r ’ band image of 3 ##c ##34 ##6 . the con ##tour ##s are 2a ( n = 1 , 2 , 3 , . . . , 12 ) where o = 0 . 3 p ##j ##y / ares ##ec ’ . the ‘ ‘ + ” marks the position of the optical knot . north is up and east is to the left . [SEP]\n"
          ],
          "name": "stderr"
        },
        {
          "output_type": "stream",
          "text": [
            "INFO:tensorflow:input_ids: 101 1015 1012 9530 21163 5436 1997 2256 1047 2361 3630 1054 1521 2316 3746 1997 1017 2278 22022 2575 1012 1996 9530 21163 2015 2024 23409 1006 1050 1027 1015 1010 1016 1010 1017 1010 1012 1012 1012 1010 2260 1007 2073 1051 1027 1014 1012 1017 1052 3501 2100 1013 23631 8586 1521 1012 1996 1520 1520 1009 1524 6017 1996 2597 1997 1996 9380 12226 1012 2167 2003 2039 1998 2264 2003 2000 1996 2187 1012 102 0 0 0 0 0 0 0 0 0 0 0 0 0 0 0 0 0 0 0 0 0 0 0 0 0 0 0 0 0 0 0 0 0 0 0 0 0 0 0 0 0 0 0 0 0 0 0 0\n"
          ],
          "name": "stdout"
        },
        {
          "output_type": "stream",
          "text": [
            "INFO:tensorflow:input_ids: 101 1015 1012 9530 21163 5436 1997 2256 1047 2361 3630 1054 1521 2316 3746 1997 1017 2278 22022 2575 1012 1996 9530 21163 2015 2024 23409 1006 1050 1027 1015 1010 1016 1010 1017 1010 1012 1012 1012 1010 2260 1007 2073 1051 1027 1014 1012 1017 1052 3501 2100 1013 23631 8586 1521 1012 1996 1520 1520 1009 1524 6017 1996 2597 1997 1996 9380 12226 1012 2167 2003 2039 1998 2264 2003 2000 1996 2187 1012 102 0 0 0 0 0 0 0 0 0 0 0 0 0 0 0 0 0 0 0 0 0 0 0 0 0 0 0 0 0 0 0 0 0 0 0 0 0 0 0 0 0 0 0 0 0 0 0 0\n"
          ],
          "name": "stderr"
        },
        {
          "output_type": "stream",
          "text": [
            "INFO:tensorflow:input_mask: 1 1 1 1 1 1 1 1 1 1 1 1 1 1 1 1 1 1 1 1 1 1 1 1 1 1 1 1 1 1 1 1 1 1 1 1 1 1 1 1 1 1 1 1 1 1 1 1 1 1 1 1 1 1 1 1 1 1 1 1 1 1 1 1 1 1 1 1 1 1 1 1 1 1 1 1 1 1 1 1 0 0 0 0 0 0 0 0 0 0 0 0 0 0 0 0 0 0 0 0 0 0 0 0 0 0 0 0 0 0 0 0 0 0 0 0 0 0 0 0 0 0 0 0 0 0 0 0\n"
          ],
          "name": "stdout"
        },
        {
          "output_type": "stream",
          "text": [
            "INFO:tensorflow:input_mask: 1 1 1 1 1 1 1 1 1 1 1 1 1 1 1 1 1 1 1 1 1 1 1 1 1 1 1 1 1 1 1 1 1 1 1 1 1 1 1 1 1 1 1 1 1 1 1 1 1 1 1 1 1 1 1 1 1 1 1 1 1 1 1 1 1 1 1 1 1 1 1 1 1 1 1 1 1 1 1 1 0 0 0 0 0 0 0 0 0 0 0 0 0 0 0 0 0 0 0 0 0 0 0 0 0 0 0 0 0 0 0 0 0 0 0 0 0 0 0 0 0 0 0 0 0 0 0 0\n"
          ],
          "name": "stderr"
        },
        {
          "output_type": "stream",
          "text": [
            "INFO:tensorflow:segment_ids: 0 0 0 0 0 0 0 0 0 0 0 0 0 0 0 0 0 0 0 0 0 0 0 0 0 0 0 0 0 0 0 0 0 0 0 0 0 0 0 0 0 0 0 0 0 0 0 0 0 0 0 0 0 0 0 0 0 0 0 0 0 0 0 0 0 0 0 0 0 0 0 0 0 0 0 0 0 0 0 0 0 0 0 0 0 0 0 0 0 0 0 0 0 0 0 0 0 0 0 0 0 0 0 0 0 0 0 0 0 0 0 0 0 0 0 0 0 0 0 0 0 0 0 0 0 0 0 0\n"
          ],
          "name": "stdout"
        },
        {
          "output_type": "stream",
          "text": [
            "INFO:tensorflow:segment_ids: 0 0 0 0 0 0 0 0 0 0 0 0 0 0 0 0 0 0 0 0 0 0 0 0 0 0 0 0 0 0 0 0 0 0 0 0 0 0 0 0 0 0 0 0 0 0 0 0 0 0 0 0 0 0 0 0 0 0 0 0 0 0 0 0 0 0 0 0 0 0 0 0 0 0 0 0 0 0 0 0 0 0 0 0 0 0 0 0 0 0 0 0 0 0 0 0 0 0 0 0 0 0 0 0 0 0 0 0 0 0 0 0 0 0 0 0 0 0 0 0 0 0 0 0 0 0 0 0\n"
          ],
          "name": "stderr"
        },
        {
          "output_type": "stream",
          "text": [
            "INFO:tensorflow:label: 4 (id = 4)\n"
          ],
          "name": "stdout"
        },
        {
          "output_type": "stream",
          "text": [
            "INFO:tensorflow:label: 4 (id = 4)\n"
          ],
          "name": "stderr"
        },
        {
          "output_type": "stream",
          "text": [
            "INFO:tensorflow:*** Example ***\n"
          ],
          "name": "stdout"
        },
        {
          "output_type": "stream",
          "text": [
            "INFO:tensorflow:*** Example ***\n"
          ],
          "name": "stderr"
        },
        {
          "output_type": "stream",
          "text": [
            "INFO:tensorflow:guid: None\n"
          ],
          "name": "stdout"
        },
        {
          "output_type": "stream",
          "text": [
            "INFO:tensorflow:guid: None\n"
          ],
          "name": "stderr"
        },
        {
          "output_type": "stream",
          "text": [
            "INFO:tensorflow:tokens: [CLS] 1 . find ##er charts for three southern lp ##vs taken from the es ##o / sr ##c plates . ( a ) . j survey field for e ##i tr ##a . star “ ‘ e ” was initially mistakenly identified as the variable , and consequently included in our photo ##ele ##ctric measurements . [SEP]\n"
          ],
          "name": "stdout"
        },
        {
          "output_type": "stream",
          "text": [
            "INFO:tensorflow:tokens: [CLS] 1 . find ##er charts for three southern lp ##vs taken from the es ##o / sr ##c plates . ( a ) . j survey field for e ##i tr ##a . star “ ‘ e ” was initially mistakenly identified as the variable , and consequently included in our photo ##ele ##ctric measurements . [SEP]\n"
          ],
          "name": "stderr"
        },
        {
          "output_type": "stream",
          "text": [
            "INFO:tensorflow:input_ids: 101 1015 1012 2424 2121 6093 2005 2093 2670 6948 15088 2579 2013 1996 9686 2080 1013 5034 2278 7766 1012 1006 1037 1007 1012 1046 5002 2492 2005 1041 2072 19817 2050 1012 2732 1523 1520 1041 1524 2001 3322 20706 4453 2004 1996 8023 1010 1998 8821 2443 1999 2256 6302 12260 22601 11702 1012 102 0 0 0 0 0 0 0 0 0 0 0 0 0 0 0 0 0 0 0 0 0 0 0 0 0 0 0 0 0 0 0 0 0 0 0 0 0 0 0 0 0 0 0 0 0 0 0 0 0 0 0 0 0 0 0 0 0 0 0 0 0 0 0 0 0 0 0 0 0 0\n"
          ],
          "name": "stdout"
        },
        {
          "output_type": "stream",
          "text": [
            "INFO:tensorflow:input_ids: 101 1015 1012 2424 2121 6093 2005 2093 2670 6948 15088 2579 2013 1996 9686 2080 1013 5034 2278 7766 1012 1006 1037 1007 1012 1046 5002 2492 2005 1041 2072 19817 2050 1012 2732 1523 1520 1041 1524 2001 3322 20706 4453 2004 1996 8023 1010 1998 8821 2443 1999 2256 6302 12260 22601 11702 1012 102 0 0 0 0 0 0 0 0 0 0 0 0 0 0 0 0 0 0 0 0 0 0 0 0 0 0 0 0 0 0 0 0 0 0 0 0 0 0 0 0 0 0 0 0 0 0 0 0 0 0 0 0 0 0 0 0 0 0 0 0 0 0 0 0 0 0 0 0 0 0\n"
          ],
          "name": "stderr"
        },
        {
          "output_type": "stream",
          "text": [
            "INFO:tensorflow:input_mask: 1 1 1 1 1 1 1 1 1 1 1 1 1 1 1 1 1 1 1 1 1 1 1 1 1 1 1 1 1 1 1 1 1 1 1 1 1 1 1 1 1 1 1 1 1 1 1 1 1 1 1 1 1 1 1 1 1 1 0 0 0 0 0 0 0 0 0 0 0 0 0 0 0 0 0 0 0 0 0 0 0 0 0 0 0 0 0 0 0 0 0 0 0 0 0 0 0 0 0 0 0 0 0 0 0 0 0 0 0 0 0 0 0 0 0 0 0 0 0 0 0 0 0 0 0 0 0 0\n"
          ],
          "name": "stdout"
        },
        {
          "output_type": "stream",
          "text": [
            "INFO:tensorflow:input_mask: 1 1 1 1 1 1 1 1 1 1 1 1 1 1 1 1 1 1 1 1 1 1 1 1 1 1 1 1 1 1 1 1 1 1 1 1 1 1 1 1 1 1 1 1 1 1 1 1 1 1 1 1 1 1 1 1 1 1 0 0 0 0 0 0 0 0 0 0 0 0 0 0 0 0 0 0 0 0 0 0 0 0 0 0 0 0 0 0 0 0 0 0 0 0 0 0 0 0 0 0 0 0 0 0 0 0 0 0 0 0 0 0 0 0 0 0 0 0 0 0 0 0 0 0 0 0 0 0\n"
          ],
          "name": "stderr"
        },
        {
          "output_type": "stream",
          "text": [
            "INFO:tensorflow:segment_ids: 0 0 0 0 0 0 0 0 0 0 0 0 0 0 0 0 0 0 0 0 0 0 0 0 0 0 0 0 0 0 0 0 0 0 0 0 0 0 0 0 0 0 0 0 0 0 0 0 0 0 0 0 0 0 0 0 0 0 0 0 0 0 0 0 0 0 0 0 0 0 0 0 0 0 0 0 0 0 0 0 0 0 0 0 0 0 0 0 0 0 0 0 0 0 0 0 0 0 0 0 0 0 0 0 0 0 0 0 0 0 0 0 0 0 0 0 0 0 0 0 0 0 0 0 0 0 0 0\n"
          ],
          "name": "stdout"
        },
        {
          "output_type": "stream",
          "text": [
            "INFO:tensorflow:segment_ids: 0 0 0 0 0 0 0 0 0 0 0 0 0 0 0 0 0 0 0 0 0 0 0 0 0 0 0 0 0 0 0 0 0 0 0 0 0 0 0 0 0 0 0 0 0 0 0 0 0 0 0 0 0 0 0 0 0 0 0 0 0 0 0 0 0 0 0 0 0 0 0 0 0 0 0 0 0 0 0 0 0 0 0 0 0 0 0 0 0 0 0 0 0 0 0 0 0 0 0 0 0 0 0 0 0 0 0 0 0 0 0 0 0 0 0 0 0 0 0 0 0 0 0 0 0 0 0 0\n"
          ],
          "name": "stderr"
        },
        {
          "output_type": "stream",
          "text": [
            "INFO:tensorflow:label: 9 (id = 9)\n"
          ],
          "name": "stdout"
        },
        {
          "output_type": "stream",
          "text": [
            "INFO:tensorflow:label: 9 (id = 9)\n"
          ],
          "name": "stderr"
        },
        {
          "output_type": "stream",
          "text": [
            "INFO:tensorflow:*** Example ***\n"
          ],
          "name": "stdout"
        },
        {
          "output_type": "stream",
          "text": [
            "INFO:tensorflow:*** Example ***\n"
          ],
          "name": "stderr"
        },
        {
          "output_type": "stream",
          "text": [
            "INFO:tensorflow:guid: None\n"
          ],
          "name": "stdout"
        },
        {
          "output_type": "stream",
          "text": [
            "INFO:tensorflow:guid: None\n"
          ],
          "name": "stderr"
        },
        {
          "output_type": "stream",
          "text": [
            "INFO:tensorflow:tokens: [CLS] 1 — ha cc ##d image of kepler ’ s s ##nr before sub ##tra ##ction of stellar contamination . the field shown is 4 / 1 vertically and 4 / 4 horizontally . slit positions for our long - slit spectra are indicated along with some fi ##du ##cial stars . north is up and east is to the left . [SEP]\n"
          ],
          "name": "stdout"
        },
        {
          "output_type": "stream",
          "text": [
            "INFO:tensorflow:tokens: [CLS] 1 — ha cc ##d image of kepler ’ s s ##nr before sub ##tra ##ction of stellar contamination . the field shown is 4 / 1 vertically and 4 / 4 horizontally . slit positions for our long - slit spectra are indicated along with some fi ##du ##cial stars . north is up and east is to the left . [SEP]\n"
          ],
          "name": "stderr"
        },
        {
          "output_type": "stream",
          "text": [
            "INFO:tensorflow:input_ids: 101 1015 1517 5292 10507 2094 3746 1997 28219 1521 1055 1055 16118 2077 4942 6494 7542 1997 17227 18701 1012 1996 2492 3491 2003 1018 1013 1015 20018 1998 1018 1013 1018 23190 1012 18036 4460 2005 2256 2146 1011 18036 29237 2024 5393 2247 2007 2070 10882 8566 13247 3340 1012 2167 2003 2039 1998 2264 2003 2000 1996 2187 1012 102 0 0 0 0 0 0 0 0 0 0 0 0 0 0 0 0 0 0 0 0 0 0 0 0 0 0 0 0 0 0 0 0 0 0 0 0 0 0 0 0 0 0 0 0 0 0 0 0 0 0 0 0 0 0 0 0 0 0 0 0 0 0 0 0\n"
          ],
          "name": "stdout"
        },
        {
          "output_type": "stream",
          "text": [
            "INFO:tensorflow:input_ids: 101 1015 1517 5292 10507 2094 3746 1997 28219 1521 1055 1055 16118 2077 4942 6494 7542 1997 17227 18701 1012 1996 2492 3491 2003 1018 1013 1015 20018 1998 1018 1013 1018 23190 1012 18036 4460 2005 2256 2146 1011 18036 29237 2024 5393 2247 2007 2070 10882 8566 13247 3340 1012 2167 2003 2039 1998 2264 2003 2000 1996 2187 1012 102 0 0 0 0 0 0 0 0 0 0 0 0 0 0 0 0 0 0 0 0 0 0 0 0 0 0 0 0 0 0 0 0 0 0 0 0 0 0 0 0 0 0 0 0 0 0 0 0 0 0 0 0 0 0 0 0 0 0 0 0 0 0 0 0\n"
          ],
          "name": "stderr"
        },
        {
          "output_type": "stream",
          "text": [
            "INFO:tensorflow:input_mask: 1 1 1 1 1 1 1 1 1 1 1 1 1 1 1 1 1 1 1 1 1 1 1 1 1 1 1 1 1 1 1 1 1 1 1 1 1 1 1 1 1 1 1 1 1 1 1 1 1 1 1 1 1 1 1 1 1 1 1 1 1 1 1 1 0 0 0 0 0 0 0 0 0 0 0 0 0 0 0 0 0 0 0 0 0 0 0 0 0 0 0 0 0 0 0 0 0 0 0 0 0 0 0 0 0 0 0 0 0 0 0 0 0 0 0 0 0 0 0 0 0 0 0 0 0 0 0 0\n"
          ],
          "name": "stdout"
        },
        {
          "output_type": "stream",
          "text": [
            "INFO:tensorflow:input_mask: 1 1 1 1 1 1 1 1 1 1 1 1 1 1 1 1 1 1 1 1 1 1 1 1 1 1 1 1 1 1 1 1 1 1 1 1 1 1 1 1 1 1 1 1 1 1 1 1 1 1 1 1 1 1 1 1 1 1 1 1 1 1 1 1 0 0 0 0 0 0 0 0 0 0 0 0 0 0 0 0 0 0 0 0 0 0 0 0 0 0 0 0 0 0 0 0 0 0 0 0 0 0 0 0 0 0 0 0 0 0 0 0 0 0 0 0 0 0 0 0 0 0 0 0 0 0 0 0\n"
          ],
          "name": "stderr"
        },
        {
          "output_type": "stream",
          "text": [
            "INFO:tensorflow:segment_ids: 0 0 0 0 0 0 0 0 0 0 0 0 0 0 0 0 0 0 0 0 0 0 0 0 0 0 0 0 0 0 0 0 0 0 0 0 0 0 0 0 0 0 0 0 0 0 0 0 0 0 0 0 0 0 0 0 0 0 0 0 0 0 0 0 0 0 0 0 0 0 0 0 0 0 0 0 0 0 0 0 0 0 0 0 0 0 0 0 0 0 0 0 0 0 0 0 0 0 0 0 0 0 0 0 0 0 0 0 0 0 0 0 0 0 0 0 0 0 0 0 0 0 0 0 0 0 0 0\n"
          ],
          "name": "stdout"
        },
        {
          "output_type": "stream",
          "text": [
            "INFO:tensorflow:segment_ids: 0 0 0 0 0 0 0 0 0 0 0 0 0 0 0 0 0 0 0 0 0 0 0 0 0 0 0 0 0 0 0 0 0 0 0 0 0 0 0 0 0 0 0 0 0 0 0 0 0 0 0 0 0 0 0 0 0 0 0 0 0 0 0 0 0 0 0 0 0 0 0 0 0 0 0 0 0 0 0 0 0 0 0 0 0 0 0 0 0 0 0 0 0 0 0 0 0 0 0 0 0 0 0 0 0 0 0 0 0 0 0 0 0 0 0 0 0 0 0 0 0 0 0 0 0 0 0 0\n"
          ],
          "name": "stderr"
        },
        {
          "output_type": "stream",
          "text": [
            "INFO:tensorflow:label: 9 (id = 9)\n"
          ],
          "name": "stdout"
        },
        {
          "output_type": "stream",
          "text": [
            "INFO:tensorflow:label: 9 (id = 9)\n"
          ],
          "name": "stderr"
        },
        {
          "output_type": "stream",
          "text": [
            "INFO:tensorflow:*** Example ***\n"
          ],
          "name": "stdout"
        },
        {
          "output_type": "stream",
          "text": [
            "INFO:tensorflow:*** Example ***\n"
          ],
          "name": "stderr"
        },
        {
          "output_type": "stream",
          "text": [
            "INFO:tensorflow:guid: None\n"
          ],
          "name": "stdout"
        },
        {
          "output_type": "stream",
          "text": [
            "INFO:tensorflow:guid: None\n"
          ],
          "name": "stderr"
        },
        {
          "output_type": "stream",
          "text": [
            "INFO:tensorflow:tokens: [CLS] 4 — { a ) cc ##d image of ngc 36 ##28 , showing the central h 1 regions and the southern ha plume . ( b ) cc ##d frame showing the northern fi ##lam ##ents . both frames are 79 ##6 x 79 ##6 pixels , with a pixel ~ 07 ##3 . [SEP]\n"
          ],
          "name": "stdout"
        },
        {
          "output_type": "stream",
          "text": [
            "INFO:tensorflow:tokens: [CLS] 4 — { a ) cc ##d image of ngc 36 ##28 , showing the central h 1 regions and the southern ha plume . ( b ) cc ##d frame showing the northern fi ##lam ##ents . both frames are 79 ##6 x 79 ##6 pixels , with a pixel ~ 07 ##3 . [SEP]\n"
          ],
          "name": "stderr"
        },
        {
          "output_type": "stream",
          "text": [
            "INFO:tensorflow:input_ids: 101 1018 1517 1063 1037 1007 10507 2094 3746 1997 27645 4029 22407 1010 4760 1996 2430 1044 1015 4655 1998 1996 2670 5292 26888 1012 1006 1038 1007 10507 2094 4853 4760 1996 2642 10882 10278 11187 1012 2119 11048 2024 6535 2575 1060 6535 2575 27725 1010 2007 1037 22138 1066 5718 2509 1012 102 0 0 0 0 0 0 0 0 0 0 0 0 0 0 0 0 0 0 0 0 0 0 0 0 0 0 0 0 0 0 0 0 0 0 0 0 0 0 0 0 0 0 0 0 0 0 0 0 0 0 0 0 0 0 0 0 0 0 0 0 0 0 0 0 0 0 0 0 0 0 0\n"
          ],
          "name": "stdout"
        },
        {
          "output_type": "stream",
          "text": [
            "INFO:tensorflow:input_ids: 101 1018 1517 1063 1037 1007 10507 2094 3746 1997 27645 4029 22407 1010 4760 1996 2430 1044 1015 4655 1998 1996 2670 5292 26888 1012 1006 1038 1007 10507 2094 4853 4760 1996 2642 10882 10278 11187 1012 2119 11048 2024 6535 2575 1060 6535 2575 27725 1010 2007 1037 22138 1066 5718 2509 1012 102 0 0 0 0 0 0 0 0 0 0 0 0 0 0 0 0 0 0 0 0 0 0 0 0 0 0 0 0 0 0 0 0 0 0 0 0 0 0 0 0 0 0 0 0 0 0 0 0 0 0 0 0 0 0 0 0 0 0 0 0 0 0 0 0 0 0 0 0 0 0 0\n"
          ],
          "name": "stderr"
        },
        {
          "output_type": "stream",
          "text": [
            "INFO:tensorflow:input_mask: 1 1 1 1 1 1 1 1 1 1 1 1 1 1 1 1 1 1 1 1 1 1 1 1 1 1 1 1 1 1 1 1 1 1 1 1 1 1 1 1 1 1 1 1 1 1 1 1 1 1 1 1 1 1 1 1 1 0 0 0 0 0 0 0 0 0 0 0 0 0 0 0 0 0 0 0 0 0 0 0 0 0 0 0 0 0 0 0 0 0 0 0 0 0 0 0 0 0 0 0 0 0 0 0 0 0 0 0 0 0 0 0 0 0 0 0 0 0 0 0 0 0 0 0 0 0 0 0\n"
          ],
          "name": "stdout"
        },
        {
          "output_type": "stream",
          "text": [
            "INFO:tensorflow:input_mask: 1 1 1 1 1 1 1 1 1 1 1 1 1 1 1 1 1 1 1 1 1 1 1 1 1 1 1 1 1 1 1 1 1 1 1 1 1 1 1 1 1 1 1 1 1 1 1 1 1 1 1 1 1 1 1 1 1 0 0 0 0 0 0 0 0 0 0 0 0 0 0 0 0 0 0 0 0 0 0 0 0 0 0 0 0 0 0 0 0 0 0 0 0 0 0 0 0 0 0 0 0 0 0 0 0 0 0 0 0 0 0 0 0 0 0 0 0 0 0 0 0 0 0 0 0 0 0 0\n"
          ],
          "name": "stderr"
        },
        {
          "output_type": "stream",
          "text": [
            "INFO:tensorflow:segment_ids: 0 0 0 0 0 0 0 0 0 0 0 0 0 0 0 0 0 0 0 0 0 0 0 0 0 0 0 0 0 0 0 0 0 0 0 0 0 0 0 0 0 0 0 0 0 0 0 0 0 0 0 0 0 0 0 0 0 0 0 0 0 0 0 0 0 0 0 0 0 0 0 0 0 0 0 0 0 0 0 0 0 0 0 0 0 0 0 0 0 0 0 0 0 0 0 0 0 0 0 0 0 0 0 0 0 0 0 0 0 0 0 0 0 0 0 0 0 0 0 0 0 0 0 0 0 0 0 0\n"
          ],
          "name": "stdout"
        },
        {
          "output_type": "stream",
          "text": [
            "INFO:tensorflow:segment_ids: 0 0 0 0 0 0 0 0 0 0 0 0 0 0 0 0 0 0 0 0 0 0 0 0 0 0 0 0 0 0 0 0 0 0 0 0 0 0 0 0 0 0 0 0 0 0 0 0 0 0 0 0 0 0 0 0 0 0 0 0 0 0 0 0 0 0 0 0 0 0 0 0 0 0 0 0 0 0 0 0 0 0 0 0 0 0 0 0 0 0 0 0 0 0 0 0 0 0 0 0 0 0 0 0 0 0 0 0 0 0 0 0 0 0 0 0 0 0 0 0 0 0 0 0 0 0 0 0\n"
          ],
          "name": "stderr"
        },
        {
          "output_type": "stream",
          "text": [
            "INFO:tensorflow:label: 9 (id = 9)\n"
          ],
          "name": "stdout"
        },
        {
          "output_type": "stream",
          "text": [
            "INFO:tensorflow:label: 9 (id = 9)\n"
          ],
          "name": "stderr"
        },
        {
          "output_type": "stream",
          "text": [
            "INFO:tensorflow:*** Example ***\n"
          ],
          "name": "stdout"
        },
        {
          "output_type": "stream",
          "text": [
            "INFO:tensorflow:*** Example ***\n"
          ],
          "name": "stderr"
        },
        {
          "output_type": "stream",
          "text": [
            "INFO:tensorflow:guid: None\n"
          ],
          "name": "stdout"
        },
        {
          "output_type": "stream",
          "text": [
            "INFO:tensorflow:guid: None\n"
          ],
          "name": "stderr"
        },
        {
          "output_type": "stream",
          "text": [
            "INFO:tensorflow:tokens: [CLS] l = pe centers of these fields are about 6 . os photographs of the ga ##c field . the faint ##er stars in table 4 are identified . the 1975 no ##c ##n ##fin ##ai ##tes of the ( a ) 620 ##0 ##5 , + 28 ##° ##0 ##9 ’ ; ( 6 ) 5 \" 58 ##7 ##4 , + 28 ##° ##0 ##9 ’ ; ( c ) 640 ##0 ##™ ##5 , + 27 ##° ##30 ’ ; ( d ) 58 ##58 \" 4 , + 27 ##° ##30 ’ . ( k ##p ##no 90 cm telescope photographs , 15 minutes , ii ##a - d . ) [SEP]\n"
          ],
          "name": "stdout"
        },
        {
          "output_type": "stream",
          "text": [
            "INFO:tensorflow:tokens: [CLS] l = pe centers of these fields are about 6 . os photographs of the ga ##c field . the faint ##er stars in table 4 are identified . the 1975 no ##c ##n ##fin ##ai ##tes of the ( a ) 620 ##0 ##5 , + 28 ##° ##0 ##9 ’ ; ( 6 ) 5 \" 58 ##7 ##4 , + 28 ##° ##0 ##9 ’ ; ( c ) 640 ##0 ##™ ##5 , + 27 ##° ##30 ’ ; ( d ) 58 ##58 \" 4 , + 27 ##° ##30 ’ . ( k ##p ##no 90 cm telescope photographs , 15 minutes , ii ##a - d . ) [SEP]\n"
          ],
          "name": "stderr"
        },
        {
          "output_type": "stream",
          "text": [
            "INFO:tensorflow:input_ids: 101 1048 1027 21877 6401 1997 2122 4249 2024 2055 1020 1012 9808 7008 1997 1996 11721 2278 2492 1012 1996 8143 2121 3340 1999 2795 1018 2024 4453 1012 1996 3339 2053 2278 2078 16294 4886 4570 1997 1996 1006 1037 1007 23612 2692 2629 1010 1009 2654 7737 2692 2683 1521 1025 1006 1020 1007 1019 1000 5388 2581 2549 1010 1009 2654 7737 2692 2683 1521 1025 1006 1039 1007 19714 2692 30108 2629 1010 1009 2676 7737 14142 1521 1025 1006 1040 1007 5388 27814 1000 1018 1010 1009 2676 7737 14142 1521 1012 1006 1047 2361 3630 3938 4642 12772 7008 1010 2321 2781 1010 2462 2050 1011 1040 1012 1007 102 0 0 0 0 0 0 0 0 0 0 0\n"
          ],
          "name": "stdout"
        },
        {
          "output_type": "stream",
          "text": [
            "INFO:tensorflow:input_ids: 101 1048 1027 21877 6401 1997 2122 4249 2024 2055 1020 1012 9808 7008 1997 1996 11721 2278 2492 1012 1996 8143 2121 3340 1999 2795 1018 2024 4453 1012 1996 3339 2053 2278 2078 16294 4886 4570 1997 1996 1006 1037 1007 23612 2692 2629 1010 1009 2654 7737 2692 2683 1521 1025 1006 1020 1007 1019 1000 5388 2581 2549 1010 1009 2654 7737 2692 2683 1521 1025 1006 1039 1007 19714 2692 30108 2629 1010 1009 2676 7737 14142 1521 1025 1006 1040 1007 5388 27814 1000 1018 1010 1009 2676 7737 14142 1521 1012 1006 1047 2361 3630 3938 4642 12772 7008 1010 2321 2781 1010 2462 2050 1011 1040 1012 1007 102 0 0 0 0 0 0 0 0 0 0 0\n"
          ],
          "name": "stderr"
        },
        {
          "output_type": "stream",
          "text": [
            "INFO:tensorflow:input_mask: 1 1 1 1 1 1 1 1 1 1 1 1 1 1 1 1 1 1 1 1 1 1 1 1 1 1 1 1 1 1 1 1 1 1 1 1 1 1 1 1 1 1 1 1 1 1 1 1 1 1 1 1 1 1 1 1 1 1 1 1 1 1 1 1 1 1 1 1 1 1 1 1 1 1 1 1 1 1 1 1 1 1 1 1 1 1 1 1 1 1 1 1 1 1 1 1 1 1 1 1 1 1 1 1 1 1 1 1 1 1 1 1 1 1 1 1 1 0 0 0 0 0 0 0 0 0 0 0\n"
          ],
          "name": "stdout"
        },
        {
          "output_type": "stream",
          "text": [
            "INFO:tensorflow:input_mask: 1 1 1 1 1 1 1 1 1 1 1 1 1 1 1 1 1 1 1 1 1 1 1 1 1 1 1 1 1 1 1 1 1 1 1 1 1 1 1 1 1 1 1 1 1 1 1 1 1 1 1 1 1 1 1 1 1 1 1 1 1 1 1 1 1 1 1 1 1 1 1 1 1 1 1 1 1 1 1 1 1 1 1 1 1 1 1 1 1 1 1 1 1 1 1 1 1 1 1 1 1 1 1 1 1 1 1 1 1 1 1 1 1 1 1 1 1 0 0 0 0 0 0 0 0 0 0 0\n"
          ],
          "name": "stderr"
        },
        {
          "output_type": "stream",
          "text": [
            "INFO:tensorflow:segment_ids: 0 0 0 0 0 0 0 0 0 0 0 0 0 0 0 0 0 0 0 0 0 0 0 0 0 0 0 0 0 0 0 0 0 0 0 0 0 0 0 0 0 0 0 0 0 0 0 0 0 0 0 0 0 0 0 0 0 0 0 0 0 0 0 0 0 0 0 0 0 0 0 0 0 0 0 0 0 0 0 0 0 0 0 0 0 0 0 0 0 0 0 0 0 0 0 0 0 0 0 0 0 0 0 0 0 0 0 0 0 0 0 0 0 0 0 0 0 0 0 0 0 0 0 0 0 0 0 0\n"
          ],
          "name": "stdout"
        },
        {
          "output_type": "stream",
          "text": [
            "INFO:tensorflow:segment_ids: 0 0 0 0 0 0 0 0 0 0 0 0 0 0 0 0 0 0 0 0 0 0 0 0 0 0 0 0 0 0 0 0 0 0 0 0 0 0 0 0 0 0 0 0 0 0 0 0 0 0 0 0 0 0 0 0 0 0 0 0 0 0 0 0 0 0 0 0 0 0 0 0 0 0 0 0 0 0 0 0 0 0 0 0 0 0 0 0 0 0 0 0 0 0 0 0 0 0 0 0 0 0 0 0 0 0 0 0 0 0 0 0 0 0 0 0 0 0 0 0 0 0 0 0 0 0 0 0\n"
          ],
          "name": "stderr"
        },
        {
          "output_type": "stream",
          "text": [
            "INFO:tensorflow:label: 9 (id = 9)\n"
          ],
          "name": "stdout"
        },
        {
          "output_type": "stream",
          "text": [
            "INFO:tensorflow:label: 9 (id = 9)\n"
          ],
          "name": "stderr"
        },
        {
          "output_type": "stream",
          "text": [
            "INFO:tensorflow:Writing example 0 of 902\n"
          ],
          "name": "stdout"
        },
        {
          "output_type": "stream",
          "text": [
            "INFO:tensorflow:Writing example 0 of 902\n"
          ],
          "name": "stderr"
        },
        {
          "output_type": "stream",
          "text": [
            "INFO:tensorflow:*** Example ***\n"
          ],
          "name": "stdout"
        },
        {
          "output_type": "stream",
          "text": [
            "INFO:tensorflow:*** Example ***\n"
          ],
          "name": "stderr"
        },
        {
          "output_type": "stream",
          "text": [
            "INFO:tensorflow:guid: None\n"
          ],
          "name": "stdout"
        },
        {
          "output_type": "stream",
          "text": [
            "INFO:tensorflow:guid: None\n"
          ],
          "name": "stderr"
        },
        {
          "output_type": "stream",
          "text": [
            "INFO:tensorflow:tokens: [CLS] 11 — en ##lar ##gement of a region near the southeastern edge of w ##f ##2 , with [ s 11 ] on the left and f ##70 ##2 ##w on the right . the star that is marked is the wal ##born & blades ( 1987 ) star number 2 , classified as an early o main - sequence star . the images have been deco ##n ##vo ##lved using the lucy algorithm and rotated to match the orientation of 2 . cosmic rays have not been removed from the f ##70 ##2 ##w image . the regular circular and spoke pattern seen in the [ s 11 ] image matches the ps ##f pattern seen around bright stars in that chip . [SEP]\n"
          ],
          "name": "stdout"
        },
        {
          "output_type": "stream",
          "text": [
            "INFO:tensorflow:tokens: [CLS] 11 — en ##lar ##gement of a region near the southeastern edge of w ##f ##2 , with [ s 11 ] on the left and f ##70 ##2 ##w on the right . the star that is marked is the wal ##born & blades ( 1987 ) star number 2 , classified as an early o main - sequence star . the images have been deco ##n ##vo ##lved using the lucy algorithm and rotated to match the orientation of 2 . cosmic rays have not been removed from the f ##70 ##2 ##w image . the regular circular and spoke pattern seen in the [ s 11 ] image matches the ps ##f pattern seen around bright stars in that chip . [SEP]\n"
          ],
          "name": "stderr"
        },
        {
          "output_type": "stream",
          "text": [
            "INFO:tensorflow:input_ids: 101 2340 1517 4372 8017 20511 1997 1037 2555 2379 1996 8252 3341 1997 1059 2546 2475 1010 2007 1031 1055 2340 1033 2006 1996 2187 1998 1042 19841 2475 2860 2006 1996 2157 1012 1996 2732 2008 2003 4417 2003 1996 24547 10280 1004 10491 1006 3055 1007 2732 2193 1016 1010 6219 2004 2019 2220 1051 2364 1011 5537 2732 1012 1996 4871 2031 2042 21933 2078 6767 26832 2478 1996 7004 9896 1998 20931 2000 2674 1996 10296 1997 1016 1012 14448 9938 2031 2025 2042 3718 2013 1996 1042 19841 2475 2860 3746 1012 1996 3180 8206 1998 3764 5418 2464 1999 1996 1031 1055 2340 1033 3746 3503 1996 8827 2546 5418 2464 2105 4408 3340 1999 2008 9090 1012 102 0 0\n"
          ],
          "name": "stdout"
        },
        {
          "output_type": "stream",
          "text": [
            "INFO:tensorflow:input_ids: 101 2340 1517 4372 8017 20511 1997 1037 2555 2379 1996 8252 3341 1997 1059 2546 2475 1010 2007 1031 1055 2340 1033 2006 1996 2187 1998 1042 19841 2475 2860 2006 1996 2157 1012 1996 2732 2008 2003 4417 2003 1996 24547 10280 1004 10491 1006 3055 1007 2732 2193 1016 1010 6219 2004 2019 2220 1051 2364 1011 5537 2732 1012 1996 4871 2031 2042 21933 2078 6767 26832 2478 1996 7004 9896 1998 20931 2000 2674 1996 10296 1997 1016 1012 14448 9938 2031 2025 2042 3718 2013 1996 1042 19841 2475 2860 3746 1012 1996 3180 8206 1998 3764 5418 2464 1999 1996 1031 1055 2340 1033 3746 3503 1996 8827 2546 5418 2464 2105 4408 3340 1999 2008 9090 1012 102 0 0\n"
          ],
          "name": "stderr"
        },
        {
          "output_type": "stream",
          "text": [
            "INFO:tensorflow:input_mask: 1 1 1 1 1 1 1 1 1 1 1 1 1 1 1 1 1 1 1 1 1 1 1 1 1 1 1 1 1 1 1 1 1 1 1 1 1 1 1 1 1 1 1 1 1 1 1 1 1 1 1 1 1 1 1 1 1 1 1 1 1 1 1 1 1 1 1 1 1 1 1 1 1 1 1 1 1 1 1 1 1 1 1 1 1 1 1 1 1 1 1 1 1 1 1 1 1 1 1 1 1 1 1 1 1 1 1 1 1 1 1 1 1 1 1 1 1 1 1 1 1 1 1 1 1 1 0 0\n"
          ],
          "name": "stdout"
        },
        {
          "output_type": "stream",
          "text": [
            "INFO:tensorflow:input_mask: 1 1 1 1 1 1 1 1 1 1 1 1 1 1 1 1 1 1 1 1 1 1 1 1 1 1 1 1 1 1 1 1 1 1 1 1 1 1 1 1 1 1 1 1 1 1 1 1 1 1 1 1 1 1 1 1 1 1 1 1 1 1 1 1 1 1 1 1 1 1 1 1 1 1 1 1 1 1 1 1 1 1 1 1 1 1 1 1 1 1 1 1 1 1 1 1 1 1 1 1 1 1 1 1 1 1 1 1 1 1 1 1 1 1 1 1 1 1 1 1 1 1 1 1 1 1 0 0\n"
          ],
          "name": "stderr"
        },
        {
          "output_type": "stream",
          "text": [
            "INFO:tensorflow:segment_ids: 0 0 0 0 0 0 0 0 0 0 0 0 0 0 0 0 0 0 0 0 0 0 0 0 0 0 0 0 0 0 0 0 0 0 0 0 0 0 0 0 0 0 0 0 0 0 0 0 0 0 0 0 0 0 0 0 0 0 0 0 0 0 0 0 0 0 0 0 0 0 0 0 0 0 0 0 0 0 0 0 0 0 0 0 0 0 0 0 0 0 0 0 0 0 0 0 0 0 0 0 0 0 0 0 0 0 0 0 0 0 0 0 0 0 0 0 0 0 0 0 0 0 0 0 0 0 0 0\n"
          ],
          "name": "stdout"
        },
        {
          "output_type": "stream",
          "text": [
            "INFO:tensorflow:segment_ids: 0 0 0 0 0 0 0 0 0 0 0 0 0 0 0 0 0 0 0 0 0 0 0 0 0 0 0 0 0 0 0 0 0 0 0 0 0 0 0 0 0 0 0 0 0 0 0 0 0 0 0 0 0 0 0 0 0 0 0 0 0 0 0 0 0 0 0 0 0 0 0 0 0 0 0 0 0 0 0 0 0 0 0 0 0 0 0 0 0 0 0 0 0 0 0 0 0 0 0 0 0 0 0 0 0 0 0 0 0 0 0 0 0 0 0 0 0 0 0 0 0 0 0 0 0 0 0 0\n"
          ],
          "name": "stderr"
        },
        {
          "output_type": "stream",
          "text": [
            "INFO:tensorflow:label: 1 (id = 1)\n"
          ],
          "name": "stdout"
        },
        {
          "output_type": "stream",
          "text": [
            "INFO:tensorflow:label: 1 (id = 1)\n"
          ],
          "name": "stderr"
        },
        {
          "output_type": "stream",
          "text": [
            "INFO:tensorflow:*** Example ***\n"
          ],
          "name": "stdout"
        },
        {
          "output_type": "stream",
          "text": [
            "INFO:tensorflow:*** Example ***\n"
          ],
          "name": "stderr"
        },
        {
          "output_type": "stream",
          "text": [
            "INFO:tensorflow:guid: None\n"
          ],
          "name": "stdout"
        },
        {
          "output_type": "stream",
          "text": [
            "INFO:tensorflow:guid: None\n"
          ],
          "name": "stderr"
        },
        {
          "output_type": "stream",
          "text": [
            "INFO:tensorflow:tokens: [CLS] 3 . — a representative s ##xt flare image ( be filter , 13 : 22 : 35 ut ) super ##posed on a me ##es observatory magnet ##og ##ram . the solid con ##tour ##s represent positive vertical field ; the dashed con ##tour ##s represent negative vertical field . the con ##tour levels are 50 , 100 , 200 , 400 , 800 , 1600 , and 320 ##0 g . the thick solid lines are potential field extra ##pol ##ations . north is toward the top ; west is toward the right . [SEP]\n"
          ],
          "name": "stdout"
        },
        {
          "output_type": "stream",
          "text": [
            "INFO:tensorflow:tokens: [CLS] 3 . — a representative s ##xt flare image ( be filter , 13 : 22 : 35 ut ) super ##posed on a me ##es observatory magnet ##og ##ram . the solid con ##tour ##s represent positive vertical field ; the dashed con ##tour ##s represent negative vertical field . the con ##tour levels are 50 , 100 , 200 , 400 , 800 , 1600 , and 320 ##0 g . the thick solid lines are potential field extra ##pol ##ations . north is toward the top ; west is toward the right . [SEP]\n"
          ],
          "name": "stderr"
        },
        {
          "output_type": "stream",
          "text": [
            "INFO:tensorflow:input_ids: 101 1017 1012 1517 1037 4387 1055 18413 17748 3746 1006 2022 11307 1010 2410 1024 2570 1024 3486 21183 1007 3565 19155 2006 1037 2033 2229 9970 16853 8649 6444 1012 1996 5024 9530 21163 2015 5050 3893 7471 2492 1025 1996 18198 9530 21163 2015 5050 4997 7471 2492 1012 1996 9530 21163 3798 2024 2753 1010 2531 1010 3263 1010 4278 1010 5385 1010 14883 1010 1998 13710 2692 1043 1012 1996 4317 5024 3210 2024 4022 2492 4469 18155 10708 1012 2167 2003 2646 1996 2327 1025 2225 2003 2646 1996 2157 1012 102 0 0 0 0 0 0 0 0 0 0 0 0 0 0 0 0 0 0 0 0 0 0 0 0 0 0 0 0 0 0\n"
          ],
          "name": "stdout"
        },
        {
          "output_type": "stream",
          "text": [
            "INFO:tensorflow:input_ids: 101 1017 1012 1517 1037 4387 1055 18413 17748 3746 1006 2022 11307 1010 2410 1024 2570 1024 3486 21183 1007 3565 19155 2006 1037 2033 2229 9970 16853 8649 6444 1012 1996 5024 9530 21163 2015 5050 3893 7471 2492 1025 1996 18198 9530 21163 2015 5050 4997 7471 2492 1012 1996 9530 21163 3798 2024 2753 1010 2531 1010 3263 1010 4278 1010 5385 1010 14883 1010 1998 13710 2692 1043 1012 1996 4317 5024 3210 2024 4022 2492 4469 18155 10708 1012 2167 2003 2646 1996 2327 1025 2225 2003 2646 1996 2157 1012 102 0 0 0 0 0 0 0 0 0 0 0 0 0 0 0 0 0 0 0 0 0 0 0 0 0 0 0 0 0 0\n"
          ],
          "name": "stderr"
        },
        {
          "output_type": "stream",
          "text": [
            "INFO:tensorflow:input_mask: 1 1 1 1 1 1 1 1 1 1 1 1 1 1 1 1 1 1 1 1 1 1 1 1 1 1 1 1 1 1 1 1 1 1 1 1 1 1 1 1 1 1 1 1 1 1 1 1 1 1 1 1 1 1 1 1 1 1 1 1 1 1 1 1 1 1 1 1 1 1 1 1 1 1 1 1 1 1 1 1 1 1 1 1 1 1 1 1 1 1 1 1 1 1 1 1 1 1 0 0 0 0 0 0 0 0 0 0 0 0 0 0 0 0 0 0 0 0 0 0 0 0 0 0 0 0 0 0\n"
          ],
          "name": "stdout"
        },
        {
          "output_type": "stream",
          "text": [
            "INFO:tensorflow:input_mask: 1 1 1 1 1 1 1 1 1 1 1 1 1 1 1 1 1 1 1 1 1 1 1 1 1 1 1 1 1 1 1 1 1 1 1 1 1 1 1 1 1 1 1 1 1 1 1 1 1 1 1 1 1 1 1 1 1 1 1 1 1 1 1 1 1 1 1 1 1 1 1 1 1 1 1 1 1 1 1 1 1 1 1 1 1 1 1 1 1 1 1 1 1 1 1 1 1 1 0 0 0 0 0 0 0 0 0 0 0 0 0 0 0 0 0 0 0 0 0 0 0 0 0 0 0 0 0 0\n"
          ],
          "name": "stderr"
        },
        {
          "output_type": "stream",
          "text": [
            "INFO:tensorflow:segment_ids: 0 0 0 0 0 0 0 0 0 0 0 0 0 0 0 0 0 0 0 0 0 0 0 0 0 0 0 0 0 0 0 0 0 0 0 0 0 0 0 0 0 0 0 0 0 0 0 0 0 0 0 0 0 0 0 0 0 0 0 0 0 0 0 0 0 0 0 0 0 0 0 0 0 0 0 0 0 0 0 0 0 0 0 0 0 0 0 0 0 0 0 0 0 0 0 0 0 0 0 0 0 0 0 0 0 0 0 0 0 0 0 0 0 0 0 0 0 0 0 0 0 0 0 0 0 0 0 0\n"
          ],
          "name": "stdout"
        },
        {
          "output_type": "stream",
          "text": [
            "INFO:tensorflow:segment_ids: 0 0 0 0 0 0 0 0 0 0 0 0 0 0 0 0 0 0 0 0 0 0 0 0 0 0 0 0 0 0 0 0 0 0 0 0 0 0 0 0 0 0 0 0 0 0 0 0 0 0 0 0 0 0 0 0 0 0 0 0 0 0 0 0 0 0 0 0 0 0 0 0 0 0 0 0 0 0 0 0 0 0 0 0 0 0 0 0 0 0 0 0 0 0 0 0 0 0 0 0 0 0 0 0 0 0 0 0 0 0 0 0 0 0 0 0 0 0 0 0 0 0 0 0 0 0 0 0\n"
          ],
          "name": "stderr"
        },
        {
          "output_type": "stream",
          "text": [
            "INFO:tensorflow:label: 9 (id = 9)\n"
          ],
          "name": "stdout"
        },
        {
          "output_type": "stream",
          "text": [
            "INFO:tensorflow:label: 9 (id = 9)\n"
          ],
          "name": "stderr"
        },
        {
          "output_type": "stream",
          "text": [
            "INFO:tensorflow:*** Example ***\n"
          ],
          "name": "stdout"
        },
        {
          "output_type": "stream",
          "text": [
            "INFO:tensorflow:*** Example ***\n"
          ],
          "name": "stderr"
        },
        {
          "output_type": "stream",
          "text": [
            "INFO:tensorflow:guid: None\n"
          ],
          "name": "stdout"
        },
        {
          "output_type": "stream",
          "text": [
            "INFO:tensorflow:guid: None\n"
          ],
          "name": "stderr"
        },
        {
          "output_type": "stream",
          "text": [
            "INFO:tensorflow:tokens: [CLS] 1 . — top : direct photograph of northwest quadrant of sun . bottom : ha spec ##tro ##hel ##io ##gram showing flare in relation to suns ##pot group , taken at 21 : 41 u . t . , july 16 , 1959 . north is to the right , west at the top . photographs by t . cr ##ag ##g . [SEP]\n"
          ],
          "name": "stdout"
        },
        {
          "output_type": "stream",
          "text": [
            "INFO:tensorflow:tokens: [CLS] 1 . — top : direct photograph of northwest quadrant of sun . bottom : ha spec ##tro ##hel ##io ##gram showing flare in relation to suns ##pot group , taken at 21 : 41 u . t . , july 16 , 1959 . north is to the right , west at the top . photographs by t . cr ##ag ##g . [SEP]\n"
          ],
          "name": "stderr"
        },
        {
          "output_type": "stream",
          "text": [
            "INFO:tensorflow:input_ids: 101 1015 1012 1517 2327 1024 3622 9982 1997 4514 29371 1997 3103 1012 3953 1024 5292 28699 13181 16001 3695 13113 4760 17748 1999 7189 2000 19352 11008 2177 1010 2579 2012 2538 1024 4601 1057 1012 1056 1012 1010 2251 2385 1010 3851 1012 2167 2003 2000 1996 2157 1010 2225 2012 1996 2327 1012 7008 2011 1056 1012 13675 8490 2290 1012 102 0 0 0 0 0 0 0 0 0 0 0 0 0 0 0 0 0 0 0 0 0 0 0 0 0 0 0 0 0 0 0 0 0 0 0 0 0 0 0 0 0 0 0 0 0 0 0 0 0 0 0 0 0 0 0 0 0 0 0 0 0 0\n"
          ],
          "name": "stdout"
        },
        {
          "output_type": "stream",
          "text": [
            "INFO:tensorflow:input_ids: 101 1015 1012 1517 2327 1024 3622 9982 1997 4514 29371 1997 3103 1012 3953 1024 5292 28699 13181 16001 3695 13113 4760 17748 1999 7189 2000 19352 11008 2177 1010 2579 2012 2538 1024 4601 1057 1012 1056 1012 1010 2251 2385 1010 3851 1012 2167 2003 2000 1996 2157 1010 2225 2012 1996 2327 1012 7008 2011 1056 1012 13675 8490 2290 1012 102 0 0 0 0 0 0 0 0 0 0 0 0 0 0 0 0 0 0 0 0 0 0 0 0 0 0 0 0 0 0 0 0 0 0 0 0 0 0 0 0 0 0 0 0 0 0 0 0 0 0 0 0 0 0 0 0 0 0 0 0 0 0\n"
          ],
          "name": "stderr"
        },
        {
          "output_type": "stream",
          "text": [
            "INFO:tensorflow:input_mask: 1 1 1 1 1 1 1 1 1 1 1 1 1 1 1 1 1 1 1 1 1 1 1 1 1 1 1 1 1 1 1 1 1 1 1 1 1 1 1 1 1 1 1 1 1 1 1 1 1 1 1 1 1 1 1 1 1 1 1 1 1 1 1 1 1 1 0 0 0 0 0 0 0 0 0 0 0 0 0 0 0 0 0 0 0 0 0 0 0 0 0 0 0 0 0 0 0 0 0 0 0 0 0 0 0 0 0 0 0 0 0 0 0 0 0 0 0 0 0 0 0 0 0 0 0 0 0 0\n"
          ],
          "name": "stdout"
        },
        {
          "output_type": "stream",
          "text": [
            "INFO:tensorflow:input_mask: 1 1 1 1 1 1 1 1 1 1 1 1 1 1 1 1 1 1 1 1 1 1 1 1 1 1 1 1 1 1 1 1 1 1 1 1 1 1 1 1 1 1 1 1 1 1 1 1 1 1 1 1 1 1 1 1 1 1 1 1 1 1 1 1 1 1 0 0 0 0 0 0 0 0 0 0 0 0 0 0 0 0 0 0 0 0 0 0 0 0 0 0 0 0 0 0 0 0 0 0 0 0 0 0 0 0 0 0 0 0 0 0 0 0 0 0 0 0 0 0 0 0 0 0 0 0 0 0\n"
          ],
          "name": "stderr"
        },
        {
          "output_type": "stream",
          "text": [
            "INFO:tensorflow:segment_ids: 0 0 0 0 0 0 0 0 0 0 0 0 0 0 0 0 0 0 0 0 0 0 0 0 0 0 0 0 0 0 0 0 0 0 0 0 0 0 0 0 0 0 0 0 0 0 0 0 0 0 0 0 0 0 0 0 0 0 0 0 0 0 0 0 0 0 0 0 0 0 0 0 0 0 0 0 0 0 0 0 0 0 0 0 0 0 0 0 0 0 0 0 0 0 0 0 0 0 0 0 0 0 0 0 0 0 0 0 0 0 0 0 0 0 0 0 0 0 0 0 0 0 0 0 0 0 0 0\n"
          ],
          "name": "stdout"
        },
        {
          "output_type": "stream",
          "text": [
            "INFO:tensorflow:segment_ids: 0 0 0 0 0 0 0 0 0 0 0 0 0 0 0 0 0 0 0 0 0 0 0 0 0 0 0 0 0 0 0 0 0 0 0 0 0 0 0 0 0 0 0 0 0 0 0 0 0 0 0 0 0 0 0 0 0 0 0 0 0 0 0 0 0 0 0 0 0 0 0 0 0 0 0 0 0 0 0 0 0 0 0 0 0 0 0 0 0 0 0 0 0 0 0 0 0 0 0 0 0 0 0 0 0 0 0 0 0 0 0 0 0 0 0 0 0 0 0 0 0 0 0 0 0 0 0 0\n"
          ],
          "name": "stderr"
        },
        {
          "output_type": "stream",
          "text": [
            "INFO:tensorflow:label: 0 (id = 0)\n"
          ],
          "name": "stdout"
        },
        {
          "output_type": "stream",
          "text": [
            "INFO:tensorflow:label: 0 (id = 0)\n"
          ],
          "name": "stderr"
        },
        {
          "output_type": "stream",
          "text": [
            "INFO:tensorflow:*** Example ***\n"
          ],
          "name": "stdout"
        },
        {
          "output_type": "stream",
          "text": [
            "INFO:tensorflow:*** Example ***\n"
          ],
          "name": "stderr"
        },
        {
          "output_type": "stream",
          "text": [
            "INFO:tensorflow:guid: None\n"
          ],
          "name": "stdout"
        },
        {
          "output_type": "stream",
          "text": [
            "INFO:tensorflow:guid: None\n"
          ],
          "name": "stderr"
        },
        {
          "output_type": "stream",
          "text": [
            "INFO:tensorflow:tokens: [CLS] 2 . twenty minute cc ##d image of ce ##pheus a in the light of ha + [ n 11 ] . slit positions used for medium - resolution spectroscopy are indicated . and the h ##h objects labeled . objects h and e are distinctly com ##ma shaped . [SEP]\n"
          ],
          "name": "stdout"
        },
        {
          "output_type": "stream",
          "text": [
            "INFO:tensorflow:tokens: [CLS] 2 . twenty minute cc ##d image of ce ##pheus a in the light of ha + [ n 11 ] . slit positions used for medium - resolution spectroscopy are indicated . and the h ##h objects labeled . objects h and e are distinctly com ##ma shaped . [SEP]\n"
          ],
          "name": "stderr"
        },
        {
          "output_type": "stream",
          "text": [
            "INFO:tensorflow:input_ids: 101 1016 1012 3174 3371 10507 2094 3746 1997 8292 22809 1037 1999 1996 2422 1997 5292 1009 1031 1050 2340 1033 1012 18036 4460 2109 2005 5396 1011 5813 25458 2024 5393 1012 1998 1996 1044 2232 5200 12599 1012 5200 1044 1998 1041 2024 19517 4012 2863 5044 1012 102 0 0 0 0 0 0 0 0 0 0 0 0 0 0 0 0 0 0 0 0 0 0 0 0 0 0 0 0 0 0 0 0 0 0 0 0 0 0 0 0 0 0 0 0 0 0 0 0 0 0 0 0 0 0 0 0 0 0 0 0 0 0 0 0 0 0 0 0 0 0 0 0 0 0 0 0\n"
          ],
          "name": "stdout"
        },
        {
          "output_type": "stream",
          "text": [
            "INFO:tensorflow:input_ids: 101 1016 1012 3174 3371 10507 2094 3746 1997 8292 22809 1037 1999 1996 2422 1997 5292 1009 1031 1050 2340 1033 1012 18036 4460 2109 2005 5396 1011 5813 25458 2024 5393 1012 1998 1996 1044 2232 5200 12599 1012 5200 1044 1998 1041 2024 19517 4012 2863 5044 1012 102 0 0 0 0 0 0 0 0 0 0 0 0 0 0 0 0 0 0 0 0 0 0 0 0 0 0 0 0 0 0 0 0 0 0 0 0 0 0 0 0 0 0 0 0 0 0 0 0 0 0 0 0 0 0 0 0 0 0 0 0 0 0 0 0 0 0 0 0 0 0 0 0 0 0 0 0\n"
          ],
          "name": "stderr"
        },
        {
          "output_type": "stream",
          "text": [
            "INFO:tensorflow:input_mask: 1 1 1 1 1 1 1 1 1 1 1 1 1 1 1 1 1 1 1 1 1 1 1 1 1 1 1 1 1 1 1 1 1 1 1 1 1 1 1 1 1 1 1 1 1 1 1 1 1 1 1 1 0 0 0 0 0 0 0 0 0 0 0 0 0 0 0 0 0 0 0 0 0 0 0 0 0 0 0 0 0 0 0 0 0 0 0 0 0 0 0 0 0 0 0 0 0 0 0 0 0 0 0 0 0 0 0 0 0 0 0 0 0 0 0 0 0 0 0 0 0 0 0 0 0 0 0 0\n"
          ],
          "name": "stdout"
        },
        {
          "output_type": "stream",
          "text": [
            "INFO:tensorflow:input_mask: 1 1 1 1 1 1 1 1 1 1 1 1 1 1 1 1 1 1 1 1 1 1 1 1 1 1 1 1 1 1 1 1 1 1 1 1 1 1 1 1 1 1 1 1 1 1 1 1 1 1 1 1 0 0 0 0 0 0 0 0 0 0 0 0 0 0 0 0 0 0 0 0 0 0 0 0 0 0 0 0 0 0 0 0 0 0 0 0 0 0 0 0 0 0 0 0 0 0 0 0 0 0 0 0 0 0 0 0 0 0 0 0 0 0 0 0 0 0 0 0 0 0 0 0 0 0 0 0\n"
          ],
          "name": "stderr"
        },
        {
          "output_type": "stream",
          "text": [
            "INFO:tensorflow:segment_ids: 0 0 0 0 0 0 0 0 0 0 0 0 0 0 0 0 0 0 0 0 0 0 0 0 0 0 0 0 0 0 0 0 0 0 0 0 0 0 0 0 0 0 0 0 0 0 0 0 0 0 0 0 0 0 0 0 0 0 0 0 0 0 0 0 0 0 0 0 0 0 0 0 0 0 0 0 0 0 0 0 0 0 0 0 0 0 0 0 0 0 0 0 0 0 0 0 0 0 0 0 0 0 0 0 0 0 0 0 0 0 0 0 0 0 0 0 0 0 0 0 0 0 0 0 0 0 0 0\n"
          ],
          "name": "stdout"
        },
        {
          "output_type": "stream",
          "text": [
            "INFO:tensorflow:segment_ids: 0 0 0 0 0 0 0 0 0 0 0 0 0 0 0 0 0 0 0 0 0 0 0 0 0 0 0 0 0 0 0 0 0 0 0 0 0 0 0 0 0 0 0 0 0 0 0 0 0 0 0 0 0 0 0 0 0 0 0 0 0 0 0 0 0 0 0 0 0 0 0 0 0 0 0 0 0 0 0 0 0 0 0 0 0 0 0 0 0 0 0 0 0 0 0 0 0 0 0 0 0 0 0 0 0 0 0 0 0 0 0 0 0 0 0 0 0 0 0 0 0 0 0 0 0 0 0 0\n"
          ],
          "name": "stderr"
        },
        {
          "output_type": "stream",
          "text": [
            "INFO:tensorflow:label: 9 (id = 9)\n"
          ],
          "name": "stdout"
        },
        {
          "output_type": "stream",
          "text": [
            "INFO:tensorflow:label: 9 (id = 9)\n"
          ],
          "name": "stderr"
        },
        {
          "output_type": "stream",
          "text": [
            "INFO:tensorflow:*** Example ***\n"
          ],
          "name": "stdout"
        },
        {
          "output_type": "stream",
          "text": [
            "INFO:tensorflow:*** Example ***\n"
          ],
          "name": "stderr"
        },
        {
          "output_type": "stream",
          "text": [
            "INFO:tensorflow:guid: None\n"
          ],
          "name": "stdout"
        },
        {
          "output_type": "stream",
          "text": [
            "INFO:tensorflow:guid: None\n"
          ],
          "name": "stderr"
        },
        {
          "output_type": "stream",
          "text": [
            "INFO:tensorflow:tokens: [CLS] 4 . — hydrogen con ##tour ##s for ic 2006 , super ##posed on a reproduction of two sum ##med iii ##a - j plates taken at the prime focus of the cerro to ##lo ##lo 4 ##m telescope . con ##tour ##s are in steps of 3 x 10 ' ° atoms cm ~ [SEP]\n"
          ],
          "name": "stdout"
        },
        {
          "output_type": "stream",
          "text": [
            "INFO:tensorflow:tokens: [CLS] 4 . — hydrogen con ##tour ##s for ic 2006 , super ##posed on a reproduction of two sum ##med iii ##a - j plates taken at the prime focus of the cerro to ##lo ##lo 4 ##m telescope . con ##tour ##s are in steps of 3 x 10 ' ° atoms cm ~ [SEP]\n"
          ],
          "name": "stderr"
        },
        {
          "output_type": "stream",
          "text": [
            "INFO:tensorflow:input_ids: 101 1018 1012 1517 9732 9530 21163 2015 2005 24582 2294 1010 3565 19155 2006 1037 14627 1997 2048 7680 7583 3523 2050 1011 1046 7766 2579 2012 1996 3539 3579 1997 1996 25498 2000 4135 4135 1018 2213 12772 1012 9530 21163 2015 2024 1999 4084 1997 1017 1060 2184 1005 1080 13353 4642 1066 102 0 0 0 0 0 0 0 0 0 0 0 0 0 0 0 0 0 0 0 0 0 0 0 0 0 0 0 0 0 0 0 0 0 0 0 0 0 0 0 0 0 0 0 0 0 0 0 0 0 0 0 0 0 0 0 0 0 0 0 0 0 0 0 0 0 0 0 0 0 0 0\n"
          ],
          "name": "stdout"
        },
        {
          "output_type": "stream",
          "text": [
            "INFO:tensorflow:input_ids: 101 1018 1012 1517 9732 9530 21163 2015 2005 24582 2294 1010 3565 19155 2006 1037 14627 1997 2048 7680 7583 3523 2050 1011 1046 7766 2579 2012 1996 3539 3579 1997 1996 25498 2000 4135 4135 1018 2213 12772 1012 9530 21163 2015 2024 1999 4084 1997 1017 1060 2184 1005 1080 13353 4642 1066 102 0 0 0 0 0 0 0 0 0 0 0 0 0 0 0 0 0 0 0 0 0 0 0 0 0 0 0 0 0 0 0 0 0 0 0 0 0 0 0 0 0 0 0 0 0 0 0 0 0 0 0 0 0 0 0 0 0 0 0 0 0 0 0 0 0 0 0 0 0 0 0\n"
          ],
          "name": "stderr"
        },
        {
          "output_type": "stream",
          "text": [
            "INFO:tensorflow:input_mask: 1 1 1 1 1 1 1 1 1 1 1 1 1 1 1 1 1 1 1 1 1 1 1 1 1 1 1 1 1 1 1 1 1 1 1 1 1 1 1 1 1 1 1 1 1 1 1 1 1 1 1 1 1 1 1 1 1 0 0 0 0 0 0 0 0 0 0 0 0 0 0 0 0 0 0 0 0 0 0 0 0 0 0 0 0 0 0 0 0 0 0 0 0 0 0 0 0 0 0 0 0 0 0 0 0 0 0 0 0 0 0 0 0 0 0 0 0 0 0 0 0 0 0 0 0 0 0 0\n"
          ],
          "name": "stdout"
        },
        {
          "output_type": "stream",
          "text": [
            "INFO:tensorflow:input_mask: 1 1 1 1 1 1 1 1 1 1 1 1 1 1 1 1 1 1 1 1 1 1 1 1 1 1 1 1 1 1 1 1 1 1 1 1 1 1 1 1 1 1 1 1 1 1 1 1 1 1 1 1 1 1 1 1 1 0 0 0 0 0 0 0 0 0 0 0 0 0 0 0 0 0 0 0 0 0 0 0 0 0 0 0 0 0 0 0 0 0 0 0 0 0 0 0 0 0 0 0 0 0 0 0 0 0 0 0 0 0 0 0 0 0 0 0 0 0 0 0 0 0 0 0 0 0 0 0\n"
          ],
          "name": "stderr"
        },
        {
          "output_type": "stream",
          "text": [
            "INFO:tensorflow:segment_ids: 0 0 0 0 0 0 0 0 0 0 0 0 0 0 0 0 0 0 0 0 0 0 0 0 0 0 0 0 0 0 0 0 0 0 0 0 0 0 0 0 0 0 0 0 0 0 0 0 0 0 0 0 0 0 0 0 0 0 0 0 0 0 0 0 0 0 0 0 0 0 0 0 0 0 0 0 0 0 0 0 0 0 0 0 0 0 0 0 0 0 0 0 0 0 0 0 0 0 0 0 0 0 0 0 0 0 0 0 0 0 0 0 0 0 0 0 0 0 0 0 0 0 0 0 0 0 0 0\n"
          ],
          "name": "stdout"
        },
        {
          "output_type": "stream",
          "text": [
            "INFO:tensorflow:segment_ids: 0 0 0 0 0 0 0 0 0 0 0 0 0 0 0 0 0 0 0 0 0 0 0 0 0 0 0 0 0 0 0 0 0 0 0 0 0 0 0 0 0 0 0 0 0 0 0 0 0 0 0 0 0 0 0 0 0 0 0 0 0 0 0 0 0 0 0 0 0 0 0 0 0 0 0 0 0 0 0 0 0 0 0 0 0 0 0 0 0 0 0 0 0 0 0 0 0 0 0 0 0 0 0 0 0 0 0 0 0 0 0 0 0 0 0 0 0 0 0 0 0 0 0 0 0 0 0 0\n"
          ],
          "name": "stderr"
        },
        {
          "output_type": "stream",
          "text": [
            "INFO:tensorflow:label: 2 (id = 2)\n"
          ],
          "name": "stdout"
        },
        {
          "output_type": "stream",
          "text": [
            "INFO:tensorflow:label: 2 (id = 2)\n"
          ],
          "name": "stderr"
        }
      ]
    },
    {
      "cell_type": "code",
      "metadata": {
        "id": "JzHGaiXGjy0_",
        "outputId": "ee450869-2417-413b-93da-567774aec765",
        "colab": {
          "base_uri": "https://localhost:8080/",
          "height": 55
        }
      },
      "source": [
        "print(train_input_samples.iloc[0].text_a)"
      ],
      "execution_count": 40,
      "outputs": [
        {
          "output_type": "stream",
          "text": [
            " 1. Contour plot of our KPNO r’ band image of 3C346. The contours are 2a (N=1,2,3,...,12) where o=0.3 pJy/aresec’. The ‘‘+” marks the position of the optical knot. North is up and east is to the left.\n"
          ],
          "name": "stdout"
        }
      ]
    },
    {
      "cell_type": "code",
      "metadata": {
        "id": "Tnuui0QPj7HT",
        "outputId": "a2f761f6-52ea-44b0-e71a-6f755a27ae45",
        "colab": {
          "base_uri": "https://localhost:8080/",
          "height": 55
        }
      },
      "source": [
        "print(tokenizer.tokenize(train_input_samples.iloc[0].text_a))"
      ],
      "execution_count": 41,
      "outputs": [
        {
          "output_type": "stream",
          "text": [
            "['1', '.', 'con', '##tour', 'plot', 'of', 'our', 'k', '##p', '##no', 'r', '’', 'band', 'image', 'of', '3', '##c', '##34', '##6', '.', 'the', 'con', '##tour', '##s', 'are', '2a', '(', 'n', '=', '1', ',', '2', ',', '3', ',', '.', '.', '.', ',', '12', ')', 'where', 'o', '=', '0', '.', '3', 'p', '##j', '##y', '/', 'ares', '##ec', '’', '.', 'the', '‘', '‘', '+', '”', 'marks', 'the', 'position', 'of', 'the', 'optical', 'knot', '.', 'north', 'is', 'up', 'and', 'east', 'is', 'to', 'the', 'left', '.']\n"
          ],
          "name": "stdout"
        }
      ]
    },
    {
      "cell_type": "code",
      "metadata": {
        "id": "a6PkGoPbkIjC",
        "outputId": "4bd77197-3b8c-4673-8845-caf9f3951d44",
        "colab": {
          "base_uri": "https://localhost:8080/",
          "height": 55
        }
      },
      "source": [
        "print(train_features[0].input_ids)"
      ],
      "execution_count": 42,
      "outputs": [
        {
          "output_type": "stream",
          "text": [
            "[101, 1015, 1012, 9530, 21163, 5436, 1997, 2256, 1047, 2361, 3630, 1054, 1521, 2316, 3746, 1997, 1017, 2278, 22022, 2575, 1012, 1996, 9530, 21163, 2015, 2024, 23409, 1006, 1050, 1027, 1015, 1010, 1016, 1010, 1017, 1010, 1012, 1012, 1012, 1010, 2260, 1007, 2073, 1051, 1027, 1014, 1012, 1017, 1052, 3501, 2100, 1013, 23631, 8586, 1521, 1012, 1996, 1520, 1520, 1009, 1524, 6017, 1996, 2597, 1997, 1996, 9380, 12226, 1012, 2167, 2003, 2039, 1998, 2264, 2003, 2000, 1996, 2187, 1012, 102, 0, 0, 0, 0, 0, 0, 0, 0, 0, 0, 0, 0, 0, 0, 0, 0, 0, 0, 0, 0, 0, 0, 0, 0, 0, 0, 0, 0, 0, 0, 0, 0, 0, 0, 0, 0, 0, 0, 0, 0, 0, 0, 0, 0, 0, 0, 0, 0]\n"
          ],
          "name": "stdout"
        }
      ]
    },
    {
      "cell_type": "code",
      "metadata": {
        "id": "nN5t48SVkO7a",
        "outputId": "f50a1748-f848-4a54-fc38-569a82ccb896",
        "colab": {
          "base_uri": "https://localhost:8080/",
          "height": 55
        }
      },
      "source": [
        "print(train_features[0].input_mask)"
      ],
      "execution_count": 43,
      "outputs": [
        {
          "output_type": "stream",
          "text": [
            "[1, 1, 1, 1, 1, 1, 1, 1, 1, 1, 1, 1, 1, 1, 1, 1, 1, 1, 1, 1, 1, 1, 1, 1, 1, 1, 1, 1, 1, 1, 1, 1, 1, 1, 1, 1, 1, 1, 1, 1, 1, 1, 1, 1, 1, 1, 1, 1, 1, 1, 1, 1, 1, 1, 1, 1, 1, 1, 1, 1, 1, 1, 1, 1, 1, 1, 1, 1, 1, 1, 1, 1, 1, 1, 1, 1, 1, 1, 1, 1, 0, 0, 0, 0, 0, 0, 0, 0, 0, 0, 0, 0, 0, 0, 0, 0, 0, 0, 0, 0, 0, 0, 0, 0, 0, 0, 0, 0, 0, 0, 0, 0, 0, 0, 0, 0, 0, 0, 0, 0, 0, 0, 0, 0, 0, 0, 0, 0]\n"
          ],
          "name": "stdout"
        }
      ]
    },
    {
      "cell_type": "code",
      "metadata": {
        "id": "kn21D0zYkUpa",
        "outputId": "1b595379-f03e-4026-dd28-b71a19d370ff",
        "colab": {
          "base_uri": "https://localhost:8080/",
          "height": 55
        }
      },
      "source": [
        "print(train_features[0].segment_ids)"
      ],
      "execution_count": 44,
      "outputs": [
        {
          "output_type": "stream",
          "text": [
            "[0, 0, 0, 0, 0, 0, 0, 0, 0, 0, 0, 0, 0, 0, 0, 0, 0, 0, 0, 0, 0, 0, 0, 0, 0, 0, 0, 0, 0, 0, 0, 0, 0, 0, 0, 0, 0, 0, 0, 0, 0, 0, 0, 0, 0, 0, 0, 0, 0, 0, 0, 0, 0, 0, 0, 0, 0, 0, 0, 0, 0, 0, 0, 0, 0, 0, 0, 0, 0, 0, 0, 0, 0, 0, 0, 0, 0, 0, 0, 0, 0, 0, 0, 0, 0, 0, 0, 0, 0, 0, 0, 0, 0, 0, 0, 0, 0, 0, 0, 0, 0, 0, 0, 0, 0, 0, 0, 0, 0, 0, 0, 0, 0, 0, 0, 0, 0, 0, 0, 0, 0, 0, 0, 0, 0, 0, 0, 0]\n"
          ],
          "name": "stdout"
        }
      ]
    },
    {
      "cell_type": "markdown",
      "metadata": {
        "id": "NiTNRPTSkhHK"
      },
      "source": [
        "# Building a Multi-Class Classifier Model \n"
      ]
    },
    {
      "cell_type": "code",
      "metadata": {
        "id": "mgLXeFKjkwbG"
      },
      "source": [
        "def create_multi_class_model(is_predicting, input_ids, input_mask, segment_ids, labels, num_labels):\n",
        "  bert_module= hub.Module(BERT_MODEL_HUB, trainable=True)\n",
        "  bert_inputs= dict(input_ids=input_ids, input_mask=input_mask, segment_ids=segment_ids)\n",
        "  bert_outputs= bert_module(inputs=bert_inputs, signature= \"tokens\", as_dict=True)\n",
        "\n",
        "  # \"pooled_output is used for classification tasks on an entire sentence\"\n",
        "  # sequence_output\" is used for token-level output\n",
        "\n",
        "  output_layer= bert_outputs[\"pooled_output\"]\n",
        "  hidden_size= output_layer.shape[-1].value\n",
        "\n",
        "  # creating own layer for tuning the data for politeness\n",
        "  output_weights= tf.get_variable(\"output_weights\", [num_labels, hidden_size], initializer=tf.truncated_normal_initializer(stddev=0.02))\n",
        "  output_bias= tf.get_variable(\"output_bias\", [num_labels], initializer=tf.zeros_initializer())\n",
        "\n",
        "  with tf.variable_scope(\"loss\"):\n",
        "\n",
        "    # Droput to prevent overfitting\n",
        "\n",
        "    output_layer= tf.nn.dropout(output_layer, keep_prob=0.9)\n",
        "    logits= tf.matmul(output_layer, output_weights, transpose_b=True)\n",
        "    logits= tf.nn.bias_add(logits, output_bias)\n",
        "    log_probs=tf.nn.log_softmax(logits, axis=1)\n",
        "\n",
        "    #Converting labels for one_hot_encoding\n",
        "\n",
        "    one_hot_labels= tf.one_hot(labels, depth=num_labels, dtype=tf.float32)\n",
        "\n",
        "    predicted_labels= tf.squeeze(tf.argmax(log_probs, axis=-1, output_type=tf.int32))\n",
        "\n",
        "    # When predicting task, we want the the predicted labels and the probabilities\n",
        "\n",
        "    if is_predicting:\n",
        "      return (predicted_labels, log_probs)\n",
        "\n",
        "    # During training/evaluation, compute loss between predicted and actual class label\n",
        "\n",
        "    per_sample_loss= -tf.reduce_sum(one_hot_labels*log_probs, axis=-1)\n",
        "    loss= tf.reduce_mean(per_sample_loss)\n",
        "\n",
        "    return (loss, predicted_labels, log_probs)"
      ],
      "execution_count": 45,
      "outputs": []
    },
    {
      "cell_type": "code",
      "metadata": {
        "id": "cSlLG3pxo5QQ"
      },
      "source": [
        "# A function to fit the above model for training, evaluation and prediction\n",
        "# Basically it builds the model using the previous model definition\n",
        "\n",
        "def model_func_builder( num_labels, learning_rate, num_train_steps, num_warmup_steps):\n",
        "\n",
        "  def model_func(features, labels, mode, params):\n",
        "\n",
        "    input_ids= features[\"input_ids\"]\n",
        "    input_mask=features[\"input_mask\"]\n",
        "    segment_ids=features[\"segment_ids\"]\n",
        "    label_ids=features[\"label_ids\"]\n",
        "\n",
        "    is_predicting= (mode== tf.estimator.ModeKeys.PREDICT)\n",
        "\n",
        "    #Train and Eval\n",
        "\n",
        "    if not is_predicting:\n",
        "      (loss, predicted_labels, log_probs)= create_multi_class_model( is_predicting, input_ids, input_mask, segment_ids, label_ids, num_labels)\n",
        "\n",
        "      train_op= bert.optimization.create_optimizer(loss, learning_rate, num_train_steps, num_warmup_steps, use_tpu=False)\n",
        "\n",
        "      # Now, calculating the evaluation Metrics\n",
        "\n",
        "      def metric_eval_func(label_ids, predicted_labels):\n",
        "        accuracy= tf.metrics.accuracy(label_ids, predicted_labels)\n",
        "        true_pos= tf.metrics.true_positives(label_ids, predicted_labels)\n",
        "        true_neg=tf.metrics.true_negatives(label_ids, predicted_labels)\n",
        "        false_pos=tf.metrics.false_positives(label_ids, predicted_labels)\n",
        "        false_neg= tf.metrics.false_negatives(label_ids, predicted_labels)\n",
        "\n",
        "        return {\"eval_accuracy\": accuracy,\n",
        "                \"true_positives\": true_pos,\n",
        "                \"true_negatives\": true_neg,\n",
        "                \"false_pos\": false_pos,\n",
        "                \"false_neg\": false_neg}\n",
        "        \n",
        "      eval_metrics= metric_eval_func(label_ids, predicted_labels)\n",
        "\n",
        "      if mode== tf.estimator.ModeKeys.TRAIN:\n",
        "\n",
        "        return tf.estimator.EstimatorSpec(mode=mode, loss=loss, train_op=train_op)\n",
        "      else:\n",
        "        return tf.estimator.EstimatorSpec(mode=mode, loss=loss, eval_metric_ops=eval_metrics)\n",
        "\n",
        "    else:\n",
        "\n",
        "      (predicted_labels, log_probs)= create_multi_class_model(is_predicting, input_ids, input_mask, segment_ids, label_ids, num_labels)\n",
        "      predictions = {\n",
        "          'probabilities': log_probs,\n",
        "          'labels': predicted_labels\n",
        "      }\n",
        "      return tf.estimator.EstimatorSpec(mode, predictions=predictions)\n",
        "\n",
        "# Now returning the actual model function in the closure\n",
        "  return model_func \n"
      ],
      "execution_count": 46,
      "outputs": []
    },
    {
      "cell_type": "code",
      "metadata": {
        "id": "6W-aATSVtiVw"
      },
      "source": [
        "# Comptuting the train and warm up steps from the batch size\n",
        "BATCH_SIZE= 32\n",
        "LEARNING_RATE=2e-6\n",
        "NUM_TRAIN_EPOCHS= 20.0\n",
        "\n",
        "#Warmping up since it helps in training for small learning rate initially and gradually increasing it\n",
        "\n",
        "WARMUP_PROPORTION = 0.1\n",
        "\n",
        "# Model Configuration\n",
        "\n",
        "SAVE_CHECKPOINTS_STEPS =300\n",
        "SAVE_SUMMARY_STEPS=100\n",
        "\n",
        "#Computing Training and Warmup steps from batch size\n",
        "\n",
        "num_train_steps= int(len(train_features)/ BATCH_SIZE*NUM_TRAIN_EPOCHS)\n",
        "num_warmup_steps= int(num_train_steps*WARMUP_PROPORTION)\n",
        "\n",
        "# Specifying output DIR and also number of checkpoints steps to save\n",
        "\n",
        "run_config= tf.estimator.RunConfig(model_dir=OUTPUT_DIR, save_summary_steps=SAVE_SUMMARY_STEPS, save_checkpoints_steps=SAVE_CHECKPOINTS_STEPS)\n"
      ],
      "execution_count": 110,
      "outputs": []
    },
    {
      "cell_type": "code",
      "metadata": {
        "id": "-H5I8shww45A",
        "outputId": "f526ff32-b126-4925-b580-cd14f2d02a66",
        "colab": {
          "base_uri": "https://localhost:8080/",
          "height": 280
        }
      },
      "source": [
        "# Initializing the model and the estimator\n",
        "\n",
        "model_func= model_func_builder( num_labels= len(label_list), learning_rate= LEARNING_RATE, num_train_steps=num_train_steps, num_warmup_steps=num_warmup_steps)\n",
        "estimator= tf.estimator.Estimator( model_fn=model_func, config= run_config, params={\"batch_size\": BATCH_SIZE})"
      ],
      "execution_count": 111,
      "outputs": [
        {
          "output_type": "stream",
          "text": [
            "INFO:tensorflow:Using config: {'_model_dir': '/gdrive/My Drive/Colab Notebooks/Independent study/BERT/Astronomical_Objects_Labels_Classifier', '_tf_random_seed': None, '_save_summary_steps': 100, '_save_checkpoints_steps': 300, '_save_checkpoints_secs': None, '_session_config': allow_soft_placement: true\n",
            "graph_options {\n",
            "  rewrite_options {\n",
            "    meta_optimizer_iterations: ONE\n",
            "  }\n",
            "}\n",
            ", '_keep_checkpoint_max': 5, '_keep_checkpoint_every_n_hours': 10000, '_log_step_count_steps': 100, '_train_distribute': None, '_device_fn': None, '_protocol': None, '_eval_distribute': None, '_experimental_distribute': None, '_experimental_max_worker_delay_secs': None, '_session_creation_timeout_secs': 7200, '_service': None, '_cluster_spec': <tensorflow.python.training.server_lib.ClusterSpec object at 0x7fca7fc935f8>, '_task_type': 'worker', '_task_id': 0, '_global_id_in_cluster': 0, '_master': '', '_evaluation_master': '', '_is_chief': True, '_num_ps_replicas': 0, '_num_worker_replicas': 1}\n"
          ],
          "name": "stdout"
        },
        {
          "output_type": "stream",
          "text": [
            "INFO:tensorflow:Using config: {'_model_dir': '/gdrive/My Drive/Colab Notebooks/Independent study/BERT/Astronomical_Objects_Labels_Classifier', '_tf_random_seed': None, '_save_summary_steps': 100, '_save_checkpoints_steps': 300, '_save_checkpoints_secs': None, '_session_config': allow_soft_placement: true\n",
            "graph_options {\n",
            "  rewrite_options {\n",
            "    meta_optimizer_iterations: ONE\n",
            "  }\n",
            "}\n",
            ", '_keep_checkpoint_max': 5, '_keep_checkpoint_every_n_hours': 10000, '_log_step_count_steps': 100, '_train_distribute': None, '_device_fn': None, '_protocol': None, '_eval_distribute': None, '_experimental_distribute': None, '_experimental_max_worker_delay_secs': None, '_session_creation_timeout_secs': 7200, '_service': None, '_cluster_spec': <tensorflow.python.training.server_lib.ClusterSpec object at 0x7fca7fc935f8>, '_task_type': 'worker', '_task_id': 0, '_global_id_in_cluster': 0, '_master': '', '_evaluation_master': '', '_is_chief': True, '_num_ps_replicas': 0, '_num_worker_replicas': 1}\n"
          ],
          "name": "stderr"
        }
      ]
    },
    {
      "cell_type": "markdown",
      "metadata": {
        "id": "p_L9KLdtx9bg"
      },
      "source": [
        "Now its needed to create a input builder function take taken in the input_features and produces a generator. Just following design patterns for using Tensorflow"
      ]
    },
    {
      "cell_type": "code",
      "metadata": {
        "id": "VL3XCFujxzLj"
      },
      "source": [
        "# Creting an input function for training. drop_remainder= Ture for using TPUs\n",
        "\n",
        "train_input_function= bert.run_classifier.input_fn_builder(features= train_features, seq_length=MAX_SEQ_LEN, is_training=True, drop_remainder=False)\n",
        "\n",
        "# Creting an input function for validating. drop_remainder= Ture for using TPUs\n",
        "\n",
        "val_input_function=bert.run_classifier.input_fn_builder(features= validation_features, seq_length=MAX_SEQ_LEN, is_training=False, drop_remainder=False)\n",
        "\n"
      ],
      "execution_count": 112,
      "outputs": []
    },
    {
      "cell_type": "markdown",
      "metadata": {
        "id": "Jn5jnLC_y6VS"
      },
      "source": [
        "#Finally Training and Evaluting"
      ]
    },
    {
      "cell_type": "code",
      "metadata": {
        "id": "XIlS9_qty790",
        "outputId": "3bffec18-0dbc-436f-d90f-732e7ef17e18",
        "colab": {
          "base_uri": "https://localhost:8080/",
          "height": 800
        }
      },
      "source": [
        "#Trainign the Model\n",
        "\n",
        "print(\"Beginignt the training! Be Patient\")\n",
        "current_time= datetime.now()\n",
        "estimator.train(input_fn=train_input_function, max_steps=num_train_steps)\n",
        "print(\"Training the BERT model took time\", datetime.now()-current_time)"
      ],
      "execution_count": 113,
      "outputs": [
        {
          "output_type": "stream",
          "text": [
            "Beginignt the training! Be Patient\n",
            "WARNING:tensorflow:From /tensorflow-1.15.2/python3.6/tensorflow_core/python/training/training_util.py:236: Variable.initialized_value (from tensorflow.python.ops.variables) is deprecated and will be removed in a future version.\n",
            "Instructions for updating:\n",
            "Use Variable.read_value. Variables in 2.X are initialized automatically both in eager and graph (inside tf.defun) contexts.\n"
          ],
          "name": "stdout"
        },
        {
          "output_type": "stream",
          "text": [
            "WARNING:tensorflow:From /tensorflow-1.15.2/python3.6/tensorflow_core/python/training/training_util.py:236: Variable.initialized_value (from tensorflow.python.ops.variables) is deprecated and will be removed in a future version.\n",
            "Instructions for updating:\n",
            "Use Variable.read_value. Variables in 2.X are initialized automatically both in eager and graph (inside tf.defun) contexts.\n"
          ],
          "name": "stderr"
        },
        {
          "output_type": "stream",
          "text": [
            "INFO:tensorflow:Calling model_fn.\n"
          ],
          "name": "stdout"
        },
        {
          "output_type": "stream",
          "text": [
            "INFO:tensorflow:Calling model_fn.\n"
          ],
          "name": "stderr"
        },
        {
          "output_type": "stream",
          "text": [
            "INFO:tensorflow:Saver not created because there are no variables in the graph to restore\n"
          ],
          "name": "stdout"
        },
        {
          "output_type": "stream",
          "text": [
            "INFO:tensorflow:Saver not created because there are no variables in the graph to restore\n",
            "/tensorflow-1.15.2/python3.6/tensorflow_core/python/framework/indexed_slices.py:424: UserWarning: Converting sparse IndexedSlices to a dense Tensor of unknown shape. This may consume a large amount of memory.\n",
            "  \"Converting sparse IndexedSlices to a dense Tensor of unknown shape. \"\n"
          ],
          "name": "stderr"
        },
        {
          "output_type": "stream",
          "text": [
            "INFO:tensorflow:Done calling model_fn.\n"
          ],
          "name": "stdout"
        },
        {
          "output_type": "stream",
          "text": [
            "INFO:tensorflow:Done calling model_fn.\n"
          ],
          "name": "stderr"
        },
        {
          "output_type": "stream",
          "text": [
            "INFO:tensorflow:Create CheckpointSaverHook.\n"
          ],
          "name": "stdout"
        },
        {
          "output_type": "stream",
          "text": [
            "INFO:tensorflow:Create CheckpointSaverHook.\n"
          ],
          "name": "stderr"
        },
        {
          "output_type": "stream",
          "text": [
            "INFO:tensorflow:Graph was finalized.\n"
          ],
          "name": "stdout"
        },
        {
          "output_type": "stream",
          "text": [
            "INFO:tensorflow:Graph was finalized.\n"
          ],
          "name": "stderr"
        },
        {
          "output_type": "stream",
          "text": [
            "INFO:tensorflow:Restoring parameters from /gdrive/My Drive/Colab Notebooks/Independent study/BERT/Astronomical_Objects_Labels_Classifier/model.ckpt-528\n"
          ],
          "name": "stdout"
        },
        {
          "output_type": "stream",
          "text": [
            "INFO:tensorflow:Restoring parameters from /gdrive/My Drive/Colab Notebooks/Independent study/BERT/Astronomical_Objects_Labels_Classifier/model.ckpt-528\n"
          ],
          "name": "stderr"
        },
        {
          "output_type": "stream",
          "text": [
            "WARNING:tensorflow:From /tensorflow-1.15.2/python3.6/tensorflow_core/python/training/saver.py:1069: get_checkpoint_mtimes (from tensorflow.python.training.checkpoint_management) is deprecated and will be removed in a future version.\n",
            "Instructions for updating:\n",
            "Use standard file utilities to get mtimes.\n"
          ],
          "name": "stdout"
        },
        {
          "output_type": "stream",
          "text": [
            "WARNING:tensorflow:From /tensorflow-1.15.2/python3.6/tensorflow_core/python/training/saver.py:1069: get_checkpoint_mtimes (from tensorflow.python.training.checkpoint_management) is deprecated and will be removed in a future version.\n",
            "Instructions for updating:\n",
            "Use standard file utilities to get mtimes.\n"
          ],
          "name": "stderr"
        },
        {
          "output_type": "stream",
          "text": [
            "INFO:tensorflow:Running local_init_op.\n"
          ],
          "name": "stdout"
        },
        {
          "output_type": "stream",
          "text": [
            "INFO:tensorflow:Running local_init_op.\n"
          ],
          "name": "stderr"
        },
        {
          "output_type": "stream",
          "text": [
            "INFO:tensorflow:Done running local_init_op.\n"
          ],
          "name": "stdout"
        },
        {
          "output_type": "stream",
          "text": [
            "INFO:tensorflow:Done running local_init_op.\n"
          ],
          "name": "stderr"
        },
        {
          "output_type": "stream",
          "text": [
            "INFO:tensorflow:Saving checkpoints for 528 into /gdrive/My Drive/Colab Notebooks/Independent study/BERT/Astronomical_Objects_Labels_Classifier/model.ckpt.\n"
          ],
          "name": "stdout"
        },
        {
          "output_type": "stream",
          "text": [
            "INFO:tensorflow:Saving checkpoints for 528 into /gdrive/My Drive/Colab Notebooks/Independent study/BERT/Astronomical_Objects_Labels_Classifier/model.ckpt.\n"
          ],
          "name": "stderr"
        },
        {
          "output_type": "stream",
          "text": [
            "INFO:tensorflow:loss = 0.037323903, step = 528\n"
          ],
          "name": "stdout"
        },
        {
          "output_type": "stream",
          "text": [
            "INFO:tensorflow:loss = 0.037323903, step = 528\n"
          ],
          "name": "stderr"
        },
        {
          "output_type": "stream",
          "text": [
            "INFO:tensorflow:global_step/sec: 0.984255\n"
          ],
          "name": "stdout"
        },
        {
          "output_type": "stream",
          "text": [
            "INFO:tensorflow:global_step/sec: 0.984255\n"
          ],
          "name": "stderr"
        },
        {
          "output_type": "stream",
          "text": [
            "INFO:tensorflow:loss = 0.027506031, step = 628 (101.601 sec)\n"
          ],
          "name": "stdout"
        },
        {
          "output_type": "stream",
          "text": [
            "INFO:tensorflow:loss = 0.027506031, step = 628 (101.601 sec)\n"
          ],
          "name": "stderr"
        },
        {
          "output_type": "stream",
          "text": [
            "INFO:tensorflow:Saving checkpoints for 705 into /gdrive/My Drive/Colab Notebooks/Independent study/BERT/Astronomical_Objects_Labels_Classifier/model.ckpt.\n"
          ],
          "name": "stdout"
        },
        {
          "output_type": "stream",
          "text": [
            "INFO:tensorflow:Saving checkpoints for 705 into /gdrive/My Drive/Colab Notebooks/Independent study/BERT/Astronomical_Objects_Labels_Classifier/model.ckpt.\n"
          ],
          "name": "stderr"
        },
        {
          "output_type": "stream",
          "text": [
            "INFO:tensorflow:Loss for final step: 0.029514076.\n"
          ],
          "name": "stdout"
        },
        {
          "output_type": "stream",
          "text": [
            "INFO:tensorflow:Loss for final step: 0.029514076.\n"
          ],
          "name": "stderr"
        },
        {
          "output_type": "stream",
          "text": [
            "Training the BERT model took time 0:03:28.383634\n"
          ],
          "name": "stdout"
        }
      ]
    },
    {
      "cell_type": "code",
      "metadata": {
        "id": "_lIMBQp03jpQ",
        "outputId": "5e5b89c6-fbb6-4de0-f9c0-26a05154e282",
        "colab": {
          "base_uri": "https://localhost:8080/",
          "height": 575
        }
      },
      "source": [
        "#Evaluating the model with our validation set\n",
        "\n",
        "estimator.evaluate(input_fn=val_input_function, steps=None)"
      ],
      "execution_count": 114,
      "outputs": [
        {
          "output_type": "stream",
          "text": [
            "INFO:tensorflow:Calling model_fn.\n"
          ],
          "name": "stdout"
        },
        {
          "output_type": "stream",
          "text": [
            "INFO:tensorflow:Calling model_fn.\n"
          ],
          "name": "stderr"
        },
        {
          "output_type": "stream",
          "text": [
            "INFO:tensorflow:Saver not created because there are no variables in the graph to restore\n"
          ],
          "name": "stdout"
        },
        {
          "output_type": "stream",
          "text": [
            "INFO:tensorflow:Saver not created because there are no variables in the graph to restore\n",
            "/tensorflow-1.15.2/python3.6/tensorflow_core/python/framework/indexed_slices.py:424: UserWarning: Converting sparse IndexedSlices to a dense Tensor of unknown shape. This may consume a large amount of memory.\n",
            "  \"Converting sparse IndexedSlices to a dense Tensor of unknown shape. \"\n"
          ],
          "name": "stderr"
        },
        {
          "output_type": "stream",
          "text": [
            "INFO:tensorflow:Done calling model_fn.\n"
          ],
          "name": "stdout"
        },
        {
          "output_type": "stream",
          "text": [
            "INFO:tensorflow:Done calling model_fn.\n"
          ],
          "name": "stderr"
        },
        {
          "output_type": "stream",
          "text": [
            "INFO:tensorflow:Starting evaluation at 2020-10-27T05:19:40Z\n"
          ],
          "name": "stdout"
        },
        {
          "output_type": "stream",
          "text": [
            "INFO:tensorflow:Starting evaluation at 2020-10-27T05:19:40Z\n"
          ],
          "name": "stderr"
        },
        {
          "output_type": "stream",
          "text": [
            "INFO:tensorflow:Graph was finalized.\n"
          ],
          "name": "stdout"
        },
        {
          "output_type": "stream",
          "text": [
            "INFO:tensorflow:Graph was finalized.\n"
          ],
          "name": "stderr"
        },
        {
          "output_type": "stream",
          "text": [
            "INFO:tensorflow:Restoring parameters from /gdrive/My Drive/Colab Notebooks/Independent study/BERT/Astronomical_Objects_Labels_Classifier/model.ckpt-705\n"
          ],
          "name": "stdout"
        },
        {
          "output_type": "stream",
          "text": [
            "INFO:tensorflow:Restoring parameters from /gdrive/My Drive/Colab Notebooks/Independent study/BERT/Astronomical_Objects_Labels_Classifier/model.ckpt-705\n"
          ],
          "name": "stderr"
        },
        {
          "output_type": "stream",
          "text": [
            "INFO:tensorflow:Running local_init_op.\n"
          ],
          "name": "stdout"
        },
        {
          "output_type": "stream",
          "text": [
            "INFO:tensorflow:Running local_init_op.\n"
          ],
          "name": "stderr"
        },
        {
          "output_type": "stream",
          "text": [
            "INFO:tensorflow:Done running local_init_op.\n"
          ],
          "name": "stdout"
        },
        {
          "output_type": "stream",
          "text": [
            "INFO:tensorflow:Done running local_init_op.\n"
          ],
          "name": "stderr"
        },
        {
          "output_type": "stream",
          "text": [
            "INFO:tensorflow:Finished evaluation at 2020-10-27-05:19:54\n"
          ],
          "name": "stdout"
        },
        {
          "output_type": "stream",
          "text": [
            "INFO:tensorflow:Finished evaluation at 2020-10-27-05:19:54\n"
          ],
          "name": "stderr"
        },
        {
          "output_type": "stream",
          "text": [
            "INFO:tensorflow:Saving dict for global step 705: eval_accuracy = 0.7006652, false_neg = 23.0, false_pos = 16.0, global_step = 705, loss = 1.419422, true_negatives = 41.0, true_positives = 822.0\n"
          ],
          "name": "stdout"
        },
        {
          "output_type": "stream",
          "text": [
            "INFO:tensorflow:Saving dict for global step 705: eval_accuracy = 0.7006652, false_neg = 23.0, false_pos = 16.0, global_step = 705, loss = 1.419422, true_negatives = 41.0, true_positives = 822.0\n"
          ],
          "name": "stderr"
        },
        {
          "output_type": "stream",
          "text": [
            "INFO:tensorflow:Saving 'checkpoint_path' summary for global step 705: /gdrive/My Drive/Colab Notebooks/Independent study/BERT/Astronomical_Objects_Labels_Classifier/model.ckpt-705\n"
          ],
          "name": "stdout"
        },
        {
          "output_type": "stream",
          "text": [
            "INFO:tensorflow:Saving 'checkpoint_path' summary for global step 705: /gdrive/My Drive/Colab Notebooks/Independent study/BERT/Astronomical_Objects_Labels_Classifier/model.ckpt-705\n"
          ],
          "name": "stderr"
        },
        {
          "output_type": "execute_result",
          "data": {
            "text/plain": [
              "{'eval_accuracy': 0.7006652,\n",
              " 'false_neg': 23.0,\n",
              " 'false_pos': 16.0,\n",
              " 'global_step': 705,\n",
              " 'loss': 1.419422,\n",
              " 'true_negatives': 41.0,\n",
              " 'true_positives': 822.0}"
            ]
          },
          "metadata": {
            "tags": []
          },
          "execution_count": 114
        }
      ]
    },
    {
      "cell_type": "markdown",
      "metadata": {
        "id": "9PKxIz3JCNTK"
      },
      "source": [
        "# Prediction for Test Data"
      ]
    },
    {
      "cell_type": "code",
      "metadata": {
        "id": "H5Gaa68ly3-l"
      },
      "source": [
        "\"\"\"Sun'=0,'Multifig'=1, 'RADEC'=2, 'Spectra'=3, 'RADECrel'=4, 'Illustrations'=5,\n",
        "'Graph'=6, 'Simulations'=7, 'Planets'=8, 'SkyNoCoords'=9, 'Photos'=10 \"\"\"\n",
        "\n",
        "def get_predicted_result(test_sentences):\n",
        "  #A list tp map the actual labels to the predicted\n",
        "  labels=[\"Sun\",\"Multifig\", \"RADEC\", \"Spectra\", \"RADECrel\",\"Illustrations\",\n",
        "  \"Graph\", \"Simulations\", \"Planets\", \"SkyNoCoords\", \"Photos\"]\n",
        "\n",
        "  #Transforming the Test data for BERT input format\n",
        "\n",
        "  input_samples= [run_classifier.InputExample(guid=\"\", text_a=x, text_b=None, label=0) for x in test_sentences]\n",
        "\n",
        "\n",
        "  # Next creating input features for test_data\n",
        "  input_features=run_classifier.convert_examples_to_features(input_samples, label_list, MAX_SEQ_LEN, tokenizer)\n",
        "\n",
        "  #Predicting the classes\n",
        "  predict_input_func= run_classifier.input_fn_builder(features=input_features, seq_length=MAX_SEQ_LEN, is_training=False, drop_remainder=False)\n",
        "\n",
        "  predictions= estimator.predict(predict_input_func)\n",
        "\n",
        "  return [ ( sentence, prediction[\"probabilities\"], prediction['labels'], labels[prediction['labels']]) for sentence, prediction in zip(test_sentences, predictions)]\n"
      ],
      "execution_count": 115,
      "outputs": []
    },
    {
      "cell_type": "code",
      "metadata": {
        "id": "h6FocFBGFoF0"
      },
      "source": [
        "test_sentences= list(test_data['caption'])"
      ],
      "execution_count": 116,
      "outputs": []
    },
    {
      "cell_type": "code",
      "metadata": {
        "id": "D2wcj5ArGGpX",
        "outputId": "b20a289c-57b1-4185-b204-172bfa83f6ab",
        "colab": {
          "base_uri": "https://localhost:8080/",
          "height": 1000
        }
      },
      "source": [
        "predictions= get_predicted_result(test_sentences)"
      ],
      "execution_count": 117,
      "outputs": [
        {
          "output_type": "stream",
          "text": [
            "INFO:tensorflow:Writing example 0 of 226\n"
          ],
          "name": "stdout"
        },
        {
          "output_type": "stream",
          "text": [
            "INFO:tensorflow:Writing example 0 of 226\n"
          ],
          "name": "stderr"
        },
        {
          "output_type": "stream",
          "text": [
            "INFO:tensorflow:*** Example ***\n"
          ],
          "name": "stdout"
        },
        {
          "output_type": "stream",
          "text": [
            "INFO:tensorflow:*** Example ***\n"
          ],
          "name": "stderr"
        },
        {
          "output_type": "stream",
          "text": [
            "INFO:tensorflow:guid: \n"
          ],
          "name": "stdout"
        },
        {
          "output_type": "stream",
          "text": [
            "INFO:tensorflow:guid: \n"
          ],
          "name": "stderr"
        },
        {
          "output_type": "stream",
          "text": [
            "INFO:tensorflow:tokens: [CLS] 2 — ( a ) gray - scale reproduction of the b , band image of the field ir ##l with a position matched sub ##section of the [ ras 100 um con ##tour map over ##laid . dark areas on the black and white image correspond to regions of high optical surface brightness . spa ##cing between the 100 um con ##tour ##s is 0 . 6 m ##j ##y sr ~ ‘ , and brightness levels decrease mono ##tonic ##ally from the ne corner of the field to the sw . arrows mark the directions n and e , and the line segment represents 1 ’ . ( b ) same as ( a ) , showing the r band image of ir ##l [SEP]\n"
          ],
          "name": "stdout"
        },
        {
          "output_type": "stream",
          "text": [
            "INFO:tensorflow:tokens: [CLS] 2 — ( a ) gray - scale reproduction of the b , band image of the field ir ##l with a position matched sub ##section of the [ ras 100 um con ##tour map over ##laid . dark areas on the black and white image correspond to regions of high optical surface brightness . spa ##cing between the 100 um con ##tour ##s is 0 . 6 m ##j ##y sr ~ ‘ , and brightness levels decrease mono ##tonic ##ally from the ne corner of the field to the sw . arrows mark the directions n and e , and the line segment represents 1 ’ . ( b ) same as ( a ) , showing the r band image of ir ##l [SEP]\n"
          ],
          "name": "stderr"
        },
        {
          "output_type": "stream",
          "text": [
            "INFO:tensorflow:input_ids: 101 1016 1517 1006 1037 1007 3897 1011 4094 14627 1997 1996 1038 1010 2316 3746 1997 1996 2492 20868 2140 2007 1037 2597 10349 4942 29015 1997 1996 1031 20710 2531 8529 9530 21163 4949 2058 24393 1012 2601 2752 2006 1996 2304 1998 2317 3746 17254 2000 4655 1997 2152 9380 3302 18295 1012 12403 6129 2090 1996 2531 8529 9530 21163 2015 2003 1014 1012 1020 1049 3501 2100 5034 1066 1520 1010 1998 18295 3798 9885 18847 25009 3973 2013 1996 11265 3420 1997 1996 2492 2000 1996 25430 1012 12563 2928 1996 7826 1050 1998 1041 1010 1998 1996 2240 6903 5836 1015 1521 1012 1006 1038 1007 2168 2004 1006 1037 1007 1010 4760 1996 1054 2316 3746 1997 20868 2140 102\n"
          ],
          "name": "stdout"
        },
        {
          "output_type": "stream",
          "text": [
            "INFO:tensorflow:input_ids: 101 1016 1517 1006 1037 1007 3897 1011 4094 14627 1997 1996 1038 1010 2316 3746 1997 1996 2492 20868 2140 2007 1037 2597 10349 4942 29015 1997 1996 1031 20710 2531 8529 9530 21163 4949 2058 24393 1012 2601 2752 2006 1996 2304 1998 2317 3746 17254 2000 4655 1997 2152 9380 3302 18295 1012 12403 6129 2090 1996 2531 8529 9530 21163 2015 2003 1014 1012 1020 1049 3501 2100 5034 1066 1520 1010 1998 18295 3798 9885 18847 25009 3973 2013 1996 11265 3420 1997 1996 2492 2000 1996 25430 1012 12563 2928 1996 7826 1050 1998 1041 1010 1998 1996 2240 6903 5836 1015 1521 1012 1006 1038 1007 2168 2004 1006 1037 1007 1010 4760 1996 1054 2316 3746 1997 20868 2140 102\n"
          ],
          "name": "stderr"
        },
        {
          "output_type": "stream",
          "text": [
            "INFO:tensorflow:input_mask: 1 1 1 1 1 1 1 1 1 1 1 1 1 1 1 1 1 1 1 1 1 1 1 1 1 1 1 1 1 1 1 1 1 1 1 1 1 1 1 1 1 1 1 1 1 1 1 1 1 1 1 1 1 1 1 1 1 1 1 1 1 1 1 1 1 1 1 1 1 1 1 1 1 1 1 1 1 1 1 1 1 1 1 1 1 1 1 1 1 1 1 1 1 1 1 1 1 1 1 1 1 1 1 1 1 1 1 1 1 1 1 1 1 1 1 1 1 1 1 1 1 1 1 1 1 1 1 1\n"
          ],
          "name": "stdout"
        },
        {
          "output_type": "stream",
          "text": [
            "INFO:tensorflow:input_mask: 1 1 1 1 1 1 1 1 1 1 1 1 1 1 1 1 1 1 1 1 1 1 1 1 1 1 1 1 1 1 1 1 1 1 1 1 1 1 1 1 1 1 1 1 1 1 1 1 1 1 1 1 1 1 1 1 1 1 1 1 1 1 1 1 1 1 1 1 1 1 1 1 1 1 1 1 1 1 1 1 1 1 1 1 1 1 1 1 1 1 1 1 1 1 1 1 1 1 1 1 1 1 1 1 1 1 1 1 1 1 1 1 1 1 1 1 1 1 1 1 1 1 1 1 1 1 1 1\n"
          ],
          "name": "stderr"
        },
        {
          "output_type": "stream",
          "text": [
            "INFO:tensorflow:segment_ids: 0 0 0 0 0 0 0 0 0 0 0 0 0 0 0 0 0 0 0 0 0 0 0 0 0 0 0 0 0 0 0 0 0 0 0 0 0 0 0 0 0 0 0 0 0 0 0 0 0 0 0 0 0 0 0 0 0 0 0 0 0 0 0 0 0 0 0 0 0 0 0 0 0 0 0 0 0 0 0 0 0 0 0 0 0 0 0 0 0 0 0 0 0 0 0 0 0 0 0 0 0 0 0 0 0 0 0 0 0 0 0 0 0 0 0 0 0 0 0 0 0 0 0 0 0 0 0 0\n"
          ],
          "name": "stdout"
        },
        {
          "output_type": "stream",
          "text": [
            "INFO:tensorflow:segment_ids: 0 0 0 0 0 0 0 0 0 0 0 0 0 0 0 0 0 0 0 0 0 0 0 0 0 0 0 0 0 0 0 0 0 0 0 0 0 0 0 0 0 0 0 0 0 0 0 0 0 0 0 0 0 0 0 0 0 0 0 0 0 0 0 0 0 0 0 0 0 0 0 0 0 0 0 0 0 0 0 0 0 0 0 0 0 0 0 0 0 0 0 0 0 0 0 0 0 0 0 0 0 0 0 0 0 0 0 0 0 0 0 0 0 0 0 0 0 0 0 0 0 0 0 0 0 0 0 0\n"
          ],
          "name": "stderr"
        },
        {
          "output_type": "stream",
          "text": [
            "INFO:tensorflow:label: 0 (id = 0)\n"
          ],
          "name": "stdout"
        },
        {
          "output_type": "stream",
          "text": [
            "INFO:tensorflow:label: 0 (id = 0)\n"
          ],
          "name": "stderr"
        },
        {
          "output_type": "stream",
          "text": [
            "INFO:tensorflow:*** Example ***\n"
          ],
          "name": "stdout"
        },
        {
          "output_type": "stream",
          "text": [
            "INFO:tensorflow:*** Example ***\n"
          ],
          "name": "stderr"
        },
        {
          "output_type": "stream",
          "text": [
            "INFO:tensorflow:guid: \n"
          ],
          "name": "stdout"
        },
        {
          "output_type": "stream",
          "text": [
            "INFO:tensorflow:guid: \n"
          ],
          "name": "stderr"
        },
        {
          "output_type": "stream",
          "text": [
            "INFO:tensorflow:tokens: [CLS] a 1 . — photograph in blue light of the northwest quadrant of the gr ##ae region under investigation is ‘ ‘ boxed . ” [SEP]\n"
          ],
          "name": "stdout"
        },
        {
          "output_type": "stream",
          "text": [
            "INFO:tensorflow:tokens: [CLS] a 1 . — photograph in blue light of the northwest quadrant of the gr ##ae region under investigation is ‘ ‘ boxed . ” [SEP]\n"
          ],
          "name": "stderr"
        },
        {
          "output_type": "stream",
          "text": [
            "INFO:tensorflow:input_ids: 101 1037 1015 1012 1517 9982 1999 2630 2422 1997 1996 4514 29371 1997 1996 24665 6679 2555 2104 4812 2003 1520 1520 27554 1012 1524 102 0 0 0 0 0 0 0 0 0 0 0 0 0 0 0 0 0 0 0 0 0 0 0 0 0 0 0 0 0 0 0 0 0 0 0 0 0 0 0 0 0 0 0 0 0 0 0 0 0 0 0 0 0 0 0 0 0 0 0 0 0 0 0 0 0 0 0 0 0 0 0 0 0 0 0 0 0 0 0 0 0 0 0 0 0 0 0 0 0 0 0 0 0 0 0 0 0 0 0 0 0\n"
          ],
          "name": "stdout"
        },
        {
          "output_type": "stream",
          "text": [
            "INFO:tensorflow:input_ids: 101 1037 1015 1012 1517 9982 1999 2630 2422 1997 1996 4514 29371 1997 1996 24665 6679 2555 2104 4812 2003 1520 1520 27554 1012 1524 102 0 0 0 0 0 0 0 0 0 0 0 0 0 0 0 0 0 0 0 0 0 0 0 0 0 0 0 0 0 0 0 0 0 0 0 0 0 0 0 0 0 0 0 0 0 0 0 0 0 0 0 0 0 0 0 0 0 0 0 0 0 0 0 0 0 0 0 0 0 0 0 0 0 0 0 0 0 0 0 0 0 0 0 0 0 0 0 0 0 0 0 0 0 0 0 0 0 0 0 0 0\n"
          ],
          "name": "stderr"
        },
        {
          "output_type": "stream",
          "text": [
            "INFO:tensorflow:input_mask: 1 1 1 1 1 1 1 1 1 1 1 1 1 1 1 1 1 1 1 1 1 1 1 1 1 1 1 0 0 0 0 0 0 0 0 0 0 0 0 0 0 0 0 0 0 0 0 0 0 0 0 0 0 0 0 0 0 0 0 0 0 0 0 0 0 0 0 0 0 0 0 0 0 0 0 0 0 0 0 0 0 0 0 0 0 0 0 0 0 0 0 0 0 0 0 0 0 0 0 0 0 0 0 0 0 0 0 0 0 0 0 0 0 0 0 0 0 0 0 0 0 0 0 0 0 0 0 0\n"
          ],
          "name": "stdout"
        },
        {
          "output_type": "stream",
          "text": [
            "INFO:tensorflow:input_mask: 1 1 1 1 1 1 1 1 1 1 1 1 1 1 1 1 1 1 1 1 1 1 1 1 1 1 1 0 0 0 0 0 0 0 0 0 0 0 0 0 0 0 0 0 0 0 0 0 0 0 0 0 0 0 0 0 0 0 0 0 0 0 0 0 0 0 0 0 0 0 0 0 0 0 0 0 0 0 0 0 0 0 0 0 0 0 0 0 0 0 0 0 0 0 0 0 0 0 0 0 0 0 0 0 0 0 0 0 0 0 0 0 0 0 0 0 0 0 0 0 0 0 0 0 0 0 0 0\n"
          ],
          "name": "stderr"
        },
        {
          "output_type": "stream",
          "text": [
            "INFO:tensorflow:segment_ids: 0 0 0 0 0 0 0 0 0 0 0 0 0 0 0 0 0 0 0 0 0 0 0 0 0 0 0 0 0 0 0 0 0 0 0 0 0 0 0 0 0 0 0 0 0 0 0 0 0 0 0 0 0 0 0 0 0 0 0 0 0 0 0 0 0 0 0 0 0 0 0 0 0 0 0 0 0 0 0 0 0 0 0 0 0 0 0 0 0 0 0 0 0 0 0 0 0 0 0 0 0 0 0 0 0 0 0 0 0 0 0 0 0 0 0 0 0 0 0 0 0 0 0 0 0 0 0 0\n"
          ],
          "name": "stdout"
        },
        {
          "output_type": "stream",
          "text": [
            "INFO:tensorflow:segment_ids: 0 0 0 0 0 0 0 0 0 0 0 0 0 0 0 0 0 0 0 0 0 0 0 0 0 0 0 0 0 0 0 0 0 0 0 0 0 0 0 0 0 0 0 0 0 0 0 0 0 0 0 0 0 0 0 0 0 0 0 0 0 0 0 0 0 0 0 0 0 0 0 0 0 0 0 0 0 0 0 0 0 0 0 0 0 0 0 0 0 0 0 0 0 0 0 0 0 0 0 0 0 0 0 0 0 0 0 0 0 0 0 0 0 0 0 0 0 0 0 0 0 0 0 0 0 0 0 0\n"
          ],
          "name": "stderr"
        },
        {
          "output_type": "stream",
          "text": [
            "INFO:tensorflow:label: 0 (id = 0)\n"
          ],
          "name": "stdout"
        },
        {
          "output_type": "stream",
          "text": [
            "INFO:tensorflow:label: 0 (id = 0)\n"
          ],
          "name": "stderr"
        },
        {
          "output_type": "stream",
          "text": [
            "INFO:tensorflow:*** Example ***\n"
          ],
          "name": "stdout"
        },
        {
          "output_type": "stream",
          "text": [
            "INFO:tensorflow:*** Example ***\n"
          ],
          "name": "stderr"
        },
        {
          "output_type": "stream",
          "text": [
            "INFO:tensorflow:guid: \n"
          ],
          "name": "stdout"
        },
        {
          "output_type": "stream",
          "text": [
            "INFO:tensorflow:guid: \n"
          ],
          "name": "stderr"
        },
        {
          "output_type": "stream",
          "text": [
            "INFO:tensorflow:tokens: [CLS] 4 . — composite ( b , v ) diagram of the co emission . the upper half ( vis ##r > 0 ) is along the eastern ridge at / = 10 ’ , and the lower half ( vis ##r < 0 ) along the western ridge at / = — 30 ’ . con ##tour ##s are at 1 , 2 , . . . , 10 , 12 , 15 , 20 g ##j ann ##y 40 x 0 . 1 k . [SEP]\n"
          ],
          "name": "stdout"
        },
        {
          "output_type": "stream",
          "text": [
            "INFO:tensorflow:tokens: [CLS] 4 . — composite ( b , v ) diagram of the co emission . the upper half ( vis ##r > 0 ) is along the eastern ridge at / = 10 ’ , and the lower half ( vis ##r < 0 ) along the western ridge at / = — 30 ’ . con ##tour ##s are at 1 , 2 , . . . , 10 , 12 , 15 , 20 g ##j ann ##y 40 x 0 . 1 k . [SEP]\n"
          ],
          "name": "stderr"
        },
        {
          "output_type": "stream",
          "text": [
            "INFO:tensorflow:input_ids: 101 1018 1012 1517 12490 1006 1038 1010 1058 1007 16403 1997 1996 2522 15760 1012 1996 3356 2431 1006 25292 2099 1028 1014 1007 2003 2247 1996 2789 5526 2012 1013 1027 2184 1521 1010 1998 1996 2896 2431 1006 25292 2099 1026 1014 1007 2247 1996 2530 5526 2012 1013 1027 1517 2382 1521 1012 9530 21163 2015 2024 2012 1015 1010 1016 1010 1012 1012 1012 1010 2184 1010 2260 1010 2321 1010 2322 1043 3501 5754 2100 2871 1060 1014 1012 1015 1047 1012 102 0 0 0 0 0 0 0 0 0 0 0 0 0 0 0 0 0 0 0 0 0 0 0 0 0 0 0 0 0 0 0 0 0 0 0 0 0 0 0\n"
          ],
          "name": "stdout"
        },
        {
          "output_type": "stream",
          "text": [
            "INFO:tensorflow:input_ids: 101 1018 1012 1517 12490 1006 1038 1010 1058 1007 16403 1997 1996 2522 15760 1012 1996 3356 2431 1006 25292 2099 1028 1014 1007 2003 2247 1996 2789 5526 2012 1013 1027 2184 1521 1010 1998 1996 2896 2431 1006 25292 2099 1026 1014 1007 2247 1996 2530 5526 2012 1013 1027 1517 2382 1521 1012 9530 21163 2015 2024 2012 1015 1010 1016 1010 1012 1012 1012 1010 2184 1010 2260 1010 2321 1010 2322 1043 3501 5754 2100 2871 1060 1014 1012 1015 1047 1012 102 0 0 0 0 0 0 0 0 0 0 0 0 0 0 0 0 0 0 0 0 0 0 0 0 0 0 0 0 0 0 0 0 0 0 0 0 0 0 0\n"
          ],
          "name": "stderr"
        },
        {
          "output_type": "stream",
          "text": [
            "INFO:tensorflow:input_mask: 1 1 1 1 1 1 1 1 1 1 1 1 1 1 1 1 1 1 1 1 1 1 1 1 1 1 1 1 1 1 1 1 1 1 1 1 1 1 1 1 1 1 1 1 1 1 1 1 1 1 1 1 1 1 1 1 1 1 1 1 1 1 1 1 1 1 1 1 1 1 1 1 1 1 1 1 1 1 1 1 1 1 1 1 1 1 1 1 1 0 0 0 0 0 0 0 0 0 0 0 0 0 0 0 0 0 0 0 0 0 0 0 0 0 0 0 0 0 0 0 0 0 0 0 0 0 0 0\n"
          ],
          "name": "stdout"
        },
        {
          "output_type": "stream",
          "text": [
            "INFO:tensorflow:input_mask: 1 1 1 1 1 1 1 1 1 1 1 1 1 1 1 1 1 1 1 1 1 1 1 1 1 1 1 1 1 1 1 1 1 1 1 1 1 1 1 1 1 1 1 1 1 1 1 1 1 1 1 1 1 1 1 1 1 1 1 1 1 1 1 1 1 1 1 1 1 1 1 1 1 1 1 1 1 1 1 1 1 1 1 1 1 1 1 1 1 0 0 0 0 0 0 0 0 0 0 0 0 0 0 0 0 0 0 0 0 0 0 0 0 0 0 0 0 0 0 0 0 0 0 0 0 0 0 0\n"
          ],
          "name": "stderr"
        },
        {
          "output_type": "stream",
          "text": [
            "INFO:tensorflow:segment_ids: 0 0 0 0 0 0 0 0 0 0 0 0 0 0 0 0 0 0 0 0 0 0 0 0 0 0 0 0 0 0 0 0 0 0 0 0 0 0 0 0 0 0 0 0 0 0 0 0 0 0 0 0 0 0 0 0 0 0 0 0 0 0 0 0 0 0 0 0 0 0 0 0 0 0 0 0 0 0 0 0 0 0 0 0 0 0 0 0 0 0 0 0 0 0 0 0 0 0 0 0 0 0 0 0 0 0 0 0 0 0 0 0 0 0 0 0 0 0 0 0 0 0 0 0 0 0 0 0\n"
          ],
          "name": "stdout"
        },
        {
          "output_type": "stream",
          "text": [
            "INFO:tensorflow:segment_ids: 0 0 0 0 0 0 0 0 0 0 0 0 0 0 0 0 0 0 0 0 0 0 0 0 0 0 0 0 0 0 0 0 0 0 0 0 0 0 0 0 0 0 0 0 0 0 0 0 0 0 0 0 0 0 0 0 0 0 0 0 0 0 0 0 0 0 0 0 0 0 0 0 0 0 0 0 0 0 0 0 0 0 0 0 0 0 0 0 0 0 0 0 0 0 0 0 0 0 0 0 0 0 0 0 0 0 0 0 0 0 0 0 0 0 0 0 0 0 0 0 0 0 0 0 0 0 0 0\n"
          ],
          "name": "stderr"
        },
        {
          "output_type": "stream",
          "text": [
            "INFO:tensorflow:label: 0 (id = 0)\n"
          ],
          "name": "stdout"
        },
        {
          "output_type": "stream",
          "text": [
            "INFO:tensorflow:label: 0 (id = 0)\n"
          ],
          "name": "stderr"
        },
        {
          "output_type": "stream",
          "text": [
            "INFO:tensorflow:*** Example ***\n"
          ],
          "name": "stdout"
        },
        {
          "output_type": "stream",
          "text": [
            "INFO:tensorflow:*** Example ***\n"
          ],
          "name": "stderr"
        },
        {
          "output_type": "stream",
          "text": [
            "INFO:tensorflow:guid: \n"
          ],
          "name": "stdout"
        },
        {
          "output_type": "stream",
          "text": [
            "INFO:tensorflow:guid: \n"
          ],
          "name": "stderr"
        },
        {
          "output_type": "stream",
          "text": [
            "INFO:tensorflow:tokens: [CLS] 2 . — spatial distribution of ui ##t sources in m3 ##3 . the spatial distribution of the ui ##t sources is shown super ##posed on a v image of m3 ##3 from the space telescope guide star survey . the 36 ’ diameter circle shows the field of view of the ui ##t . [SEP]\n"
          ],
          "name": "stdout"
        },
        {
          "output_type": "stream",
          "text": [
            "INFO:tensorflow:tokens: [CLS] 2 . — spatial distribution of ui ##t sources in m3 ##3 . the spatial distribution of the ui ##t sources is shown super ##posed on a v image of m3 ##3 from the space telescope guide star survey . the 36 ’ diameter circle shows the field of view of the ui ##t . [SEP]\n"
          ],
          "name": "stderr"
        },
        {
          "output_type": "stream",
          "text": [
            "INFO:tensorflow:input_ids: 101 1016 1012 1517 13589 4353 1997 21318 2102 4216 1999 29061 2509 1012 1996 13589 4353 1997 1996 21318 2102 4216 2003 3491 3565 19155 2006 1037 1058 3746 1997 29061 2509 2013 1996 2686 12772 5009 2732 5002 1012 1996 4029 1521 6705 4418 3065 1996 2492 1997 3193 1997 1996 21318 2102 1012 102 0 0 0 0 0 0 0 0 0 0 0 0 0 0 0 0 0 0 0 0 0 0 0 0 0 0 0 0 0 0 0 0 0 0 0 0 0 0 0 0 0 0 0 0 0 0 0 0 0 0 0 0 0 0 0 0 0 0 0 0 0 0 0 0 0 0 0 0 0 0 0\n"
          ],
          "name": "stdout"
        },
        {
          "output_type": "stream",
          "text": [
            "INFO:tensorflow:input_ids: 101 1016 1012 1517 13589 4353 1997 21318 2102 4216 1999 29061 2509 1012 1996 13589 4353 1997 1996 21318 2102 4216 2003 3491 3565 19155 2006 1037 1058 3746 1997 29061 2509 2013 1996 2686 12772 5009 2732 5002 1012 1996 4029 1521 6705 4418 3065 1996 2492 1997 3193 1997 1996 21318 2102 1012 102 0 0 0 0 0 0 0 0 0 0 0 0 0 0 0 0 0 0 0 0 0 0 0 0 0 0 0 0 0 0 0 0 0 0 0 0 0 0 0 0 0 0 0 0 0 0 0 0 0 0 0 0 0 0 0 0 0 0 0 0 0 0 0 0 0 0 0 0 0 0 0\n"
          ],
          "name": "stderr"
        },
        {
          "output_type": "stream",
          "text": [
            "INFO:tensorflow:input_mask: 1 1 1 1 1 1 1 1 1 1 1 1 1 1 1 1 1 1 1 1 1 1 1 1 1 1 1 1 1 1 1 1 1 1 1 1 1 1 1 1 1 1 1 1 1 1 1 1 1 1 1 1 1 1 1 1 1 0 0 0 0 0 0 0 0 0 0 0 0 0 0 0 0 0 0 0 0 0 0 0 0 0 0 0 0 0 0 0 0 0 0 0 0 0 0 0 0 0 0 0 0 0 0 0 0 0 0 0 0 0 0 0 0 0 0 0 0 0 0 0 0 0 0 0 0 0 0 0\n"
          ],
          "name": "stdout"
        },
        {
          "output_type": "stream",
          "text": [
            "INFO:tensorflow:input_mask: 1 1 1 1 1 1 1 1 1 1 1 1 1 1 1 1 1 1 1 1 1 1 1 1 1 1 1 1 1 1 1 1 1 1 1 1 1 1 1 1 1 1 1 1 1 1 1 1 1 1 1 1 1 1 1 1 1 0 0 0 0 0 0 0 0 0 0 0 0 0 0 0 0 0 0 0 0 0 0 0 0 0 0 0 0 0 0 0 0 0 0 0 0 0 0 0 0 0 0 0 0 0 0 0 0 0 0 0 0 0 0 0 0 0 0 0 0 0 0 0 0 0 0 0 0 0 0 0\n"
          ],
          "name": "stderr"
        },
        {
          "output_type": "stream",
          "text": [
            "INFO:tensorflow:segment_ids: 0 0 0 0 0 0 0 0 0 0 0 0 0 0 0 0 0 0 0 0 0 0 0 0 0 0 0 0 0 0 0 0 0 0 0 0 0 0 0 0 0 0 0 0 0 0 0 0 0 0 0 0 0 0 0 0 0 0 0 0 0 0 0 0 0 0 0 0 0 0 0 0 0 0 0 0 0 0 0 0 0 0 0 0 0 0 0 0 0 0 0 0 0 0 0 0 0 0 0 0 0 0 0 0 0 0 0 0 0 0 0 0 0 0 0 0 0 0 0 0 0 0 0 0 0 0 0 0\n"
          ],
          "name": "stdout"
        },
        {
          "output_type": "stream",
          "text": [
            "INFO:tensorflow:segment_ids: 0 0 0 0 0 0 0 0 0 0 0 0 0 0 0 0 0 0 0 0 0 0 0 0 0 0 0 0 0 0 0 0 0 0 0 0 0 0 0 0 0 0 0 0 0 0 0 0 0 0 0 0 0 0 0 0 0 0 0 0 0 0 0 0 0 0 0 0 0 0 0 0 0 0 0 0 0 0 0 0 0 0 0 0 0 0 0 0 0 0 0 0 0 0 0 0 0 0 0 0 0 0 0 0 0 0 0 0 0 0 0 0 0 0 0 0 0 0 0 0 0 0 0 0 0 0 0 0\n"
          ],
          "name": "stderr"
        },
        {
          "output_type": "stream",
          "text": [
            "INFO:tensorflow:label: 0 (id = 0)\n"
          ],
          "name": "stdout"
        },
        {
          "output_type": "stream",
          "text": [
            "INFO:tensorflow:label: 0 (id = 0)\n"
          ],
          "name": "stderr"
        },
        {
          "output_type": "stream",
          "text": [
            "INFO:tensorflow:*** Example ***\n"
          ],
          "name": "stdout"
        },
        {
          "output_type": "stream",
          "text": [
            "INFO:tensorflow:*** Example ***\n"
          ],
          "name": "stderr"
        },
        {
          "output_type": "stream",
          "text": [
            "INFO:tensorflow:guid: \n"
          ],
          "name": "stdout"
        },
        {
          "output_type": "stream",
          "text": [
            "INFO:tensorflow:guid: \n"
          ],
          "name": "stderr"
        },
        {
          "output_type": "stream",
          "text": [
            "INFO:tensorflow:tokens: [CLS] 2 — direct plate of ngc 211 ##0 taken by p . ve ##ron and described in mcc ##lin ##tock et al . 1979 . es ##o 3 . 6 m £ / 3 . 0 prime focus camera , exposure time 60 minutes , em ##ulsion il ##a - o with filter g ##g 385 . the poly ##gon at the bottom right represents the border of 8 ##a ( the distribution of [ o m1 ] 450 ##0 ##7 line profiles ) on the same scale as the print . [SEP]\n"
          ],
          "name": "stdout"
        },
        {
          "output_type": "stream",
          "text": [
            "INFO:tensorflow:tokens: [CLS] 2 — direct plate of ngc 211 ##0 taken by p . ve ##ron and described in mcc ##lin ##tock et al . 1979 . es ##o 3 . 6 m £ / 3 . 0 prime focus camera , exposure time 60 minutes , em ##ulsion il ##a - o with filter g ##g 385 . the poly ##gon at the bottom right represents the border of 8 ##a ( the distribution of [ o m1 ] 450 ##0 ##7 line profiles ) on the same scale as the print . [SEP]\n"
          ],
          "name": "stderr"
        },
        {
          "output_type": "stream",
          "text": [
            "INFO:tensorflow:input_ids: 101 1016 1517 3622 5127 1997 27645 19235 2692 2579 2011 1052 1012 2310 4948 1998 2649 1999 23680 4115 17406 3802 2632 1012 3245 1012 9686 2080 1017 1012 1020 1049 1069 1013 1017 1012 1014 3539 3579 4950 1010 7524 2051 3438 2781 1010 7861 23316 6335 2050 1011 1051 2007 11307 1043 2290 24429 1012 1996 26572 7446 2012 1996 3953 2157 5836 1996 3675 1997 1022 2050 1006 1996 4353 1997 1031 1051 23290 1033 10332 2692 2581 2240 17879 1007 2006 1996 2168 4094 2004 1996 6140 1012 102 0 0 0 0 0 0 0 0 0 0 0 0 0 0 0 0 0 0 0 0 0 0 0 0 0 0 0 0 0 0 0 0 0 0\n"
          ],
          "name": "stdout"
        },
        {
          "output_type": "stream",
          "text": [
            "INFO:tensorflow:input_ids: 101 1016 1517 3622 5127 1997 27645 19235 2692 2579 2011 1052 1012 2310 4948 1998 2649 1999 23680 4115 17406 3802 2632 1012 3245 1012 9686 2080 1017 1012 1020 1049 1069 1013 1017 1012 1014 3539 3579 4950 1010 7524 2051 3438 2781 1010 7861 23316 6335 2050 1011 1051 2007 11307 1043 2290 24429 1012 1996 26572 7446 2012 1996 3953 2157 5836 1996 3675 1997 1022 2050 1006 1996 4353 1997 1031 1051 23290 1033 10332 2692 2581 2240 17879 1007 2006 1996 2168 4094 2004 1996 6140 1012 102 0 0 0 0 0 0 0 0 0 0 0 0 0 0 0 0 0 0 0 0 0 0 0 0 0 0 0 0 0 0 0 0 0 0\n"
          ],
          "name": "stderr"
        },
        {
          "output_type": "stream",
          "text": [
            "INFO:tensorflow:input_mask: 1 1 1 1 1 1 1 1 1 1 1 1 1 1 1 1 1 1 1 1 1 1 1 1 1 1 1 1 1 1 1 1 1 1 1 1 1 1 1 1 1 1 1 1 1 1 1 1 1 1 1 1 1 1 1 1 1 1 1 1 1 1 1 1 1 1 1 1 1 1 1 1 1 1 1 1 1 1 1 1 1 1 1 1 1 1 1 1 1 1 1 1 1 1 0 0 0 0 0 0 0 0 0 0 0 0 0 0 0 0 0 0 0 0 0 0 0 0 0 0 0 0 0 0 0 0 0 0\n"
          ],
          "name": "stdout"
        },
        {
          "output_type": "stream",
          "text": [
            "INFO:tensorflow:input_mask: 1 1 1 1 1 1 1 1 1 1 1 1 1 1 1 1 1 1 1 1 1 1 1 1 1 1 1 1 1 1 1 1 1 1 1 1 1 1 1 1 1 1 1 1 1 1 1 1 1 1 1 1 1 1 1 1 1 1 1 1 1 1 1 1 1 1 1 1 1 1 1 1 1 1 1 1 1 1 1 1 1 1 1 1 1 1 1 1 1 1 1 1 1 1 0 0 0 0 0 0 0 0 0 0 0 0 0 0 0 0 0 0 0 0 0 0 0 0 0 0 0 0 0 0 0 0 0 0\n"
          ],
          "name": "stderr"
        },
        {
          "output_type": "stream",
          "text": [
            "INFO:tensorflow:segment_ids: 0 0 0 0 0 0 0 0 0 0 0 0 0 0 0 0 0 0 0 0 0 0 0 0 0 0 0 0 0 0 0 0 0 0 0 0 0 0 0 0 0 0 0 0 0 0 0 0 0 0 0 0 0 0 0 0 0 0 0 0 0 0 0 0 0 0 0 0 0 0 0 0 0 0 0 0 0 0 0 0 0 0 0 0 0 0 0 0 0 0 0 0 0 0 0 0 0 0 0 0 0 0 0 0 0 0 0 0 0 0 0 0 0 0 0 0 0 0 0 0 0 0 0 0 0 0 0 0\n"
          ],
          "name": "stdout"
        },
        {
          "output_type": "stream",
          "text": [
            "INFO:tensorflow:segment_ids: 0 0 0 0 0 0 0 0 0 0 0 0 0 0 0 0 0 0 0 0 0 0 0 0 0 0 0 0 0 0 0 0 0 0 0 0 0 0 0 0 0 0 0 0 0 0 0 0 0 0 0 0 0 0 0 0 0 0 0 0 0 0 0 0 0 0 0 0 0 0 0 0 0 0 0 0 0 0 0 0 0 0 0 0 0 0 0 0 0 0 0 0 0 0 0 0 0 0 0 0 0 0 0 0 0 0 0 0 0 0 0 0 0 0 0 0 0 0 0 0 0 0 0 0 0 0 0 0\n"
          ],
          "name": "stderr"
        },
        {
          "output_type": "stream",
          "text": [
            "INFO:tensorflow:label: 0 (id = 0)\n"
          ],
          "name": "stdout"
        },
        {
          "output_type": "stream",
          "text": [
            "INFO:tensorflow:label: 0 (id = 0)\n"
          ],
          "name": "stderr"
        },
        {
          "output_type": "stream",
          "text": [
            "INFO:tensorflow:Calling model_fn.\n"
          ],
          "name": "stdout"
        },
        {
          "output_type": "stream",
          "text": [
            "INFO:tensorflow:Calling model_fn.\n"
          ],
          "name": "stderr"
        },
        {
          "output_type": "stream",
          "text": [
            "INFO:tensorflow:Saver not created because there are no variables in the graph to restore\n"
          ],
          "name": "stdout"
        },
        {
          "output_type": "stream",
          "text": [
            "INFO:tensorflow:Saver not created because there are no variables in the graph to restore\n"
          ],
          "name": "stderr"
        },
        {
          "output_type": "stream",
          "text": [
            "INFO:tensorflow:Done calling model_fn.\n"
          ],
          "name": "stdout"
        },
        {
          "output_type": "stream",
          "text": [
            "INFO:tensorflow:Done calling model_fn.\n"
          ],
          "name": "stderr"
        },
        {
          "output_type": "stream",
          "text": [
            "INFO:tensorflow:Graph was finalized.\n"
          ],
          "name": "stdout"
        },
        {
          "output_type": "stream",
          "text": [
            "INFO:tensorflow:Graph was finalized.\n"
          ],
          "name": "stderr"
        },
        {
          "output_type": "stream",
          "text": [
            "INFO:tensorflow:Restoring parameters from /gdrive/My Drive/Colab Notebooks/Independent study/BERT/Astronomical_Objects_Labels_Classifier/model.ckpt-705\n"
          ],
          "name": "stdout"
        },
        {
          "output_type": "stream",
          "text": [
            "INFO:tensorflow:Restoring parameters from /gdrive/My Drive/Colab Notebooks/Independent study/BERT/Astronomical_Objects_Labels_Classifier/model.ckpt-705\n"
          ],
          "name": "stderr"
        },
        {
          "output_type": "stream",
          "text": [
            "INFO:tensorflow:Running local_init_op.\n"
          ],
          "name": "stdout"
        },
        {
          "output_type": "stream",
          "text": [
            "INFO:tensorflow:Running local_init_op.\n"
          ],
          "name": "stderr"
        },
        {
          "output_type": "stream",
          "text": [
            "INFO:tensorflow:Done running local_init_op.\n"
          ],
          "name": "stdout"
        },
        {
          "output_type": "stream",
          "text": [
            "INFO:tensorflow:Done running local_init_op.\n"
          ],
          "name": "stderr"
        }
      ]
    },
    {
      "cell_type": "code",
      "metadata": {
        "id": "uCHFigVJRu0m",
        "outputId": "55509da7-fc17-4e1b-d225-013a9a9e89d4",
        "colab": {
          "base_uri": "https://localhost:8080/",
          "height": 141
        }
      },
      "source": [
        "predictions[3]"
      ],
      "execution_count": 118,
      "outputs": [
        {
          "output_type": "execute_result",
          "data": {
            "text/plain": [
              "(' 2.—Spatial distribution of UIT sources in M33. The spatial distribution of the UIT sources is shown superposed on a V image of M33 from the Space Telescope Guide Star survey. The 36’ diameter circle shows the field of view of the UIT.',\n",
              " array([-6.541191  , -3.9985657 , -1.0872662 , -4.3927836 , -0.69721776,\n",
              "        -3.2802985 , -3.878032  , -5.058533  , -3.8603547 , -3.3689225 ,\n",
              "        -4.374641  ], dtype=float32),\n",
              " 4,\n",
              " 'RADECrel')"
            ]
          },
          "metadata": {
            "tags": []
          },
          "execution_count": 118
        }
      ]
    },
    {
      "cell_type": "code",
      "metadata": {
        "id": "YEDUBnrlTiOt",
        "outputId": "55236f70-2676-40eb-dcab-f87e96df7e38",
        "colab": {
          "base_uri": "https://localhost:8080/",
          "height": 55
        }
      },
      "source": [
        "print(test_sentences[0] )"
      ],
      "execution_count": 119,
      "outputs": [
        {
          "output_type": "stream",
          "text": [
            " 2—(a) Gray-scale reproduction of the B, band image of the field irl with a position matched subsection of the [RAS 100 um contour map overlaid. Dark areas on the black and white image correspond to regions of high optical surface brightness. Spacing between the 100 um contours is 0.6 MJy sr~‘, and brightness levels decrease monotonically from the NE corner of the field to the SW. Arrows mark the directions N and E, and the line segment represents 1’. (b) Same as (a), showing the R band image of irl. This image extends further to the west than the B, image shown in (a). (c) Same as (a), showing the B, band image of ir2. Contours are spaced by 0.2 MJy sr~ 1 There is a bright “tongue ”-shaped feature near the center of the field and the intensity falls off toward the N, E and W. (d) Same as (c) showing the R band image of ir2. (e) Same as (a) showing the B, band image of ir3. Contour interval is 0.4 MJy sr ~1!_ The 100 um brightness decreases from E to W. The B, image covers only the western half of the (f) R and (g) I image mosaics of the same field. (f) Same as (a) showing the R band image of ir3. Spacing between adjacent contours is 0.4 MJy sr~!. There is a patch of high 100 ym emission near the center of the image mosaic, falling off toward the W and the NE. The NE portion of the image shows a ridge of high far-infrared brightness elongated in the SE-NW direction. (g) Same as (f), showing the I band image of ir3. (h) Same as (a), showing the R band image of ir4. Contour interval is 0.3 MJy sr~ 1 The 100 ym contours show a bright knot near the W edge of the mosaic, in the N half. The brightness falls off toward the NE and E, and decreases more gradually toward the S. (i) Same as (h), showing the J band image of ir4. Note: this image covers only the region corresponding to the northern half of the R band image mosaic in (h).\n"
          ],
          "name": "stdout"
        }
      ]
    },
    {
      "cell_type": "code",
      "metadata": {
        "id": "AEvKLH0yUYSW",
        "outputId": "bf5d5d23-7bf2-4312-b1d5-41cf86c428be",
        "colab": {
          "base_uri": "https://localhost:8080/",
          "height": 52
        }
      },
      "source": [
        "print(test_data[test_data['caption'] == test_sentences[3]])"
      ],
      "execution_count": 120,
      "outputs": [
        {
          "output_type": "stream",
          "text": [
            "                                                caption class\n",
            "3188   2.—Spatial distribution of UIT sources in M33...     9\n"
          ],
          "name": "stdout"
        }
      ]
    },
    {
      "cell_type": "code",
      "metadata": {
        "id": "oaWL3EPjZGFz"
      },
      "source": [
        "def accuracy_prediction(predictions, test_data, test_sentences):\n",
        "  correct=0\n",
        "  for i in range(len(predictions)):\n",
        "     if test_data[test_data['caption'] == test_sentences[i]]['class'].values[0] == predictions[i][2]:\n",
        "       correct+=1\n",
        "  return np.true_divide(correct, len(test_data))*100"
      ],
      "execution_count": 108,
      "outputs": []
    },
    {
      "cell_type": "code",
      "metadata": {
        "id": "cYBTOBeCS-pE",
        "outputId": "d0ad1433-9747-4f9e-8e95-ebf9701ab360",
        "colab": {
          "base_uri": "https://localhost:8080/",
          "height": 35
        }
      },
      "source": [
        "#Calculating test accuracy\n",
        "test_accuracy= accuracy_prediction(predictions, test_data, test_sentences)\n",
        "print(test_accuracy)"
      ],
      "execution_count": 122,
      "outputs": [
        {
          "output_type": "stream",
          "text": [
            "65.929203539823\n"
          ],
          "name": "stdout"
        }
      ]
    }
  ]
}