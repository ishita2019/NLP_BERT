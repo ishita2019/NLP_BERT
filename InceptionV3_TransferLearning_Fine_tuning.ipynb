{
  "nbformat": 4,
  "nbformat_minor": 0,
  "metadata": {
    "colab": {
      "name": "InceptionV3_TransferLearning_Fine_tuning.ipynb",
      "provenance": []
    },
    "kernelspec": {
      "name": "python3",
      "display_name": "Python 3"
    }
  },
  "cells": [
    {
      "cell_type": "code",
      "metadata": {
        "id": "CsAGlXljPItv",
        "colab": {
          "base_uri": "https://localhost:8080/"
        },
        "outputId": "c63cd79f-b1ae-4b92-db90-678de95b4936"
      },
      "source": [
        "from google.colab import drive\n",
        "drive.mount('/content/gdrive',force_remount=True)"
      ],
      "execution_count": null,
      "outputs": [
        {
          "output_type": "stream",
          "text": [
            "Mounted at /content/gdrive\n"
          ],
          "name": "stdout"
        }
      ]
    },
    {
      "cell_type": "code",
      "metadata": {
        "id": "EQmdDIbSPuJB",
        "colab": {
          "base_uri": "https://localhost:8080/",
          "height": 35
        },
        "outputId": "0412dfe2-ad6f-4148-a46b-8ed37e96cac6"
      },
      "source": [
        "import os\n",
        "from sys import path\n",
        "os.getcwd()\n"
      ],
      "execution_count": null,
      "outputs": [
        {
          "output_type": "execute_result",
          "data": {
            "application/vnd.google.colaboratory.intrinsic+json": {
              "type": "string"
            },
            "text/plain": [
              "'/content'"
            ]
          },
          "metadata": {
            "tags": []
          },
          "execution_count": 2
        }
      ]
    },
    {
      "cell_type": "code",
      "metadata": {
        "id": "nSHllPbOP6xV"
      },
      "source": [
        "os.chdir(\"/content/gdrive/My Drive/Colab Notebooks/Independent study/\")\n",
        "path.append(\"/content/gdrive/My\\ Drive/Colab\\ Notebooks/Independent\\ study/\")"
      ],
      "execution_count": null,
      "outputs": []
    },
    {
      "cell_type": "code",
      "metadata": {
        "id": "lcKcEIzlP8gR"
      },
      "source": [
        "import glob\n",
        "import argparse\n",
        "import matplotlib.pyplot as plt\n",
        "\n",
        "from keras import __version__\n",
        "from keras.applications.inception_v3 import InceptionV3, preprocess_input\n",
        "from keras.models import Model\n",
        "from keras.layers import Dense, GlobalAveragePooling2D\n",
        "from keras.preprocessing.image import ImageDataGenerator\n",
        "from keras.optimizers import SGD"
      ],
      "execution_count": null,
      "outputs": []
    },
    {
      "cell_type": "code",
      "metadata": {
        "id": "WIjIYd2qjcHD"
      },
      "source": [
        "import numpy as np\n",
        "from PIL import Image\n",
        "from keras.preprocessing import image\n",
        "from keras.models import load_model\n"
      ],
      "execution_count": null,
      "outputs": []
    },
    {
      "cell_type": "code",
      "metadata": {
        "id": "0625TOJxfTFG"
      },
      "source": [
        "IM_WIDTH, IM_HEIGHT= 299,299 #The size is fixed for InceptionV3\n",
        "NB_EPOCHS=3\n",
        "BAT_SIZE=32\n",
        "FC_SIZE= 1024\n",
        "NB_IV3_LAYERS_TO_FREEZE= 172"
      ],
      "execution_count": null,
      "outputs": []
    },
    {
      "cell_type": "code",
      "metadata": {
        "id": "eBHYaQVqftVa"
      },
      "source": [
        "def get_nb_files(directory):\n",
        "  \"\"\" Get the number of files by searching directory recursively\"\"\"\n",
        "  if not os.path.exists(directory):\n",
        "    return 0\n",
        "  cnt=0\n",
        "  for r, dirs, files in os.walk(directory):\n",
        "    for dir in dirs:\n",
        "      cnt+=len(glob.glob(os.path.join(r,dr+\"/*\")))\n",
        "  return cnt"
      ],
      "execution_count": null,
      "outputs": []
    },
    {
      "cell_type": "code",
      "metadata": {
        "id": "SH6rP8WGRdWQ"
      },
      "source": [
        "# Freeze all layers and compile the model\n",
        "\n",
        "# def transfer_learn_setUp(model, base_model):\n",
        "#   for layer in base_model.layers:\n",
        "#     layer.trainable=False\n",
        "#   model.compile(optimizer=\"rmsprop\", loss=\"categorical_crossentropy\", metrics=[\"accuracy\"])\n",
        "  "
      ],
      "execution_count": null,
      "outputs": []
    },
    {
      "cell_type": "code",
      "metadata": {
        "id": "g2igsGxUR96Y"
      },
      "source": [
        "# Add new last layer to the model(convnet) for new dataset classes\n",
        "def add_last_layer(nb_classes, base_model):\n",
        "\n",
        "      '''Args: \n",
        "      base_model: Keras Model excluding the final dense layer\n",
        "      nb_classes: No of classes \n",
        "\n",
        "      Return:\n",
        "      New Keras model including the last layer'''\n",
        "\n",
        "      x=base_model.output\n",
        "      x= GlobalAveragePooling2D()(x)\n",
        "      x=Dense(FC_Size, activation='relu')(x) # This is where we are adding new FC layer, with random initialization\n",
        "      predictions= Dense(nb_classes, activation='softmax')(x)\n",
        "      model= Model(input=base_model.input, output=predictions)\n",
        "      return model\n"
      ],
      "execution_count": null,
      "outputs": []
    },
    {
      "cell_type": "code",
      "metadata": {
        "id": "pd5paNrPUmcz"
      },
      "source": [
        "# For fine tuning we make the top layers of the base model trainable and freeze the bottom NB_IV3_LAYERS\n",
        "def fine_tune_setup(model):\n",
        "    # NB_IV3_LAYERS corresponds to the top 2 inception blocks in the inceptionv3 architecture\n",
        "    # Args: \n",
        "    # model: Keras model\n",
        "\n",
        "    for layer in model.layers[: NB_IV3_LAYERS_TO_FREEZE]:\n",
        "      layer.trainable=False\n",
        "    for layer in model.layers[NB_IV3_LAYERS_TO_FREEZE:]:\n",
        "      layer.trainable=True\n",
        "\n",
        "    model.compile(optimizer=SGD(learning_rate=0.0001, momentum=0.9), loss='categorical_crossentropy', metrics=['accuracy'])\n"
      ],
      "execution_count": null,
      "outputs": []
    },
    {
      "cell_type": "code",
      "metadata": {
        "id": "wcNw2Ui5WlHY"
      },
      "source": [
        "#data prep\n",
        "def train(args):\n",
        "  nb_train_samples= get_nb_files(args.train_dir)\n",
        "  nb_classes= len(glob.glob(args.train_dir+\"/*\"))\n",
        "  nb_val_samples= get_nb_files(args.val_dir)\n",
        "  nb_epoch=int(args.nb_epoch)\n",
        "  batch_size=int(args.batch_size)\n",
        "\n",
        "  #data prep\n",
        "  train_dataGen=ImageDataGenerator(preprocessing_function=preprocess_input, \n",
        "                                   rotation_range=30, width_shift_range=0.2, height_shift_range=0.2,\n",
        "                                   shear_range=0.2,zoom_range=0.2,horizontal_flip=True)\n",
        "  test_dataGen=ImageDataGenerator(preprocessing_function=preprocess_input, \n",
        "                                   rotation_range=30, width_shift_range=0.2, height_shift_range=0.2,\n",
        "                                   shear_range=0.2,zoom_range=0.2,horizontal_flip=True)\n",
        "  \n",
        "  train_generator= train_dataGen.flow_from_directory(args.train_dir, target_size=(IM_WIDTH,IM_HEIGHT), batch_size=batch_size)\n",
        "  val_generator= test_dataGen.flow_from_directory(args.val_dir,target_size=(IM_WIDTH,IM_HEIGHT), batch_size=batch_size )\n",
        "\n",
        "  #model setup\n",
        "\n",
        "  base_model= InceptionV3(weights='imagenet', include_top=False) # As we are not using the default final FC layer and adding our own\n",
        "  model= add_last_layer(base_model,nb_classes)\n",
        "\n",
        "  # this funtion call is to prepare the mdodel for tranfer learning\n",
        "  fine_tune_setup(model)\n",
        "\n",
        "  history= model.fit_generator(train_generator, nb_epoch=nb_epoch, samples_per_epoch=nb_train_samples,validation_data=validation_generator,\n",
        "                               nb_val_samples=nb_val_samples, class_weight='auto')\n",
        "  \n",
        "  model.save(args.output_model_file)\n",
        "\n",
        "  if args.plot:\n",
        "    plot_training(history)\n",
        "  "
      ],
      "execution_count": null,
      "outputs": []
    },
    {
      "cell_type": "code",
      "metadata": {
        "id": "pYVHfvdtc1jk"
      },
      "source": [
        "def plot_training(history):\n",
        "  acc=history.history['acc']\n",
        "  val_acc=history.history['val_acc']\n",
        "  loss= history.history['loss']\n",
        "  val_loss=hitory.history['val_loss']\n",
        "  epochs=range(len(acc))\n",
        "\n",
        "  plt.plot(epochs, acc, 'r.')\n",
        "  plt.plot(epochs, val_acc,'r')\n",
        "  plt.tile(\"Training and Validation accuracy\")\n",
        "\n",
        "  plt.figure()\n",
        "  plt.plot(epochs, loss, 'r.')\n",
        "  plt.plot(epochs, val_loss, 'r-')\n",
        "  plt.title(\"Training and validation Loss\")\n",
        "\n",
        "  plt.show()"
      ],
      "execution_count": null,
      "outputs": []
    },
    {
      "cell_type": "code",
      "metadata": {
        "id": "mXR8a_gEiovT"
      },
      "source": [
        "def predict(model, image, target_size):\n",
        "  \"\"\" Run this prediction function on image\n",
        "  Args:\n",
        "  model: inceptionv3-fit model in this case (or can pass any keras model)\n",
        "  image: PIL format image\n",
        "  target_size: (u,v) tuple\n",
        "  Returns:\n",
        "  List of predicted labels and their probabilities\n",
        "  \"\"\"\n",
        "  if image.size!=target_size:\n",
        "    img= image.resize(target_size)\n",
        "  \n",
        "  x=image.img_to_array(image)\n",
        "  x-np.expand_dims(x, axis=0)\n",
        "  x=preprocess_input(x)\n",
        "  preds= model.predict(x)\n",
        "\n",
        "  return preds[0]"
      ],
      "execution_count": null,
      "outputs": []
    },
    {
      "cell_type": "code",
      "metadata": {
        "id": "jp9jh_SffRsv",
        "colab": {
          "base_uri": "https://localhost:8080/",
          "height": 218
        },
        "outputId": "5c7630ed-6163-42a2-c929-b8f91ab483b4"
      },
      "source": [
        "if __name__==\"__main__\":\n",
        "  a=argparse.ArgumentParser()\n",
        "  a.add_argument(\"--train_dir\")\n",
        "  a.add_argument(\"--val_dir\")\n",
        "  a.add_argument(\"--nb_epoch\", default=NB_EPOCHS)\n",
        "  a.add_argument(\"--batch_size\", default=BAT_SIZE)\n",
        "  a.add_argument(\"--output_model_file\", default=\"inceptionv3-ft.model\")\n",
        "  a.add_argument(\"--plot\", action=\"store_true\")\n",
        "\n",
        "  args=a.parse_args()\n",
        "  if args.train_dir is None or args.val_dir is None:\n",
        "      a.print_help()\n",
        "      sys.exit(1)\n",
        "  if (not os.path.exists(args.train_dir)) or (not os.path.exists(args.val_dir)):\n",
        "    print(\"Directories do not exist\")\n",
        "    sys.exit(1)"
      ],
      "execution_count": null,
      "outputs": [
        {
          "output_type": "stream",
          "text": [
            "usage: ipykernel_launcher.py [-h] [--train_dir TRAIN_DIR] [--val_dir VAL_DIR]\n",
            "                             [--nb_epoch NB_EPOCH] [--batch_size BATCH_SIZE]\n",
            "                             [--output_model_file OUTPUT_MODEL_FILE] [--plot]\n",
            "ipykernel_launcher.py: error: unrecognized arguments: -f /root/.local/share/jupyter/runtime/kernel-f5473318-1725-4e12-8a6e-0756d55d8b03.json\n"
          ],
          "name": "stderr"
        },
        {
          "output_type": "error",
          "ename": "SystemExit",
          "evalue": "ignored",
          "traceback": [
            "An exception has occurred, use %tb to see the full traceback.\n",
            "\u001b[0;31mSystemExit\u001b[0m\u001b[0;31m:\u001b[0m 2\n"
          ]
        },
        {
          "output_type": "stream",
          "text": [
            "/usr/local/lib/python3.6/dist-packages/IPython/core/interactiveshell.py:2890: UserWarning: To exit: use 'exit', 'quit', or Ctrl-D.\n",
            "  warn(\"To exit: use 'exit', 'quit', or Ctrl-D.\", stacklevel=1)\n"
          ],
          "name": "stderr"
        }
      ]
    },
    {
      "cell_type": "code",
      "metadata": {
        "id": "pSnSmoHphQ0U"
      },
      "source": [
        "\n"
      ],
      "execution_count": null,
      "outputs": []
    }
  ]
}